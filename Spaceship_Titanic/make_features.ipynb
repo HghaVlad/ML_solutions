{
 "cells": [
  {
   "cell_type": "code",
   "execution_count": 1,
   "metadata": {
    "collapsed": true,
    "ExecuteTime": {
     "start_time": "2023-06-14T10:38:47.241892Z",
     "end_time": "2023-06-14T10:38:48.860735Z"
    }
   },
   "outputs": [],
   "source": [
    "import pandas as pd\n",
    "import numpy as np"
   ]
  },
  {
   "cell_type": "code",
   "execution_count": 110,
   "outputs": [],
   "source": [
    "df = pd.read_csv(\"test.csv\")"
   ],
   "metadata": {
    "collapsed": false,
    "ExecuteTime": {
     "start_time": "2023-06-14T11:17:40.897716Z",
     "end_time": "2023-06-14T11:17:40.947717Z"
    }
   }
  },
  {
   "cell_type": "code",
   "execution_count": 3,
   "outputs": [
    {
     "name": "stdout",
     "output_type": "stream",
     "text": [
      "<class 'pandas.core.frame.DataFrame'>\n",
      "RangeIndex: 8693 entries, 0 to 8692\n",
      "Data columns (total 14 columns):\n",
      " #   Column        Non-Null Count  Dtype  \n",
      "---  ------        --------------  -----  \n",
      " 0   PassengerId   8693 non-null   object \n",
      " 1   HomePlanet    8492 non-null   object \n",
      " 2   CryoSleep     8476 non-null   object \n",
      " 3   Cabin         8494 non-null   object \n",
      " 4   Destination   8511 non-null   object \n",
      " 5   Age           8514 non-null   float64\n",
      " 6   VIP           8490 non-null   object \n",
      " 7   RoomService   8512 non-null   float64\n",
      " 8   FoodCourt     8510 non-null   float64\n",
      " 9   ShoppingMall  8485 non-null   float64\n",
      " 10  Spa           8510 non-null   float64\n",
      " 11  VRDeck        8505 non-null   float64\n",
      " 12  Name          8493 non-null   object \n",
      " 13  Transported   8693 non-null   bool   \n",
      "dtypes: bool(1), float64(6), object(7)\n",
      "memory usage: 891.5+ KB\n"
     ]
    }
   ],
   "source": [
    "df.info()"
   ],
   "metadata": {
    "collapsed": false,
    "ExecuteTime": {
     "start_time": "2023-06-14T10:39:58.374509Z",
     "end_time": "2023-06-14T10:39:58.506803Z"
    }
   }
  },
  {
   "cell_type": "code",
   "execution_count": 4,
   "outputs": [
    {
     "data": {
      "text/plain": "  PassengerId HomePlanet CryoSleep  Cabin    Destination   Age    VIP  \\\n0     0001_01     Europa     False  B/0/P    TRAPPIST-1e  39.0  False   \n1     0002_01      Earth     False  F/0/S    TRAPPIST-1e  24.0  False   \n2     0003_01     Europa     False  A/0/S    TRAPPIST-1e  58.0   True   \n3     0003_02     Europa     False  A/0/S    TRAPPIST-1e  33.0  False   \n4     0004_01      Earth     False  F/1/S    TRAPPIST-1e  16.0  False   \n5     0005_01      Earth     False  F/0/P  PSO J318.5-22  44.0  False   \n6     0006_01      Earth     False  F/2/S    TRAPPIST-1e  26.0  False   \n7     0006_02      Earth      True  G/0/S    TRAPPIST-1e  28.0  False   \n8     0007_01      Earth     False  F/3/S    TRAPPIST-1e  35.0  False   \n9     0008_01     Europa      True  B/1/P    55 Cancri e  14.0  False   \n\n   RoomService  FoodCourt  ShoppingMall     Spa  VRDeck                Name  \\\n0          0.0        0.0           0.0     0.0     0.0     Maham Ofracculy   \n1        109.0        9.0          25.0   549.0    44.0        Juanna Vines   \n2         43.0     3576.0           0.0  6715.0    49.0       Altark Susent   \n3          0.0     1283.0         371.0  3329.0   193.0        Solam Susent   \n4        303.0       70.0         151.0   565.0     2.0   Willy Santantines   \n5          0.0      483.0           0.0   291.0     0.0   Sandie Hinetthews   \n6         42.0     1539.0           3.0     0.0     0.0  Billex Jacostaffey   \n7          0.0        0.0           0.0     0.0     NaN  Candra Jacostaffey   \n8          0.0      785.0          17.0   216.0     0.0       Andona Beston   \n9          0.0        0.0           0.0     0.0     0.0      Erraiam Flatic   \n\n   Transported  \n0        False  \n1         True  \n2        False  \n3        False  \n4         True  \n5         True  \n6         True  \n7         True  \n8         True  \n9         True  ",
      "text/html": "<div>\n<style scoped>\n    .dataframe tbody tr th:only-of-type {\n        vertical-align: middle;\n    }\n\n    .dataframe tbody tr th {\n        vertical-align: top;\n    }\n\n    .dataframe thead th {\n        text-align: right;\n    }\n</style>\n<table border=\"1\" class=\"dataframe\">\n  <thead>\n    <tr style=\"text-align: right;\">\n      <th></th>\n      <th>PassengerId</th>\n      <th>HomePlanet</th>\n      <th>CryoSleep</th>\n      <th>Cabin</th>\n      <th>Destination</th>\n      <th>Age</th>\n      <th>VIP</th>\n      <th>RoomService</th>\n      <th>FoodCourt</th>\n      <th>ShoppingMall</th>\n      <th>Spa</th>\n      <th>VRDeck</th>\n      <th>Name</th>\n      <th>Transported</th>\n    </tr>\n  </thead>\n  <tbody>\n    <tr>\n      <th>0</th>\n      <td>0001_01</td>\n      <td>Europa</td>\n      <td>False</td>\n      <td>B/0/P</td>\n      <td>TRAPPIST-1e</td>\n      <td>39.0</td>\n      <td>False</td>\n      <td>0.0</td>\n      <td>0.0</td>\n      <td>0.0</td>\n      <td>0.0</td>\n      <td>0.0</td>\n      <td>Maham Ofracculy</td>\n      <td>False</td>\n    </tr>\n    <tr>\n      <th>1</th>\n      <td>0002_01</td>\n      <td>Earth</td>\n      <td>False</td>\n      <td>F/0/S</td>\n      <td>TRAPPIST-1e</td>\n      <td>24.0</td>\n      <td>False</td>\n      <td>109.0</td>\n      <td>9.0</td>\n      <td>25.0</td>\n      <td>549.0</td>\n      <td>44.0</td>\n      <td>Juanna Vines</td>\n      <td>True</td>\n    </tr>\n    <tr>\n      <th>2</th>\n      <td>0003_01</td>\n      <td>Europa</td>\n      <td>False</td>\n      <td>A/0/S</td>\n      <td>TRAPPIST-1e</td>\n      <td>58.0</td>\n      <td>True</td>\n      <td>43.0</td>\n      <td>3576.0</td>\n      <td>0.0</td>\n      <td>6715.0</td>\n      <td>49.0</td>\n      <td>Altark Susent</td>\n      <td>False</td>\n    </tr>\n    <tr>\n      <th>3</th>\n      <td>0003_02</td>\n      <td>Europa</td>\n      <td>False</td>\n      <td>A/0/S</td>\n      <td>TRAPPIST-1e</td>\n      <td>33.0</td>\n      <td>False</td>\n      <td>0.0</td>\n      <td>1283.0</td>\n      <td>371.0</td>\n      <td>3329.0</td>\n      <td>193.0</td>\n      <td>Solam Susent</td>\n      <td>False</td>\n    </tr>\n    <tr>\n      <th>4</th>\n      <td>0004_01</td>\n      <td>Earth</td>\n      <td>False</td>\n      <td>F/1/S</td>\n      <td>TRAPPIST-1e</td>\n      <td>16.0</td>\n      <td>False</td>\n      <td>303.0</td>\n      <td>70.0</td>\n      <td>151.0</td>\n      <td>565.0</td>\n      <td>2.0</td>\n      <td>Willy Santantines</td>\n      <td>True</td>\n    </tr>\n    <tr>\n      <th>5</th>\n      <td>0005_01</td>\n      <td>Earth</td>\n      <td>False</td>\n      <td>F/0/P</td>\n      <td>PSO J318.5-22</td>\n      <td>44.0</td>\n      <td>False</td>\n      <td>0.0</td>\n      <td>483.0</td>\n      <td>0.0</td>\n      <td>291.0</td>\n      <td>0.0</td>\n      <td>Sandie Hinetthews</td>\n      <td>True</td>\n    </tr>\n    <tr>\n      <th>6</th>\n      <td>0006_01</td>\n      <td>Earth</td>\n      <td>False</td>\n      <td>F/2/S</td>\n      <td>TRAPPIST-1e</td>\n      <td>26.0</td>\n      <td>False</td>\n      <td>42.0</td>\n      <td>1539.0</td>\n      <td>3.0</td>\n      <td>0.0</td>\n      <td>0.0</td>\n      <td>Billex Jacostaffey</td>\n      <td>True</td>\n    </tr>\n    <tr>\n      <th>7</th>\n      <td>0006_02</td>\n      <td>Earth</td>\n      <td>True</td>\n      <td>G/0/S</td>\n      <td>TRAPPIST-1e</td>\n      <td>28.0</td>\n      <td>False</td>\n      <td>0.0</td>\n      <td>0.0</td>\n      <td>0.0</td>\n      <td>0.0</td>\n      <td>NaN</td>\n      <td>Candra Jacostaffey</td>\n      <td>True</td>\n    </tr>\n    <tr>\n      <th>8</th>\n      <td>0007_01</td>\n      <td>Earth</td>\n      <td>False</td>\n      <td>F/3/S</td>\n      <td>TRAPPIST-1e</td>\n      <td>35.0</td>\n      <td>False</td>\n      <td>0.0</td>\n      <td>785.0</td>\n      <td>17.0</td>\n      <td>216.0</td>\n      <td>0.0</td>\n      <td>Andona Beston</td>\n      <td>True</td>\n    </tr>\n    <tr>\n      <th>9</th>\n      <td>0008_01</td>\n      <td>Europa</td>\n      <td>True</td>\n      <td>B/1/P</td>\n      <td>55 Cancri e</td>\n      <td>14.0</td>\n      <td>False</td>\n      <td>0.0</td>\n      <td>0.0</td>\n      <td>0.0</td>\n      <td>0.0</td>\n      <td>0.0</td>\n      <td>Erraiam Flatic</td>\n      <td>True</td>\n    </tr>\n  </tbody>\n</table>\n</div>"
     },
     "execution_count": 4,
     "metadata": {},
     "output_type": "execute_result"
    }
   ],
   "source": [
    "df.head(10)"
   ],
   "metadata": {
    "collapsed": false,
    "ExecuteTime": {
     "start_time": "2023-06-11T22:56:08.102214Z",
     "end_time": "2023-06-11T22:56:08.142776Z"
    }
   }
  },
  {
   "cell_type": "code",
   "execution_count": 235,
   "outputs": [],
   "source": [
    "data = df.copy()"
   ],
   "metadata": {
    "collapsed": false,
    "ExecuteTime": {
     "start_time": "2023-06-07T20:28:44.802893Z",
     "end_time": "2023-06-07T20:28:44.817893Z"
    }
   }
  },
  {
   "cell_type": "code",
   "execution_count": 236,
   "outputs": [
    {
     "name": "stdout",
     "output_type": "stream",
     "text": [
      "<class 'pandas.core.frame.DataFrame'>\n",
      "RangeIndex: 8693 entries, 0 to 8692\n",
      "Data columns (total 14 columns):\n",
      " #   Column        Non-Null Count  Dtype  \n",
      "---  ------        --------------  -----  \n",
      " 0   PassengerId   8693 non-null   object \n",
      " 1   HomePlanet    8492 non-null   object \n",
      " 2   CryoSleep     8476 non-null   object \n",
      " 3   Cabin         8494 non-null   object \n",
      " 4   Destination   8511 non-null   object \n",
      " 5   Age           8514 non-null   float64\n",
      " 6   VIP           8490 non-null   object \n",
      " 7   RoomService   8512 non-null   float64\n",
      " 8   FoodCourt     8510 non-null   float64\n",
      " 9   ShoppingMall  8485 non-null   float64\n",
      " 10  Spa           8510 non-null   float64\n",
      " 11  VRDeck        8505 non-null   float64\n",
      " 12  Name          8493 non-null   object \n",
      " 13  Transported   8693 non-null   bool   \n",
      "dtypes: bool(1), float64(6), object(7)\n",
      "memory usage: 891.5+ KB\n"
     ]
    }
   ],
   "source": [
    "data.info()"
   ],
   "metadata": {
    "collapsed": false,
    "ExecuteTime": {
     "start_time": "2023-06-07T20:28:46.379377Z",
     "end_time": "2023-06-07T20:28:46.403374Z"
    }
   }
  },
  {
   "cell_type": "code",
   "execution_count": 112,
   "outputs": [],
   "source": [
    "#data['Transported'] = -1 - for test"
   ],
   "metadata": {
    "collapsed": false,
    "ExecuteTime": {
     "start_time": "2023-06-07T13:01:40.674836Z",
     "end_time": "2023-06-07T13:01:40.702867Z"
    }
   }
  },
  {
   "cell_type": "markdown",
   "source": [
    "#### Заполняем nan средними значениями"
   ],
   "metadata": {
    "collapsed": false
   }
  },
  {
   "cell_type": "code",
   "execution_count": 163,
   "outputs": [
    {
     "data": {
      "text/plain": "HomePlanet\nEarth     4803\nEuropa    2131\nMars      1759\nName: count, dtype: int64"
     },
     "execution_count": 163,
     "metadata": {},
     "output_type": "execute_result"
    }
   ],
   "source": [
    "data[data['HomePlanet'].isna() == False]['HomePlanet'].value_counts()"
   ],
   "metadata": {
    "collapsed": false,
    "ExecuteTime": {
     "start_time": "2023-06-07T20:20:29.566351Z",
     "end_time": "2023-06-07T20:20:29.582349Z"
    }
   }
  },
  {
   "cell_type": "code",
   "execution_count": 162,
   "outputs": [
    {
     "data": {
      "text/plain": "Series([], Name: HomePlanet, dtype: object)"
     },
     "execution_count": 162,
     "metadata": {},
     "output_type": "execute_result"
    }
   ],
   "source": [
    "data[data['HomePlanet'].isna()]['HomePlanet']"
   ],
   "metadata": {
    "collapsed": false,
    "ExecuteTime": {
     "start_time": "2023-06-07T20:20:27.234591Z",
     "end_time": "2023-06-07T20:20:27.282767Z"
    }
   }
  },
  {
   "cell_type": "code",
   "execution_count": 237,
   "outputs": [],
   "source": [
    "data.loc[data['HomePlanet'].isna(), \"HomePlanet\"] = 'Earth'"
   ],
   "metadata": {
    "collapsed": false,
    "ExecuteTime": {
     "start_time": "2023-06-07T20:28:53.197152Z",
     "end_time": "2023-06-07T20:28:53.214150Z"
    }
   }
  },
  {
   "cell_type": "code",
   "execution_count": 166,
   "outputs": [
    {
     "data": {
      "text/plain": "CryoSleep\nFalse    5656\nTrue     3037\nName: count, dtype: int64"
     },
     "execution_count": 166,
     "metadata": {},
     "output_type": "execute_result"
    }
   ],
   "source": [
    "data['CryoSleep'].value_counts()"
   ],
   "metadata": {
    "collapsed": false,
    "ExecuteTime": {
     "start_time": "2023-06-07T20:20:51.987206Z",
     "end_time": "2023-06-07T20:20:52.016740Z"
    }
   }
  },
  {
   "cell_type": "code",
   "execution_count": 238,
   "outputs": [],
   "source": [
    "data.loc[data['CryoSleep'].isnull(), 'CryoSleep'] = False"
   ],
   "metadata": {
    "collapsed": false,
    "ExecuteTime": {
     "start_time": "2023-06-07T20:28:54.748267Z",
     "end_time": "2023-06-07T20:28:54.765290Z"
    }
   }
  },
  {
   "cell_type": "code",
   "execution_count": 79,
   "outputs": [
    {
     "data": {
      "text/plain": "Destination\nTRAPPIST-1e      5915\n55 Cancri e      1800\nPSO J318.5-22     796\nName: count, dtype: int64"
     },
     "execution_count": 79,
     "metadata": {},
     "output_type": "execute_result"
    }
   ],
   "source": [
    "data['Destination'].value_counts()"
   ],
   "metadata": {
    "collapsed": false,
    "ExecuteTime": {
     "start_time": "2023-06-07T19:24:39.933247Z",
     "end_time": "2023-06-07T19:24:39.975778Z"
    }
   }
  },
  {
   "cell_type": "code",
   "execution_count": 239,
   "outputs": [],
   "source": [
    "data.loc[data['Destination'].isnull(), 'Destination'] = \"TRAPPIST-1e\""
   ],
   "metadata": {
    "collapsed": false,
    "ExecuteTime": {
     "start_time": "2023-06-07T20:28:56.506835Z",
     "end_time": "2023-06-07T20:28:56.526524Z"
    }
   }
  },
  {
   "cell_type": "code",
   "execution_count": 116,
   "outputs": [
    {
     "data": {
      "text/plain": "28.82793046746535"
     },
     "execution_count": 116,
     "metadata": {},
     "output_type": "execute_result"
    }
   ],
   "source": [
    "data[data['Age'].isnull() == False]['Age'].mean()"
   ],
   "metadata": {
    "collapsed": false,
    "ExecuteTime": {
     "start_time": "2023-06-07T20:14:14.921055Z",
     "end_time": "2023-06-07T20:14:14.949059Z"
    }
   }
  },
  {
   "cell_type": "code",
   "execution_count": 240,
   "outputs": [],
   "source": [
    "data.loc[data['Age'].isnull(), 'Age'] = 28.82"
   ],
   "metadata": {
    "collapsed": false,
    "ExecuteTime": {
     "start_time": "2023-06-07T20:28:57.825466Z",
     "end_time": "2023-06-07T20:28:57.898036Z"
    }
   }
  },
  {
   "cell_type": "code",
   "execution_count": 171,
   "outputs": [
    {
     "data": {
      "text/plain": "VIP\nFalse    8494\nTrue      199\nName: count, dtype: int64"
     },
     "execution_count": 171,
     "metadata": {},
     "output_type": "execute_result"
    }
   ],
   "source": [
    "data[data['VIP'].isnull() == False]['VIP'].value_counts()"
   ],
   "metadata": {
    "collapsed": false,
    "ExecuteTime": {
     "start_time": "2023-06-07T20:21:25.769230Z",
     "end_time": "2023-06-07T20:21:25.797234Z"
    }
   }
  },
  {
   "cell_type": "code",
   "execution_count": 241,
   "outputs": [],
   "source": [
    "data.loc[data['VIP'].isnull(), 'VIP'] = False"
   ],
   "metadata": {
    "collapsed": false,
    "ExecuteTime": {
     "start_time": "2023-06-07T20:28:59.682696Z",
     "end_time": "2023-06-07T20:28:59.709693Z"
    }
   }
  },
  {
   "cell_type": "code",
   "execution_count": 87,
   "outputs": [
    {
     "data": {
      "text/plain": "224.687617481203"
     },
     "execution_count": 87,
     "metadata": {},
     "output_type": "execute_result"
    }
   ],
   "source": [
    "data[data[\"RoomService\"].isnull() == False]['RoomService'].mean()"
   ],
   "metadata": {
    "collapsed": false,
    "ExecuteTime": {
     "start_time": "2023-06-07T19:26:17.404511Z",
     "end_time": "2023-06-07T19:26:17.454070Z"
    }
   }
  },
  {
   "cell_type": "code",
   "execution_count": 242,
   "outputs": [],
   "source": [
    "data.loc[data[\"RoomService\"].isnull(), 'RoomService'] = 224.69"
   ],
   "metadata": {
    "collapsed": false,
    "ExecuteTime": {
     "start_time": "2023-06-07T20:29:01.236470Z",
     "end_time": "2023-06-07T20:29:01.251477Z"
    }
   }
  },
  {
   "cell_type": "code",
   "execution_count": 194,
   "outputs": [
    {
     "data": {
      "text/plain": "458.07720329024676"
     },
     "execution_count": 194,
     "metadata": {},
     "output_type": "execute_result"
    }
   ],
   "source": [
    "data[data[\"FoodCourt\"].isnull() == False]['FoodCourt'].mean()"
   ],
   "metadata": {
    "collapsed": false,
    "ExecuteTime": {
     "start_time": "2023-06-07T20:25:01.477381Z",
     "end_time": "2023-06-07T20:25:01.530390Z"
    }
   }
  },
  {
   "cell_type": "code",
   "execution_count": 243,
   "outputs": [],
   "source": [
    "data.loc[data[\"FoodCourt\"].isnull(), 'FoodCourt'] = 458.08"
   ],
   "metadata": {
    "collapsed": false,
    "ExecuteTime": {
     "start_time": "2023-06-07T20:29:02.746362Z",
     "end_time": "2023-06-07T20:29:02.760364Z"
    }
   }
  },
  {
   "cell_type": "code",
   "execution_count": 173,
   "outputs": [
    {
     "data": {
      "text/plain": "173.72916912197996"
     },
     "execution_count": 173,
     "metadata": {},
     "output_type": "execute_result"
    }
   ],
   "source": [
    "data.loc[data[\"ShoppingMall\"].isnull() == False, 'ShoppingMall'].mean()"
   ],
   "metadata": {
    "collapsed": false
   }
  },
  {
   "cell_type": "code",
   "execution_count": 244,
   "outputs": [],
   "source": [
    "data.loc[data[\"ShoppingMall\"].isnull(), 'ShoppingMall'] = 174.73"
   ],
   "metadata": {
    "collapsed": false,
    "ExecuteTime": {
     "start_time": "2023-06-07T20:29:03.986513Z",
     "end_time": "2023-06-07T20:29:04.002507Z"
    }
   }
  },
  {
   "cell_type": "code",
   "execution_count": 91,
   "outputs": [
    {
     "data": {
      "text/plain": "311.1387779083431"
     },
     "execution_count": 91,
     "metadata": {},
     "output_type": "execute_result"
    }
   ],
   "source": [
    "data[data[\"Spa\"].isnull() == False]['Spa'].mean()"
   ],
   "metadata": {
    "collapsed": false,
    "ExecuteTime": {
     "start_time": "2023-06-07T19:27:26.392893Z",
     "end_time": "2023-06-07T19:27:26.438671Z"
    }
   }
  },
  {
   "cell_type": "code",
   "execution_count": 245,
   "outputs": [],
   "source": [
    "data.loc[data[\"Spa\"].isnull(), 'Spa'] = 311.14"
   ],
   "metadata": {
    "collapsed": false,
    "ExecuteTime": {
     "start_time": "2023-06-07T20:29:05.272267Z",
     "end_time": "2023-06-07T20:29:05.295430Z"
    }
   }
  },
  {
   "cell_type": "code",
   "execution_count": 93,
   "outputs": [
    {
     "data": {
      "text/plain": "304.8547912992357"
     },
     "execution_count": 93,
     "metadata": {},
     "output_type": "execute_result"
    }
   ],
   "source": [
    "data[data[\"VRDeck\"].isnull() == False]['VRDeck'].mean()"
   ],
   "metadata": {
    "collapsed": false,
    "ExecuteTime": {
     "start_time": "2023-06-07T19:28:01.494490Z",
     "end_time": "2023-06-07T19:28:01.542498Z"
    }
   }
  },
  {
   "cell_type": "code",
   "execution_count": 246,
   "outputs": [],
   "source": [
    "data.loc[data[\"VRDeck\"].isnull(), 'VRDeck'] = 304.86"
   ],
   "metadata": {
    "collapsed": false,
    "ExecuteTime": {
     "start_time": "2023-06-07T20:29:06.225352Z",
     "end_time": "2023-06-07T20:29:06.237354Z"
    }
   }
  },
  {
   "cell_type": "markdown",
   "source": [
    "#### Из текстовых значений в числовые"
   ],
   "metadata": {
    "collapsed": false
   }
  },
  {
   "cell_type": "code",
   "execution_count": 123,
   "outputs": [
    {
     "data": {
      "text/plain": "array(['Europa', 'Earth', 'Mars', nan], dtype=object)"
     },
     "execution_count": 123,
     "metadata": {},
     "output_type": "execute_result"
    }
   ],
   "source": [
    "data['HomePlanet'].unique()"
   ],
   "metadata": {
    "collapsed": false,
    "ExecuteTime": {
     "start_time": "2023-06-07T20:14:44.800556Z",
     "end_time": "2023-06-07T20:14:44.818083Z"
    }
   }
  },
  {
   "cell_type": "code",
   "execution_count": 247,
   "outputs": [],
   "source": [
    "planets = {\"Europa\": 1, \"Earth\": 2, \"Mars\": 3}\n",
    "data['HomePlanet'] = data['HomePlanet'].agg(lambda x: planets[x])"
   ],
   "metadata": {
    "collapsed": false,
    "ExecuteTime": {
     "start_time": "2023-06-07T20:29:08.738741Z",
     "end_time": "2023-06-07T20:29:08.768752Z"
    }
   }
  },
  {
   "cell_type": "code",
   "execution_count": 251,
   "outputs": [],
   "source": [
    "data['HomePlanet'] = data['HomePlanet'].astype(int)"
   ],
   "metadata": {
    "collapsed": false,
    "ExecuteTime": {
     "start_time": "2023-06-07T20:30:35.112211Z",
     "end_time": "2023-06-07T20:30:35.130723Z"
    }
   }
  },
  {
   "cell_type": "code",
   "execution_count": 248,
   "outputs": [],
   "source": [
    "data['CryoSleep'] = data['CryoSleep'].astype(int)"
   ],
   "metadata": {
    "collapsed": false,
    "ExecuteTime": {
     "start_time": "2023-06-07T20:29:09.825684Z",
     "end_time": "2023-06-07T20:29:09.852684Z"
    }
   }
  },
  {
   "cell_type": "code",
   "execution_count": 252,
   "outputs": [],
   "source": [
    "data[['Cabin_deck', 'Cabin_num', 'Cabin_side']] = data['Cabin'].str.split(\"/\", expand=True)"
   ],
   "metadata": {
    "collapsed": false,
    "ExecuteTime": {
     "start_time": "2023-06-07T20:30:38.687095Z",
     "end_time": "2023-06-07T20:30:38.710109Z"
    }
   }
  },
  {
   "cell_type": "code",
   "execution_count": 253,
   "outputs": [
    {
     "data": {
      "text/plain": "Cabin_deck\nF    2794\nG    2559\nE     876\nB     779\nC     747\nD     478\nA     256\nT       5\nName: count, dtype: int64"
     },
     "execution_count": 253,
     "metadata": {},
     "output_type": "execute_result"
    }
   ],
   "source": [
    "data['Cabin_deck'].value_counts()"
   ],
   "metadata": {
    "collapsed": false,
    "ExecuteTime": {
     "start_time": "2023-06-07T20:30:39.452772Z",
     "end_time": "2023-06-07T20:30:39.481051Z"
    }
   }
  },
  {
   "cell_type": "code",
   "execution_count": 254,
   "outputs": [],
   "source": [
    "data.loc[data['Cabin_deck'].isnull(), \"Cabin_deck\"] = \"F\""
   ],
   "metadata": {
    "collapsed": false,
    "ExecuteTime": {
     "start_time": "2023-06-07T20:30:41.848427Z",
     "end_time": "2023-06-07T20:30:41.863417Z"
    }
   }
  },
  {
   "cell_type": "code",
   "execution_count": 255,
   "outputs": [
    {
     "data": {
      "text/plain": "427.0"
     },
     "execution_count": 255,
     "metadata": {},
     "output_type": "execute_result"
    }
   ],
   "source": [
    "data[data['Cabin_num'].isna() == False]['Cabin_num'].astype(int).median()"
   ],
   "metadata": {
    "collapsed": false,
    "ExecuteTime": {
     "start_time": "2023-06-07T20:30:43.095464Z",
     "end_time": "2023-06-07T20:30:43.117470Z"
    }
   }
  },
  {
   "cell_type": "code",
   "execution_count": 256,
   "outputs": [],
   "source": [
    "data.loc[data['Cabin_num'].isna(), 'Cabin_num'] = 427"
   ],
   "metadata": {
    "collapsed": false,
    "ExecuteTime": {
     "start_time": "2023-06-07T20:30:46.533941Z",
     "end_time": "2023-06-07T20:30:46.566994Z"
    }
   }
  },
  {
   "cell_type": "code",
   "execution_count": 258,
   "outputs": [],
   "source": [
    "data['Cabin_num'] = data['Cabin_num'].astype(int)"
   ],
   "metadata": {
    "collapsed": false,
    "ExecuteTime": {
     "start_time": "2023-06-07T20:30:51.982248Z",
     "end_time": "2023-06-07T20:30:51.996251Z"
    }
   }
  },
  {
   "cell_type": "code",
   "execution_count": 259,
   "outputs": [],
   "source": [
    "data.loc[data['Cabin_side'].isna(), \"Cabin_side\"] = \"S\""
   ],
   "metadata": {
    "collapsed": false,
    "ExecuteTime": {
     "start_time": "2023-06-07T20:30:54.727433Z",
     "end_time": "2023-06-07T20:30:54.754951Z"
    }
   }
  },
  {
   "cell_type": "code",
   "execution_count": 260,
   "outputs": [],
   "source": [
    "decks = {\"A\": 1, \"B\": 2, \"C\": 3, \"D\": 4, \"E\": 5, \"F\": 6, \"G\": 7, \"T\": 8}\n",
    "sides = {\"P\": 1, \"S\": 2}"
   ],
   "metadata": {
    "collapsed": false,
    "ExecuteTime": {
     "start_time": "2023-06-07T20:30:55.558610Z",
     "end_time": "2023-06-07T20:30:55.584530Z"
    }
   }
  },
  {
   "cell_type": "code",
   "execution_count": 261,
   "outputs": [],
   "source": [
    "data['Cabin_deck'] = data.Cabin_deck.agg(lambda x: decks[x])\n",
    "data[\"Cabin_side\"] = data.Cabin_side.agg(lambda x: sides[x])"
   ],
   "metadata": {
    "collapsed": false,
    "ExecuteTime": {
     "start_time": "2023-06-07T20:30:56.966040Z",
     "end_time": "2023-06-07T20:30:56.994056Z"
    }
   }
  },
  {
   "cell_type": "code",
   "execution_count": 262,
   "outputs": [],
   "source": [
    "data['Cabin_deck'] = data.Cabin_deck.astype(int)\n",
    "data['Cabin_side'] = data.Cabin_side.astype(int)"
   ],
   "metadata": {
    "collapsed": false,
    "ExecuteTime": {
     "start_time": "2023-06-07T20:30:57.767748Z",
     "end_time": "2023-06-07T20:30:57.795749Z"
    }
   }
  },
  {
   "cell_type": "code",
   "execution_count": 227,
   "outputs": [
    {
     "data": {
      "text/plain": "array(['TRAPPIST-1e', '55 Cancri e', 'PSO J318.5-22'], dtype=object)"
     },
     "execution_count": 227,
     "metadata": {},
     "output_type": "execute_result"
    }
   ],
   "source": [
    "data['Destination'].unique()"
   ],
   "metadata": {
    "collapsed": false,
    "ExecuteTime": {
     "start_time": "2023-06-07T20:26:37.943426Z",
     "end_time": "2023-06-07T20:26:37.971431Z"
    }
   }
  },
  {
   "cell_type": "code",
   "execution_count": 263,
   "outputs": [],
   "source": [
    "destinations = {\"TRAPPIST-1e\": 1, \"PSO J318.5-22\": 2, \"55 Cancri e\": 3}\n",
    "data.Destination = data.Destination.agg(lambda x: destinations[x])"
   ],
   "metadata": {
    "collapsed": false,
    "ExecuteTime": {
     "start_time": "2023-06-07T20:31:02.028848Z",
     "end_time": "2023-06-07T20:31:02.045362Z"
    }
   }
  },
  {
   "cell_type": "code",
   "execution_count": 264,
   "outputs": [],
   "source": [
    "data['VIP'] = data['VIP'].astype(int)"
   ],
   "metadata": {
    "collapsed": false,
    "ExecuteTime": {
     "start_time": "2023-06-07T20:31:03.520677Z",
     "end_time": "2023-06-07T20:31:03.542203Z"
    }
   }
  },
  {
   "cell_type": "code",
   "execution_count": 265,
   "outputs": [],
   "source": [
    "data['Transported'] = data.Transported.astype(int)"
   ],
   "metadata": {
    "collapsed": false,
    "ExecuteTime": {
     "start_time": "2023-06-07T20:31:04.837430Z",
     "end_time": "2023-06-07T20:31:04.847423Z"
    }
   }
  },
  {
   "cell_type": "code",
   "execution_count": 266,
   "outputs": [
    {
     "name": "stdout",
     "output_type": "stream",
     "text": [
      "<class 'pandas.core.frame.DataFrame'>\n",
      "RangeIndex: 8693 entries, 0 to 8692\n",
      "Data columns (total 17 columns):\n",
      " #   Column        Non-Null Count  Dtype  \n",
      "---  ------        --------------  -----  \n",
      " 0   PassengerId   8693 non-null   object \n",
      " 1   HomePlanet    8693 non-null   int32  \n",
      " 2   CryoSleep     8693 non-null   int32  \n",
      " 3   Cabin         8494 non-null   object \n",
      " 4   Destination   8693 non-null   int64  \n",
      " 5   Age           8693 non-null   float64\n",
      " 6   VIP           8693 non-null   int32  \n",
      " 7   RoomService   8693 non-null   float64\n",
      " 8   FoodCourt     8693 non-null   float64\n",
      " 9   ShoppingMall  8693 non-null   float64\n",
      " 10  Spa           8693 non-null   float64\n",
      " 11  VRDeck        8693 non-null   float64\n",
      " 12  Name          8493 non-null   object \n",
      " 13  Transported   8693 non-null   int32  \n",
      " 14  Cabin_deck    8693 non-null   int32  \n",
      " 15  Cabin_num     8693 non-null   int32  \n",
      " 16  Cabin_side    8693 non-null   int32  \n",
      "dtypes: float64(6), int32(7), int64(1), object(3)\n",
      "memory usage: 917.0+ KB\n"
     ]
    }
   ],
   "source": [
    "data.info()"
   ],
   "metadata": {
    "collapsed": false,
    "ExecuteTime": {
     "start_time": "2023-06-07T20:31:05.950779Z",
     "end_time": "2023-06-07T20:31:05.977830Z"
    }
   }
  },
  {
   "cell_type": "code",
   "execution_count": 198,
   "outputs": [
    {
     "data": {
      "text/plain": "Index(['PassengerId', 'HomePlanet', 'CryoSleep', 'Cabin', 'Destination', 'Age',\n       'VIP', 'RoomService', 'FoodCourt', 'ShoppingMall', 'Spa', 'VRDeck',\n       'Name', 'Transported', 'Cabin_deck', 'Cabin_num', 'Cabin_side'],\n      dtype='object')"
     },
     "execution_count": 198,
     "metadata": {},
     "output_type": "execute_result"
    }
   ],
   "source": [
    "data.columns"
   ],
   "metadata": {
    "collapsed": false,
    "ExecuteTime": {
     "start_time": "2023-06-07T20:25:26.831546Z",
     "end_time": "2023-06-07T20:25:26.864081Z"
    }
   }
  },
  {
   "cell_type": "code",
   "execution_count": 27,
   "outputs": [
    {
     "name": "stdout",
     "output_type": "stream",
     "text": [
      "Нужные колонки\n",
      "['HomePlanet', 'CryoSleep', 'Destination', 'Age', 'VIP', 'RoomService', 'FoodCourt', 'ShoppingMall', 'Spa', 'VRDeck', 'Cabin_deck', 'Cabin_num', 'Cabin_side', 'Transported']\n"
     ]
    }
   ],
   "source": [
    "final_columns = ['HomePlanet', 'CryoSleep', 'Destination', 'Age', 'VIP', 'RoomService', 'FoodCourt', 'ShoppingMall', 'Spa', 'VRDeck', 'Cabin_deck', 'Cabin_num', 'Cabin_side', \"Transported\"]\n",
    "\n",
    "print(\"Нужные колонки\")\n",
    "print(final_columns)"
   ],
   "metadata": {
    "collapsed": false,
    "ExecuteTime": {
     "start_time": "2023-06-11T23:06:02.538181Z",
     "end_time": "2023-06-11T23:06:02.549181Z"
    }
   }
  },
  {
   "cell_type": "markdown",
   "source": [],
   "metadata": {
    "collapsed": false
   }
  },
  {
   "cell_type": "code",
   "execution_count": 268,
   "outputs": [],
   "source": [
    "data[final_columns].to_csv(\"features/train_second.csv\", index=False)"
   ],
   "metadata": {
    "collapsed": false,
    "ExecuteTime": {
     "start_time": "2023-06-07T20:31:29.473594Z",
     "end_time": "2023-06-07T20:31:29.526391Z"
    }
   }
  },
  {
   "cell_type": "code",
   "execution_count": 95,
   "outputs": [],
   "source": [
    "def do_second_dataset(input_dataset):\n",
    "    dataset = input_dataset.copy()\n",
    "    dataset.loc[dataset['HomePlanet'].isna(), \"HomePlanet\"] = 'Earth'\n",
    "    dataset.loc[dataset['CryoSleep'].isnull(), 'CryoSleep'] = False\n",
    "    dataset.loc[dataset['Destination'].isnull(), 'Destination'] = \"TRAPPIST-1e\"\n",
    "    dataset.loc[dataset['Age'].isnull(), 'Age'] = 28.82\n",
    "    dataset.loc[dataset['VIP'].isnull(), 'VIP'] = False\n",
    "    dataset.loc[dataset[\"RoomService\"].isnull(), 'RoomService'] = 224.69\n",
    "    dataset.loc[dataset[\"FoodCourt\"].isnull(), 'FoodCourt'] = 458.08\n",
    "    dataset.loc[dataset[\"ShoppingMall\"].isnull(), 'ShoppingMall'] = 174.73\n",
    "    dataset.loc[dataset[\"Spa\"].isnull(), 'Spa'] = 311.14\n",
    "    dataset.loc[dataset[\"VRDeck\"].isnull(), 'VRDeck'] = 304.86\n",
    "    planets = {\"Europa\": 1, \"Earth\": 2, \"Mars\": 3}\n",
    "    dataset['HomePlanet'] = dataset['HomePlanet'].agg(lambda x: planets[x])\n",
    "    dataset['HomePlanet'] = dataset['HomePlanet'].astype(int)\n",
    "    dataset['CryoSleep'] = dataset['CryoSleep'].astype(int)\n",
    "    dataset[['Cabin_deck', 'Cabin_num', 'Cabin_side']] = dataset['Cabin'].str.split(\"/\", expand=True)\n",
    "    dataset.loc[dataset['Cabin_deck'].isnull(), \"Cabin_deck\"] = \"F\"\n",
    "    dataset.loc[dataset['Cabin_num'].isna(), 'Cabin_num'] = 427\n",
    "    dataset.loc[dataset['Cabin_side'].isna(), \"Cabin_side\"] = \"S\"\n",
    "    decks = {\"A\": 1, \"B\": 2, \"C\": 3, \"D\": 4, \"E\": 5, \"F\": 6, \"G\": 7, \"T\": 8}\n",
    "    sides = {\"P\": 1, \"S\": 2}\n",
    "    dataset['Cabin_deck'] = dataset.Cabin_deck.agg(lambda x: decks[x]).astype(int)\n",
    "    dataset[\"Cabin_side\"] = dataset.Cabin_side.agg(lambda x: sides[x]).astype(int)\n",
    "    destinations = {\"TRAPPIST-1e\": 1, \"PSO J318.5-22\": 2, \"55 Cancri e\": 3}\n",
    "    dataset.Destination = dataset.Destination.agg(lambda x: destinations[x]).astype(int)\n",
    "    dataset['VIP'] = dataset['VIP'].astype(int)\n",
    "    return dataset"
   ],
   "metadata": {
    "collapsed": false,
    "ExecuteTime": {
     "start_time": "2023-06-14T11:15:54.966717Z",
     "end_time": "2023-06-14T11:15:54.995718Z"
    }
   }
  },
  {
   "cell_type": "code",
   "execution_count": 131,
   "outputs": [],
   "source": [
    "def do_third_dataset(input_dataset):\n",
    "    dataset = input_dataset.copy()\n",
    "    dataset['TotalServices'] = dataset['RoomService'] + dataset['FoodCourt'] + dataset['ShoppingMall'] + dataset['Spa']\n",
    "    dataset['Sex'] = -1\n",
    "    dataset.loc[dataset['Name'].isnull() == False, 'Sex'] = dataset[dataset['Name'].isnull() == False]['Name'].str.split(\" \", expand=True)[0].agg(lambda x: unique_names[x])\n",
    "    return dataset.drop(\"Name\", axis=1)\n"
   ],
   "metadata": {
    "collapsed": false,
    "ExecuteTime": {
     "start_time": "2023-06-14T11:20:47.870454Z",
     "end_time": "2023-06-14T11:20:47.882455Z"
    }
   }
  },
  {
   "cell_type": "code",
   "execution_count": 132,
   "outputs": [],
   "source": [
    "second_tt = do_second_dataset(df)"
   ],
   "metadata": {
    "collapsed": false,
    "ExecuteTime": {
     "start_time": "2023-06-14T11:20:49.236613Z",
     "end_time": "2023-06-14T11:20:49.277125Z"
    }
   }
  },
  {
   "cell_type": "code",
   "execution_count": 133,
   "outputs": [],
   "source": [
    "third_tt = do_third_dataset(second_tt)"
   ],
   "metadata": {
    "collapsed": false,
    "ExecuteTime": {
     "start_time": "2023-06-14T11:20:49.897619Z",
     "end_time": "2023-06-14T11:20:49.926612Z"
    }
   }
  },
  {
   "cell_type": "code",
   "execution_count": 135,
   "outputs": [],
   "source": [
    "third_tt.drop(\"Cabin\", axis=1).to_csv(\"features/test_third_uncomplite.csv\", index=False)"
   ],
   "metadata": {
    "collapsed": false,
    "ExecuteTime": {
     "start_time": "2023-06-14T11:21:55.912443Z",
     "end_time": "2023-06-14T11:21:55.963438Z"
    }
   }
  },
  {
   "cell_type": "code",
   "execution_count": 22,
   "outputs": [],
   "source": [
    "real2 = pd.read_csv(\"features/train_second.csv\")\n",
    "mynewreal2 = do_second_dataset(df)"
   ],
   "metadata": {
    "collapsed": false,
    "ExecuteTime": {
     "start_time": "2023-06-11T23:05:36.155456Z",
     "end_time": "2023-06-11T23:05:36.210976Z"
    }
   }
  },
  {
   "cell_type": "markdown",
   "source": [
    "#### Напишем функцию, которая с помощтю api будет определять пол человека и выдавать 1 - если мужчина и 0 - если женщина"
   ],
   "metadata": {
    "collapsed": false
   }
  },
  {
   "cell_type": "code",
   "execution_count": 64,
   "outputs": [],
   "source": [
    "import requests\n",
    "#dt= df['Name'].str.split(\" \", expand=True)\n",
    "unique_names = {n: -1 for n in list(dt[0].unique())}\n",
    "\n",
    "def obtain_sex_by_name(name):\n",
    "    res = requests.get(f\"https://api.genderize.io/?name={name}\").json()\n",
    "    try:\n",
    "        if res['gender'] == \"male\":\n",
    "            return 1\n",
    "        elif res['gender'] is None:\n",
    "            return -1\n",
    "        else:\n",
    "            return 0\n",
    "    except:\n",
    "        print(name)\n",
    "        print(\"error\")\n"
   ],
   "metadata": {
    "collapsed": false,
    "ExecuteTime": {
     "start_time": "2023-06-14T10:45:35.733790Z",
     "end_time": "2023-06-14T10:45:35.755791Z"
    }
   }
  },
  {
   "cell_type": "code",
   "execution_count": 77,
   "outputs": [],
   "source": [
    "def make_unique_list():\n",
    "    i = 0\n",
    "    for name in list(unique_names.keys())[0:1000]:\n",
    "        print(i, name)\n",
    "        unique_names[name] = obtain_sex_by_name(name)\n",
    "        i +=1"
   ],
   "metadata": {
    "collapsed": false,
    "ExecuteTime": {
     "start_time": "2023-06-14T10:46:56.847250Z",
     "end_time": "2023-06-14T10:46:56.865055Z"
    }
   }
  },
  {
   "cell_type": "code",
   "execution_count": 44,
   "outputs": [],
   "source": [
    "def add_some_new_columns(input_dataset):\n",
    "    dataset = input_dataset.copy()\n",
    "    dataset['TotalServices'] = dataset['RoomService'] + dataset['FoodCourt'] + dataset['ShoppingMall'] + dataset['Spa']"
   ],
   "metadata": {
    "collapsed": false,
    "ExecuteTime": {
     "start_time": "2023-06-11T23:09:02.882024Z",
     "end_time": "2023-06-11T23:09:02.919034Z"
    }
   }
  },
  {
   "cell_type": "code",
   "execution_count": 78,
   "outputs": [
    {
     "name": "stdout",
     "output_type": "stream",
     "text": [
      "0 Maham\n",
      "1 Juanna\n",
      "2 Altark\n",
      "3 Solam\n",
      "4 Willy\n",
      "5 Sandie\n",
      "6 Billex\n",
      "7 Candra\n",
      "8 Andona\n",
      "9 Erraiam\n",
      "10 Altardr\n",
      "11 Wezena\n",
      "12 Berers\n",
      "13 Reney\n",
      "14 Elle\n",
      "15 Justie\n",
      "16 Flats\n",
      "17 Carry\n",
      "18 Alus\n",
      "19 Lyde\n",
      "20 Philda\n",
      "21 Almary\n",
      "22 Glendy\n",
      "23 Mollen\n",
      "24 Breney\n",
      "25 Mael\n",
      "26 Terta\n",
      "27 nan\n",
      "28 Penton\n",
      "29 Karard\n",
      "30 Anyoni\n",
      "31 Ceros\n",
      "32 Ginia\n",
      "33 Coobix\n",
      "34 Cinets\n",
      "35 Dontch\n",
      "36 Ziba\n",
      "37 Luse\n",
      "38 Marina\n",
      "39 Loise\n",
      "40 Jorgie\n",
      "41 Margia\n",
      "42 Ankalik\n",
      "43 Jodye\n",
      "44 Kayne\n",
      "45 Cassa\n",
      "46 Zelowl\n",
      "47 Mass\n",
      "48 Sony\n",
      "49 Vivia\n",
      "50 Elaney\n",
      "51 Elson\n",
      "52 Okulas\n",
      "53 Instab\n",
      "54 Zinoces\n",
      "55 Warry\n",
      "56 Shanya\n",
      "57 Sterry\n",
      "58 Colatz\n",
      "59 Diandy\n",
      "60 Ninaha\n",
      "61 Celine\n",
      "62 Velyne\n",
      "63 Cinst\n",
      "64 Meremy\n",
      "65 Nelly\n",
      "66 Thell\n",
      "67 Gorn\n",
      "68 Aldibah\n",
      "69 Conk\n",
      "70 Pon\n",
      "71 Spuri\n",
      "72 Dellie\n",
      "73 Totse\n",
      "74 Eaturs\n",
      "75 Coren\n",
      "76 Furudah\n",
      "77 Stmeal\n",
      "78 Heremy\n",
      "79 Deanne\n",
      "80 Tinez\n",
      "81 Gracy\n",
      "82 Stald\n",
      "83 Tiney\n",
      "84 Alchium\n",
      "85 Doria\n",
      "86 Leence\n",
      "87 Aliey\n",
      "88 Thewis\n",
      "89 Book\n",
      "90 Ritany\n",
      "91 Arlen\n",
      "92 Shaele\n",
      "93 Fanne\n",
      "94 Natald\n",
      "95 Oline\n",
      "96 Graviph\n",
      "97 Aldeba\n",
      "98 Alaratz\n",
      "99 Izark\n",
      "100 Aldera\n",
      "101 Moth\n",
      "102 Idary\n",
      "103 Maura\n",
      "104 Rohs\n",
      "105 Alhenah\n",
      "106 Batan\n",
      "107 Kleeiak\n",
      "108 Bees\n",
      "109 Shelle\n",
      "110 Iree\n",
      "111 Milly\n",
      "112 Miloss\n",
      "113 Grohs\n",
      "114 Barave\n",
      "115 Race\n",
      "116 Flynx\n",
      "117 Egrasp\n",
      "118 Camina\n",
      "119 Fayene\n",
      "120 Monah\n",
      "121 Charda\n",
      "122 Evaley\n",
      "123 Verney\n",
      "124 Pyrohs\n",
      "125 Guadae\n",
      "126 Verly\n",
      "127 Samie\n",
      "128 Corsh\n",
      "129 Billya\n",
      "130 Shanie\n",
      "131 Andan\n",
      "132 Gory\n",
      "133 Kabiton\n",
      "134 Scharab\n",
      "135 Fany\n",
      "136 Ianya\n",
      "137 Graven\n",
      "138 Miten\n",
      "139 Rios\n",
      "140 Wandy\n",
      "141 Mollie\n",
      "142 Coracy\n",
      "143 Hanna\n",
      "144 Hilip\n",
      "145 Doryn\n",
      "146 Toperon\n",
      "147 Wees\n",
      "148 Raque\n",
      "149 Sallyl\n",
      "150 Nancis\n",
      "151 Ksorab\n",
      "152 Stany\n",
      "153 Camiet\n",
      "154 Branda\n",
      "155 Helly\n",
      "156 Tance\n",
      "157 Robyny\n",
      "158 Lilace\n",
      "159 Sps\n",
      "160 Frook\n",
      "161 Goles\n",
      "162 Bar\n",
      "163 Caper\n",
      "164 Astrak\n",
      "165 Jeroy\n",
      "166 Regana\n",
      "167 Elia\n",
      "168 Kaffias\n",
      "169 Edaruma\n",
      "170 Pomera\n",
      "171 Vegas\n",
      "172 Ancham\n",
      "173 Carma\n",
      "174 Nuson\n",
      "175 Thony\n",
      "176 Arraid\n",
      "177 Pebuts\n",
      "178 Picers\n",
      "179 Inen\n",
      "180 Shally\n",
      "181 Carita\n",
      "182 Searla\n",
      "183 Prilly\n",
      "184 Nica\n",
      "185 Tyle\n",
      "186 Wena\n",
      "187 Branca\n",
      "188 Dont\n",
      "189 Weney\n",
      "190 Guye\n",
      "191 Cowhex\n",
      "192 Yogark\n",
      "193 Jacks\n",
      "194 Eerch\n",
      "195 Panbug\n",
      "196 Gran\n",
      "197 Gone\n",
      "198 Colf\n",
      "199 Grake\n",
      "200 Evan\n",
      "201 Blues\n",
      "202 Carly\n",
      "203 Done\n",
      "204 Krus\n",
      "205 Teda\n",
      "206 Keitha\n",
      "207 Weias\n",
      "208 Diedow\n",
      "209 Puffes\n",
      "210 Alas\n",
      "211 Almone\n",
      "212 Froos\n",
      "213 Tous\n",
      "214 Glueba\n",
      "215 Anchib\n",
      "216 Mele\n",
      "217 Genifi\n",
      "218 Camily\n",
      "219 Diphah\n",
      "220 Leenny\n",
      "221 Dawne\n",
      "222 Ashir\n",
      "223 Errohs\n",
      "224 Squars\n",
      "225 Feryla\n",
      "226 Segino\n",
      "227 Dord\n",
      "228 Maen\n",
      "229 Etair\n",
      "230 Lerome\n",
      "231 Cathya\n",
      "232 Terf\n",
      "233 Byront\n",
      "234 Judya\n",
      "235 Marice\n",
      "236 Derine\n",
      "237 Valex\n",
      "238 Jacky\n",
      "239 Roydo\n",
      "240 Krabik\n",
      "241 Grasath\n",
      "242 Tetra\n",
      "243 Alasym\n",
      "244 Furuson\n",
      "245 Skaton\n",
      "246 Algor\n",
      "247 Dhenar\n",
      "248 Atino\n",
      "249 Castab\n",
      "250 Phonons\n",
      "251 Ernice\n",
      "252 Ashird\n",
      "253 Lesley\n",
      "254 Oraryn\n",
      "255 Betena\n",
      "256 Suhelik\n",
      "257 Dony\n",
      "258 Naviton\n",
      "259 Briney\n",
      "260 Jona\n",
      "261 Jaimer\n",
      "262 Hary\n",
      "263 Kell\n",
      "264 Adriet\n",
      "265 Hallah\n",
      "266 Beneba\n",
      "267 Garley\n",
      "268 Quites\n",
      "269 Annya\n",
      "270 Charly\n",
      "271 Jasony\n",
      "272 Bellah\n",
      "273 Hekaton\n",
      "274 Lewise\n",
      "275 Phios\n",
      "276 Unfly\n",
      "277 Guanch\n",
      "278 Weros\n",
      "279 Ireen\n",
      "280 Pentard\n",
      "281 Lorian\n",
      "282 Berios\n",
      "283 Lynney\n",
      "284 Cousk\n",
      "285 Stray\n",
      "286 Weet\n",
      "287 Loresa\n",
      "288 Hits\n",
      "289 Tricky\n",
      "290 Pharmus\n",
      "291 Eduard\n",
      "292 Ronna\n",
      "293 Dandy\n",
      "294 Elancy\n",
      "295 Virgie\n",
      "296 Dandra\n",
      "297 Resers\n",
      "298 Batech\n",
      "299 Veroy\n",
      "300 Tine\n",
      "301 Chrey\n",
      "302 Luzel\n",
      "303 Francy\n",
      "304 Wezncha\n",
      "305 Bram\n",
      "306 Marfak\n",
      "307 Naslon\n",
      "308 Muonons\n",
      "309 Polaton\n",
      "310 Sollum\n",
      "311 Achib\n",
      "312 Brita\n",
      "313 Zinopus\n",
      "314 Mesatan\n",
      "315 Aston\n",
      "316 Blanie\n",
      "317 Phia\n",
      "318 Evane\n",
      "319 Cliney\n",
      "320 Ellard\n",
      "321 Tanley\n",
      "322 Verek\n",
      "323 Fanna\n",
      "324 Elanda\n",
      "325 Dabik\n",
      "326 Ward\n",
      "327 Meropus\n",
      "328 Hadyon\n",
      "329 Brinez\n",
      "330 Graw\n",
      "331 Wales\n",
      "332 Parney\n",
      "333 Teron\n",
      "334 Push\n",
      "335 Denis\n",
      "336 Dennya\n",
      "337 Cus\n",
      "338 Mats\n",
      "339 Tyrona\n",
      "340 Benny\n",
      "341 Baton\n",
      "342 Elina\n",
      "343 Iney\n",
      "344 Lesatik\n",
      "345 Mirark\n",
      "346 Enifik\n",
      "347 Syrmark\n",
      "348 Blesh\n",
      "349 Cowns\n",
      "350 Ree\n",
      "351 Chargin\n",
      "352 Aino\n",
      "353 Taurak\n",
      "354 Eliana\n",
      "355 Fronch\n",
      "356 Hekark\n",
      "357 Naosura\n",
      "358 Row\n",
      "359 Allie\n",
      "360 Lynnee\n",
      "361 Debora\n",
      "362 Dyonon\n",
      "363 Izarino\n",
      "364 Loree\n",
      "365 Elica\n",
      "366 Camonk\n",
      "367 Colal\n",
      "368 Loria\n",
      "369 Rice\n",
      "370 Hadira\n",
      "371 Ferry\n",
      "372 Elara\n",
      "373 Nathy\n",
      "374 Swafox\n",
      "375 Aldun\n",
      "376 Minopus\n",
      "377 Tabius\n",
      "378 Hallux\n",
      "379 Lulah\n",
      "380 Leonyl\n",
      "381 Joela\n",
      "382 Zanin\n",
      "383 Hardy\n",
      "384 Shawne\n",
      "385 Shany\n",
      "386 Len\n",
      "387 Ronia\n",
      "388 Grats\n",
      "389 Flamal\n",
      "390 Deandy\n",
      "391 Kyley\n",
      "392 Aude\n",
      "393 Haryn\n",
      "394 Aptal\n",
      "395 Jurs\n",
      "396 Astab\n",
      "397 Stene\n",
      "398 Nicey\n",
      "399 Danie\n",
      "400 Coves\n",
      "401 Beah\n",
      "402 Chrisa\n",
      "403 Gera\n",
      "404 Anny\n",
      "405 Isaacy\n",
      "406 Sadirak\n",
      "407 Chery\n",
      "408 Hanne\n",
      "409 Batomam\n",
      "410 Kastrak\n",
      "411 Eclass\n",
      "412 Ots\n",
      "413 Hadirk\n",
      "414 Pigars\n",
      "415 Gal\n",
      "416 Torms\n",
      "417 Pios\n",
      "418 Thabius\n",
      "419 Mirfar\n",
      "420 Sterops\n",
      "421 Tauria\n",
      "422 Azharga\n",
      "423 Alheneb\n",
      "424 Kad\n",
      "425 Kylen\n",
      "426 Astrark\n",
      "427 Rayley\n",
      "428 Alramix\n",
      "429 Vindem\n",
      "430 Jandy\n",
      "431 Soyos\n",
      "432 Ryany\n",
      "433 Bel\n",
      "434 Hery\n",
      "435 Glenry\n",
      "436 Helley\n",
      "437 Wenise\n",
      "438 Supce\n",
      "439 Llat\n",
      "440 Alasmon\n",
      "441 Ericia\n",
      "442 Estine\n",
      "443 Darley\n",
      "444 Tops\n",
      "445 Asellux\n",
      "446 Weia\n",
      "447 Walla\n",
      "448 Tard\n",
      "449 Achyon\n",
      "450 Alderak\n",
      "451 Betenif\n",
      "452 Mardyon\n",
      "453 Jell\n",
      "454 Rantax\n",
      "455 Landa\n",
      "456 Kaye\n",
      "457 Trick\n",
      "458 Kariel\n",
      "459 Warets\n",
      "460 Guans\n",
      "461 Minkab\n",
      "462 Tope\n",
      "463 Gluinol\n",
      "464 Alraixa\n",
      "465 Alhain\n",
      "466 Jilla\n",
      "467 Anniey\n",
      "468 Tonyn\n",
      "469 Annah\n",
      "470 Jessa\n",
      "471 Hamsp\n",
      "472 Bath\n",
      "473 Taura\n",
      "474 Aldibi\n",
      "475 Cines\n",
      "476 Muls\n",
      "477 Jeron\n",
      "478 Enibik\n",
      "479 Tin\n",
      "480 Chard\n",
      "481 Branev\n",
      "482 Bahoton\n",
      "483 Polam\n",
      "484 Hasich\n",
      "485 Isoton\n",
      "486 Minoton\n",
      "487 Melice\n",
      "488 Gwendy\n",
      "489 Greggy\n",
      "490 Scotty\n",
      "491 Chael\n",
      "492 Dicks\n",
      "493 Muebix\n",
      "494 Beeres\n",
      "495 Cricks\n",
      "496 Sugard\n",
      "497 Flams\n",
      "498 Askeid\n",
      "499 Maya\n",
      "500 Chelsa\n",
      "501 Loreen\n",
      "502 Hon\n",
      "503 Joana\n",
      "504 Cores\n",
      "505 Ton\n",
      "506 Arllia\n",
      "507 Bertle\n",
      "508 Gabrin\n",
      "509 Losp\n",
      "510 Bases\n",
      "511 Apple\n",
      "512 Honjay\n",
      "513 Muonon\n",
      "514 Seats\n",
      "515 Oats\n",
      "516 Rana\n",
      "517 Lyny\n",
      "518 Dyonium\n",
      "519 Mino\n",
      "520 Pola\n",
      "521 Maril\n",
      "522 Guteda\n",
      "523 Erie\n",
      "524 Paulas\n",
      "525 Feline\n",
      "526 Blancy\n",
      "527 Stance\n",
      "528 Troyce\n",
      "529 Scellus\n",
      "530 Ankabit\n",
      "531 Ellene\n",
      "532 Rickie\n",
      "533 Cord\n",
      "534 Croos\n",
      "535 Cakes\n",
      "536 Patoya\n",
      "537 Millia\n",
      "538 Craine\n",
      "539 Cowl\n",
      "540 Eleonon\n",
      "541 Dory\n",
      "542 Krisa\n",
      "543 Dilatik\n",
      "544 Aviton\n",
      "545 Chabik\n",
      "546 Tachir\n",
      "547 Duhrk\n",
      "548 Tran\n",
      "549 Hadlam\n",
      "550 Troyra\n",
      "551 Errim\n",
      "552 Lidex\n",
      "553 Anack\n",
      "554 Oareel\n",
      "555 Eulah\n",
      "556 Rionk\n",
      "557 Glenna\n",
      "558 Stal\n",
      "559 Misadr\n",
      "560 Jabba\n",
      "561 Cineys\n",
      "562 Lix\n",
      "563 Rician\n",
      "564 Elanie\n",
      "565 Josey\n",
      "566 Grette\n",
      "567 Bettie\n",
      "568 Vana\n",
      "569 Garyan\n",
      "570 Annard\n",
      "571 Joandy\n",
      "572 Grany\n",
      "573 Wheals\n",
      "574 Sug\n",
      "575 Trohs\n",
      "576 Jack\n",
      "577 Arl\n",
      "578 Permit\n",
      "579 Cheat\n",
      "580 Goos\n",
      "581 Yapich\n",
      "582 Bubbix\n",
      "583 Fis\n",
      "584 Moss\n",
      "585 Mothab\n",
      "586 Tetraix\n",
      "587 Dixiel\n",
      "588 Roswal\n",
      "589 Flyros\n",
      "590 Menkibi\n",
      "591 Briane\n",
      "592 Brank\n",
      "593 Adanne\n",
      "594 Denny\n",
      "595 Astorux\n",
      "596 Thaban\n",
      "597 Props\n",
      "598 Nute\n",
      "599 Pik\n",
      "600 Crans\n",
      "601 Claine\n",
      "602 Charry\n",
      "603 Jeanny\n",
      "604 Man\n",
      "605 Brene\n",
      "606 Izarfik\n",
      "607 Alendy\n",
      "608 Naros\n",
      "609 Mela\n",
      "610 Johna\n",
      "611 Briam\n",
      "612 Elinda\n",
      "613 Lerion\n",
      "614 Charmus\n",
      "615 Ran\n",
      "616 Dyonevi\n",
      "617 Zaurah\n",
      "618 Thab\n",
      "619 Milyla\n",
      "620 Mesarix\n",
      "621 Matan\n",
      "622 Atikard\n",
      "623 Ashelik\n",
      "624 Ranon\n",
      "625 Hadalm\n",
      "626 Mins\n",
      "627 Izarki\n",
      "628 Elody\n",
      "629 Danna\n",
      "630 Frus\n",
      "631 Ponts\n",
      "632 Maiam\n",
      "633 Arix\n",
      "634 Astrah\n",
      "635 Sanney\n",
      "636 Hughy\n",
      "637 Kimmy\n",
      "638 Harlen\n",
      "639 Halleth\n",
      "640 Arrain\n",
      "641 Wasalm\n",
      "642 Holey\n",
      "643 Clus\n",
      "644 Grafirk\n",
      "645 Mesath\n",
      "646 Auvan\n",
      "647 Zaninon\n",
      "648 Neila\n",
      "649 Millie\n",
      "650 Nakes\n",
      "651 Pristy\n",
      "652 Alatrix\n",
      "653 Ecco\n",
      "654 Genibah\n",
      "655 Plat\n",
      "656 Deaney\n",
      "657 Bonyam\n",
      "658 Benew\n",
      "659 Oaters\n",
      "660 Crin\n",
      "661 Smal\n",
      "662 Ranutz\n",
      "663 Pan\n",
      "664 Phams\n",
      "665 Frouse\n",
      "666 Giedir\n",
      "667 Carona\n",
      "668 Patsya\n",
      "669 Hanry\n",
      "670 Sus\n",
      "671 Scotte\n",
      "672 Chadie\n",
      "673 Wenten\n",
      "674 Juliey\n",
      "675 Rosey\n",
      "676 Myrace\n",
      "677 Eilan\n",
      "678 Tarmus\n",
      "679 Garry\n",
      "680 Set\n",
      "681 Grumak\n",
      "682 Ebonyd\n",
      "683 Achbah\n",
      "684 Tera\n",
      "685 Sts\n",
      "686 Monam\n",
      "687 Cellum\n",
      "688 Tareson\n",
      "689 Koops\n",
      "690 Iandy\n",
      "691 Hamelik\n",
      "692 Eleaha\n",
      "693 Jone\n",
      "694 Lynez\n",
      "695 Rald\n",
      "696 Neutria\n",
      "697 Hilley\n",
      "698 Dessie\n",
      "699 Polar\n",
      "700 Teryla\n",
      "701 Hallus\n",
      "702 Sceres\n",
      "703 Therta\n",
      "704 Gollux\n",
      "705 Izaron\n",
      "706 Rica\n",
      "707 Allene\n",
      "708 Duana\n",
      "709 Nelley\n",
      "710 Wein\n",
      "711 Gicks\n",
      "712 Gwenda\n",
      "713 Achah\n",
      "714 Marinon\n",
      "715 Violey\n",
      "716 Angars\n",
      "717 Froops\n",
      "718 Shail\n",
      "719 Jerrye\n",
      "720 Caseye\n",
      "721 Shaiam\n",
      "722 Hadaron\n",
      "723 Alpha\n",
      "724 Skix\n",
      "725 Varkes\n",
      "726 Minchib\n",
      "727 Alkeson\n",
      "728 Emmax\n",
      "729 Elene\n",
      "730 Arlie\n",
      "731 Therie\n",
      "732 Boats\n",
      "733 Terly\n",
      "734 Earlie\n",
      "735 Walles\n",
      "736 Armen\n",
      "737 Triple\n",
      "738 Terrie\n",
      "739 Grios\n",
      "740 Erice\n",
      "741 Glena\n",
      "742 Jimen\n",
      "743 Waffs\n",
      "744 Gailia\n",
      "745 Weidus\n",
      "746 Wacks\n",
      "747 Lar\n",
      "748 Tamie\n",
      "749 Allena\n",
      "750 Gimph\n",
      "751 Eriky\n",
      "752 Joyton\n",
      "753 Teremy\n",
      "754 Wen\n",
      "755 Morrie\n",
      "756 Walley\n",
      "757 Shery\n",
      "758 Alancy\n",
      "759 Fayen\n",
      "760 Lyne\n",
      "761 Jeresa\n",
      "762 Kayd\n",
      "763 Tonia\n",
      "764 Bethew\n",
      "765 Zino\n",
      "766 Naosa\n",
      "767 Sinon\n",
      "768 Juanie\n",
      "769 Dell\n",
      "770 Muonin\n",
      "771 Nadie\n",
      "772 Caish\n",
      "773 Bun\n",
      "774 Spuffs\n",
      "775 Coreee\n",
      "776 Stenny\n",
      "777 Wasatz\n",
      "778 Wimpha\n",
      "779 Camie\n",
      "780 Valey\n",
      "781 Weslie\n",
      "782 Ranuts\n",
      "783 Wilmay\n",
      "784 Joya\n",
      "785 Melia\n",
      "786 Appers\n",
      "787 Melvia\n",
      "788 Bellee\n",
      "789 Cort\n",
      "790 Anamse\n",
      "791 Basps\n",
      "792 Trine\n",
      "793 Crowk\n",
      "794 Ericky\n",
      "795 Aliedy\n",
      "796 Nutz\n",
      "797 Laude\n",
      "798 Naomie\n",
      "799 Clard\n",
      "800 Algrafi\n",
      "801 Halsham\n",
      "802 Deany\n",
      "803 Ockies\n",
      "804 Yakers\n",
      "805 Frandy\n",
      "806 Otlios\n",
      "807 Cherkar\n",
      "808 Keithy\n",
      "809 Willip\n",
      "810 Erina\n",
      "811 Markar\n",
      "812 Aldebah\n",
      "813 Chios\n",
      "814 Weres\n",
      "815 Alraida\n",
      "816 Duhra\n",
      "817 Dorene\n",
      "818 Hellia\n",
      "819 Helean\n",
      "820 Ret\n",
      "821 Ste\n",
      "822 Pars\n",
      "823 Hion\n",
      "824 Nancey\n",
      "825 Elly\n",
      "826 Sheleon\n",
      "827 Gacrab\n",
      "828 Dills\n",
      "829 Beass\n",
      "830 Alhail\n",
      "831 Essara\n",
      "832 Tundsh\n",
      "833 Andine\n",
      "834 Ros\n",
      "835 Jel\n",
      "836 Cireal\n",
      "837 Heat\n",
      "838 Leen\n",
      "839 Auvara\n",
      "840 Elebola\n",
      "841 Stevey\n",
      "842 Jet\n",
      "843 Colly\n",
      "844 Altanin\n",
      "845 Weid\n",
      "846 Guaney\n",
      "847 Anes\n",
      "848 Scelava\n",
      "849 Mergas\n",
      "850 Wasaleh\n",
      "851 Kerrie\n",
      "852 Evaned\n",
      "853 Molley\n",
      "854 Carlie\n",
      "855 Dianie\n",
      "856 Bosonon\n",
      "857 Axinon\n",
      "858 Caia\n",
      "859 Azet\n",
      "860 Batares\n",
      "861 Edaron\n",
      "862 Paulie\n",
      "863 Sonnie\n",
      "864 Karie\n",
      "865 Dona\n",
      "866 Gral\n",
      "867 Alfrey\n",
      "868 Celeb\n",
      "869 Bahyon\n",
      "870 Cella\n",
      "871 Jayne\n",
      "872 Sterfik\n",
      "873 Kocha\n",
      "874 Zanino\n",
      "875 Mirfark\n",
      "876 Menchah\n",
      "877 Azhah\n",
      "878 Kumark\n",
      "879 Nusakab\n",
      "880 Wasath\n",
      "881 Sugbix\n",
      "882 Brancy\n",
      "883 Tifet\n",
      "884 Janita\n",
      "885 Ers\n",
      "886 Reneen\n",
      "887 Mits\n",
      "888 Wee\n",
      "889 Ork\n",
      "890 Alls\n",
      "891 Card\n",
      "892 Elany\n",
      "893 Harrie\n",
      "894 Eriney\n",
      "895 Erick\n",
      "896 Hughan\n",
      "897 Stace\n",
      "898 Genubi\n",
      "899 Melica\n",
      "900 Ivaney\n",
      "901 Wasatan\n",
      "902 Rinnab\n",
      "903 Lillen\n",
      "904 Celava\n",
      "905 Andyn\n",
      "906 Curtle\n",
      "907 Bethy\n",
      "908 Ianna\n",
      "909 Bretty\n",
      "910 Luise\n",
      "911 Lison\n",
      "912 Karah\n",
      "913 Misamak\n",
      "914 Wine\n",
      "915 Evenna\n",
      "916 Terope\n",
      "917 Snich\n",
      "918 Newtch\n",
      "919 Nelsie\n",
      "920 Catha\n",
      "921 Marms\n",
      "922 Sarthim\n",
      "923 Aarone\n",
      "924 Derina\n",
      "925 Lyn\n",
      "926 Briany\n",
      "927 Merops\n",
      "928 Antonon\n",
      "929 Tautrix\n",
      "930 Geno\n",
      "931 Cupers\n",
      "932 Babix\n",
      "933 Shres\n",
      "934 Razzle\n",
      "935 Tauva\n",
      "936 Eulahy\n",
      "937 Brafirk\n",
      "938 Batses\n",
      "939 Franda\n",
      "940 Hencey\n",
      "941 Melara\n",
      "942 Ren\n",
      "943 Sadark\n",
      "944 Antone\n",
      "945 Andice\n",
      "946 Enrie\n",
      "947 Hal\n",
      "948 Ricia\n",
      "949 Jackix\n",
      "950 Wilves\n",
      "951 Diles\n",
      "952 Nance\n",
      "953 Idace\n",
      "954 Aldhib\n",
      "955 Chamak\n",
      "956 Dscheat\n",
      "957 Naomin\n",
      "958 Mamina\n",
      "959 Winia\n",
      "960 Sethew\n",
      "961 Moniey\n",
      "962 Alsham\n",
      "963 Andrey\n",
      "964 Diram\n",
      "965 Tachba\n",
      "966 Grafi\n",
      "967 Medib\n",
      "968 Kitauon\n",
      "969 Wale\n",
      "970 Muld\n",
      "971 Sadrus\n",
      "972 Arion\n",
      "973 Tonnie\n",
      "974 Lilasa\n",
      "975 Stote\n",
      "976 Hocops\n",
      "977 Elindy\n",
      "978 Shan\n",
      "979 Pamiea\n",
      "980 Darry\n",
      "981 Mistie\n",
      "982 Aske\n",
      "983 Sharie\n",
      "984 Isa\n",
      "985 Beant\n",
      "986 Cings\n",
      "987 Fex\n",
      "988 Timmie\n",
      "989 Leony\n",
      "990 Bet\n",
      "991 Anchird\n",
      "992 Timmy\n",
      "993 Dunch\n",
      "994 Aleen\n",
      "995 Karia\n",
      "996 Coxah\n",
      "997 Joyces\n",
      "998 Ellena\n",
      "999 Quarke\n",
      "Quarke\n",
      "error\n"
     ]
    }
   ],
   "source": [
    "make_unique_list()\n",
    "# we ended with Jackix"
   ],
   "metadata": {
    "collapsed": false,
    "ExecuteTime": {
     "start_time": "2023-06-14T10:46:58.421186Z",
     "end_time": "2023-06-14T10:54:58.895065Z"
    }
   }
  },
  {
   "cell_type": "code",
   "execution_count": 113,
   "outputs": [
    {
     "name": "stdout",
     "output_type": "stream",
     "text": [
      "Grafik\n"
     ]
    },
    {
     "ename": "ConnectionError",
     "evalue": "HTTPSConnectionPool(host='api.genderize.io', port=443): Max retries exceeded with url: /?name=Grafik (Caused by NewConnectionError('<urllib3.connection.HTTPSConnection object at 0x000001ECF202E940>: Failed to establish a new connection: [WinError 10060] Попытка установить соединение была безуспешной, т.к. от другого компьютера за требуемое время не получен нужный отклик, или было разорвано уже установленное соединение из-за неверного отклика уже подключенного компьютера'))",
     "output_type": "error",
     "traceback": [
      "\u001B[1;31m---------------------------------------------------------------------------\u001B[0m",
      "\u001B[1;31mTimeoutError\u001B[0m                              Traceback (most recent call last)",
      "File \u001B[1;32mE:\\Code works\\Data Science\\Competitions_Vladdoos\\ML_Competitions\\venv\\lib\\site-packages\\urllib3\\connection.py:200\u001B[0m, in \u001B[0;36mHTTPConnection._new_conn\u001B[1;34m(self)\u001B[0m\n\u001B[0;32m    199\u001B[0m \u001B[38;5;28;01mtry\u001B[39;00m:\n\u001B[1;32m--> 200\u001B[0m     sock \u001B[38;5;241m=\u001B[39m \u001B[43mconnection\u001B[49m\u001B[38;5;241;43m.\u001B[39;49m\u001B[43mcreate_connection\u001B[49m\u001B[43m(\u001B[49m\n\u001B[0;32m    201\u001B[0m \u001B[43m        \u001B[49m\u001B[43m(\u001B[49m\u001B[38;5;28;43mself\u001B[39;49m\u001B[38;5;241;43m.\u001B[39;49m\u001B[43m_dns_host\u001B[49m\u001B[43m,\u001B[49m\u001B[43m \u001B[49m\u001B[38;5;28;43mself\u001B[39;49m\u001B[38;5;241;43m.\u001B[39;49m\u001B[43mport\u001B[49m\u001B[43m)\u001B[49m\u001B[43m,\u001B[49m\n\u001B[0;32m    202\u001B[0m \u001B[43m        \u001B[49m\u001B[38;5;28;43mself\u001B[39;49m\u001B[38;5;241;43m.\u001B[39;49m\u001B[43mtimeout\u001B[49m\u001B[43m,\u001B[49m\n\u001B[0;32m    203\u001B[0m \u001B[43m        \u001B[49m\u001B[43msource_address\u001B[49m\u001B[38;5;241;43m=\u001B[39;49m\u001B[38;5;28;43mself\u001B[39;49m\u001B[38;5;241;43m.\u001B[39;49m\u001B[43msource_address\u001B[49m\u001B[43m,\u001B[49m\n\u001B[0;32m    204\u001B[0m \u001B[43m        \u001B[49m\u001B[43msocket_options\u001B[49m\u001B[38;5;241;43m=\u001B[39;49m\u001B[38;5;28;43mself\u001B[39;49m\u001B[38;5;241;43m.\u001B[39;49m\u001B[43msocket_options\u001B[49m\u001B[43m,\u001B[49m\n\u001B[0;32m    205\u001B[0m \u001B[43m    \u001B[49m\u001B[43m)\u001B[49m\n\u001B[0;32m    206\u001B[0m \u001B[38;5;28;01mexcept\u001B[39;00m socket\u001B[38;5;241m.\u001B[39mgaierror \u001B[38;5;28;01mas\u001B[39;00m e:\n",
      "File \u001B[1;32mE:\\Code works\\Data Science\\Competitions_Vladdoos\\ML_Competitions\\venv\\lib\\site-packages\\urllib3\\util\\connection.py:85\u001B[0m, in \u001B[0;36mcreate_connection\u001B[1;34m(address, timeout, source_address, socket_options)\u001B[0m\n\u001B[0;32m     84\u001B[0m \u001B[38;5;28;01mtry\u001B[39;00m:\n\u001B[1;32m---> 85\u001B[0m     \u001B[38;5;28;01mraise\u001B[39;00m err\n\u001B[0;32m     86\u001B[0m \u001B[38;5;28;01mfinally\u001B[39;00m:\n\u001B[0;32m     87\u001B[0m     \u001B[38;5;66;03m# Break explicitly a reference cycle\u001B[39;00m\n",
      "File \u001B[1;32mE:\\Code works\\Data Science\\Competitions_Vladdoos\\ML_Competitions\\venv\\lib\\site-packages\\urllib3\\util\\connection.py:73\u001B[0m, in \u001B[0;36mcreate_connection\u001B[1;34m(address, timeout, source_address, socket_options)\u001B[0m\n\u001B[0;32m     72\u001B[0m     sock\u001B[38;5;241m.\u001B[39mbind(source_address)\n\u001B[1;32m---> 73\u001B[0m \u001B[43msock\u001B[49m\u001B[38;5;241;43m.\u001B[39;49m\u001B[43mconnect\u001B[49m\u001B[43m(\u001B[49m\u001B[43msa\u001B[49m\u001B[43m)\u001B[49m\n\u001B[0;32m     74\u001B[0m \u001B[38;5;66;03m# Break explicitly a reference cycle\u001B[39;00m\n",
      "\u001B[1;31mTimeoutError\u001B[0m: [WinError 10060] Попытка установить соединение была безуспешной, т.к. от другого компьютера за требуемое время не получен нужный отклик, или было разорвано уже установленное соединение из-за неверного отклика уже подключенного компьютера",
      "\nThe above exception was the direct cause of the following exception:\n",
      "\u001B[1;31mNewConnectionError\u001B[0m                        Traceback (most recent call last)",
      "File \u001B[1;32mE:\\Code works\\Data Science\\Competitions_Vladdoos\\ML_Competitions\\venv\\lib\\site-packages\\urllib3\\connectionpool.py:790\u001B[0m, in \u001B[0;36mHTTPConnectionPool.urlopen\u001B[1;34m(self, method, url, body, headers, retries, redirect, assert_same_host, timeout, pool_timeout, release_conn, chunked, body_pos, preload_content, decode_content, **response_kw)\u001B[0m\n\u001B[0;32m    789\u001B[0m \u001B[38;5;66;03m# Make the request on the HTTPConnection object\u001B[39;00m\n\u001B[1;32m--> 790\u001B[0m response \u001B[38;5;241m=\u001B[39m \u001B[38;5;28mself\u001B[39m\u001B[38;5;241m.\u001B[39m_make_request(\n\u001B[0;32m    791\u001B[0m     conn,\n\u001B[0;32m    792\u001B[0m     method,\n\u001B[0;32m    793\u001B[0m     url,\n\u001B[0;32m    794\u001B[0m     timeout\u001B[38;5;241m=\u001B[39mtimeout_obj,\n\u001B[0;32m    795\u001B[0m     body\u001B[38;5;241m=\u001B[39mbody,\n\u001B[0;32m    796\u001B[0m     headers\u001B[38;5;241m=\u001B[39mheaders,\n\u001B[0;32m    797\u001B[0m     chunked\u001B[38;5;241m=\u001B[39mchunked,\n\u001B[0;32m    798\u001B[0m     retries\u001B[38;5;241m=\u001B[39mretries,\n\u001B[0;32m    799\u001B[0m     response_conn\u001B[38;5;241m=\u001B[39mresponse_conn,\n\u001B[0;32m    800\u001B[0m     preload_content\u001B[38;5;241m=\u001B[39mpreload_content,\n\u001B[0;32m    801\u001B[0m     decode_content\u001B[38;5;241m=\u001B[39mdecode_content,\n\u001B[0;32m    802\u001B[0m     \u001B[38;5;241m*\u001B[39m\u001B[38;5;241m*\u001B[39mresponse_kw,\n\u001B[0;32m    803\u001B[0m )\n\u001B[0;32m    805\u001B[0m \u001B[38;5;66;03m# Everything went great!\u001B[39;00m\n",
      "File \u001B[1;32mE:\\Code works\\Data Science\\Competitions_Vladdoos\\ML_Competitions\\venv\\lib\\site-packages\\urllib3\\connectionpool.py:491\u001B[0m, in \u001B[0;36mHTTPConnectionPool._make_request\u001B[1;34m(self, conn, method, url, body, headers, retries, timeout, chunked, response_conn, preload_content, decode_content, enforce_content_length)\u001B[0m\n\u001B[0;32m    490\u001B[0m         new_e \u001B[38;5;241m=\u001B[39m _wrap_proxy_error(new_e, conn\u001B[38;5;241m.\u001B[39mproxy\u001B[38;5;241m.\u001B[39mscheme)\n\u001B[1;32m--> 491\u001B[0m     \u001B[38;5;28;01mraise\u001B[39;00m new_e\n\u001B[0;32m    493\u001B[0m \u001B[38;5;66;03m# conn.request() calls http.client.*.request, not the method in\u001B[39;00m\n\u001B[0;32m    494\u001B[0m \u001B[38;5;66;03m# urllib3.request. It also calls makefile (recv) on the socket.\u001B[39;00m\n",
      "File \u001B[1;32mE:\\Code works\\Data Science\\Competitions_Vladdoos\\ML_Competitions\\venv\\lib\\site-packages\\urllib3\\connectionpool.py:467\u001B[0m, in \u001B[0;36mHTTPConnectionPool._make_request\u001B[1;34m(self, conn, method, url, body, headers, retries, timeout, chunked, response_conn, preload_content, decode_content, enforce_content_length)\u001B[0m\n\u001B[0;32m    466\u001B[0m \u001B[38;5;28;01mtry\u001B[39;00m:\n\u001B[1;32m--> 467\u001B[0m     \u001B[38;5;28;43mself\u001B[39;49m\u001B[38;5;241;43m.\u001B[39;49m\u001B[43m_validate_conn\u001B[49m\u001B[43m(\u001B[49m\u001B[43mconn\u001B[49m\u001B[43m)\u001B[49m\n\u001B[0;32m    468\u001B[0m \u001B[38;5;28;01mexcept\u001B[39;00m (SocketTimeout, BaseSSLError) \u001B[38;5;28;01mas\u001B[39;00m e:\n",
      "File \u001B[1;32mE:\\Code works\\Data Science\\Competitions_Vladdoos\\ML_Competitions\\venv\\lib\\site-packages\\urllib3\\connectionpool.py:1092\u001B[0m, in \u001B[0;36mHTTPSConnectionPool._validate_conn\u001B[1;34m(self, conn)\u001B[0m\n\u001B[0;32m   1091\u001B[0m \u001B[38;5;28;01mif\u001B[39;00m conn\u001B[38;5;241m.\u001B[39mis_closed:\n\u001B[1;32m-> 1092\u001B[0m     \u001B[43mconn\u001B[49m\u001B[38;5;241;43m.\u001B[39;49m\u001B[43mconnect\u001B[49m\u001B[43m(\u001B[49m\u001B[43m)\u001B[49m\n\u001B[0;32m   1094\u001B[0m \u001B[38;5;28;01mif\u001B[39;00m \u001B[38;5;129;01mnot\u001B[39;00m conn\u001B[38;5;241m.\u001B[39mis_verified:\n",
      "File \u001B[1;32mE:\\Code works\\Data Science\\Competitions_Vladdoos\\ML_Competitions\\venv\\lib\\site-packages\\urllib3\\connection.py:604\u001B[0m, in \u001B[0;36mHTTPSConnection.connect\u001B[1;34m(self)\u001B[0m\n\u001B[0;32m    603\u001B[0m sock: socket\u001B[38;5;241m.\u001B[39msocket \u001B[38;5;241m|\u001B[39m ssl\u001B[38;5;241m.\u001B[39mSSLSocket\n\u001B[1;32m--> 604\u001B[0m \u001B[38;5;28mself\u001B[39m\u001B[38;5;241m.\u001B[39msock \u001B[38;5;241m=\u001B[39m sock \u001B[38;5;241m=\u001B[39m \u001B[38;5;28;43mself\u001B[39;49m\u001B[38;5;241;43m.\u001B[39;49m\u001B[43m_new_conn\u001B[49m\u001B[43m(\u001B[49m\u001B[43m)\u001B[49m\n\u001B[0;32m    605\u001B[0m server_hostname: \u001B[38;5;28mstr\u001B[39m \u001B[38;5;241m=\u001B[39m \u001B[38;5;28mself\u001B[39m\u001B[38;5;241m.\u001B[39mhost\n",
      "File \u001B[1;32mE:\\Code works\\Data Science\\Competitions_Vladdoos\\ML_Competitions\\venv\\lib\\site-packages\\urllib3\\connection.py:215\u001B[0m, in \u001B[0;36mHTTPConnection._new_conn\u001B[1;34m(self)\u001B[0m\n\u001B[0;32m    214\u001B[0m \u001B[38;5;28;01mexcept\u001B[39;00m \u001B[38;5;167;01mOSError\u001B[39;00m \u001B[38;5;28;01mas\u001B[39;00m e:\n\u001B[1;32m--> 215\u001B[0m     \u001B[38;5;28;01mraise\u001B[39;00m NewConnectionError(\n\u001B[0;32m    216\u001B[0m         \u001B[38;5;28mself\u001B[39m, \u001B[38;5;124mf\u001B[39m\u001B[38;5;124m\"\u001B[39m\u001B[38;5;124mFailed to establish a new connection: \u001B[39m\u001B[38;5;132;01m{\u001B[39;00me\u001B[38;5;132;01m}\u001B[39;00m\u001B[38;5;124m\"\u001B[39m\n\u001B[0;32m    217\u001B[0m     ) \u001B[38;5;28;01mfrom\u001B[39;00m \u001B[38;5;21;01me\u001B[39;00m\n\u001B[0;32m    219\u001B[0m \u001B[38;5;28;01mreturn\u001B[39;00m sock\n",
      "\u001B[1;31mNewConnectionError\u001B[0m: <urllib3.connection.HTTPSConnection object at 0x000001ECF202E940>: Failed to establish a new connection: [WinError 10060] Попытка установить соединение была безуспешной, т.к. от другого компьютера за требуемое время не получен нужный отклик, или было разорвано уже установленное соединение из-за неверного отклика уже подключенного компьютера",
      "\nThe above exception was the direct cause of the following exception:\n",
      "\u001B[1;31mMaxRetryError\u001B[0m                             Traceback (most recent call last)",
      "File \u001B[1;32mE:\\Code works\\Data Science\\Competitions_Vladdoos\\ML_Competitions\\venv\\lib\\site-packages\\requests\\adapters.py:486\u001B[0m, in \u001B[0;36mHTTPAdapter.send\u001B[1;34m(self, request, stream, timeout, verify, cert, proxies)\u001B[0m\n\u001B[0;32m    485\u001B[0m \u001B[38;5;28;01mtry\u001B[39;00m:\n\u001B[1;32m--> 486\u001B[0m     resp \u001B[38;5;241m=\u001B[39m \u001B[43mconn\u001B[49m\u001B[38;5;241;43m.\u001B[39;49m\u001B[43murlopen\u001B[49m\u001B[43m(\u001B[49m\n\u001B[0;32m    487\u001B[0m \u001B[43m        \u001B[49m\u001B[43mmethod\u001B[49m\u001B[38;5;241;43m=\u001B[39;49m\u001B[43mrequest\u001B[49m\u001B[38;5;241;43m.\u001B[39;49m\u001B[43mmethod\u001B[49m\u001B[43m,\u001B[49m\n\u001B[0;32m    488\u001B[0m \u001B[43m        \u001B[49m\u001B[43murl\u001B[49m\u001B[38;5;241;43m=\u001B[39;49m\u001B[43murl\u001B[49m\u001B[43m,\u001B[49m\n\u001B[0;32m    489\u001B[0m \u001B[43m        \u001B[49m\u001B[43mbody\u001B[49m\u001B[38;5;241;43m=\u001B[39;49m\u001B[43mrequest\u001B[49m\u001B[38;5;241;43m.\u001B[39;49m\u001B[43mbody\u001B[49m\u001B[43m,\u001B[49m\n\u001B[0;32m    490\u001B[0m \u001B[43m        \u001B[49m\u001B[43mheaders\u001B[49m\u001B[38;5;241;43m=\u001B[39;49m\u001B[43mrequest\u001B[49m\u001B[38;5;241;43m.\u001B[39;49m\u001B[43mheaders\u001B[49m\u001B[43m,\u001B[49m\n\u001B[0;32m    491\u001B[0m \u001B[43m        \u001B[49m\u001B[43mredirect\u001B[49m\u001B[38;5;241;43m=\u001B[39;49m\u001B[38;5;28;43;01mFalse\u001B[39;49;00m\u001B[43m,\u001B[49m\n\u001B[0;32m    492\u001B[0m \u001B[43m        \u001B[49m\u001B[43massert_same_host\u001B[49m\u001B[38;5;241;43m=\u001B[39;49m\u001B[38;5;28;43;01mFalse\u001B[39;49;00m\u001B[43m,\u001B[49m\n\u001B[0;32m    493\u001B[0m \u001B[43m        \u001B[49m\u001B[43mpreload_content\u001B[49m\u001B[38;5;241;43m=\u001B[39;49m\u001B[38;5;28;43;01mFalse\u001B[39;49;00m\u001B[43m,\u001B[49m\n\u001B[0;32m    494\u001B[0m \u001B[43m        \u001B[49m\u001B[43mdecode_content\u001B[49m\u001B[38;5;241;43m=\u001B[39;49m\u001B[38;5;28;43;01mFalse\u001B[39;49;00m\u001B[43m,\u001B[49m\n\u001B[0;32m    495\u001B[0m \u001B[43m        \u001B[49m\u001B[43mretries\u001B[49m\u001B[38;5;241;43m=\u001B[39;49m\u001B[38;5;28;43mself\u001B[39;49m\u001B[38;5;241;43m.\u001B[39;49m\u001B[43mmax_retries\u001B[49m\u001B[43m,\u001B[49m\n\u001B[0;32m    496\u001B[0m \u001B[43m        \u001B[49m\u001B[43mtimeout\u001B[49m\u001B[38;5;241;43m=\u001B[39;49m\u001B[43mtimeout\u001B[49m\u001B[43m,\u001B[49m\n\u001B[0;32m    497\u001B[0m \u001B[43m        \u001B[49m\u001B[43mchunked\u001B[49m\u001B[38;5;241;43m=\u001B[39;49m\u001B[43mchunked\u001B[49m\u001B[43m,\u001B[49m\n\u001B[0;32m    498\u001B[0m \u001B[43m    \u001B[49m\u001B[43m)\u001B[49m\n\u001B[0;32m    500\u001B[0m \u001B[38;5;28;01mexcept\u001B[39;00m (ProtocolError, \u001B[38;5;167;01mOSError\u001B[39;00m) \u001B[38;5;28;01mas\u001B[39;00m err:\n",
      "File \u001B[1;32mE:\\Code works\\Data Science\\Competitions_Vladdoos\\ML_Competitions\\venv\\lib\\site-packages\\urllib3\\connectionpool.py:844\u001B[0m, in \u001B[0;36mHTTPConnectionPool.urlopen\u001B[1;34m(self, method, url, body, headers, retries, redirect, assert_same_host, timeout, pool_timeout, release_conn, chunked, body_pos, preload_content, decode_content, **response_kw)\u001B[0m\n\u001B[0;32m    842\u001B[0m     new_e \u001B[38;5;241m=\u001B[39m ProtocolError(\u001B[38;5;124m\"\u001B[39m\u001B[38;5;124mConnection aborted.\u001B[39m\u001B[38;5;124m\"\u001B[39m, new_e)\n\u001B[1;32m--> 844\u001B[0m retries \u001B[38;5;241m=\u001B[39m \u001B[43mretries\u001B[49m\u001B[38;5;241;43m.\u001B[39;49m\u001B[43mincrement\u001B[49m\u001B[43m(\u001B[49m\n\u001B[0;32m    845\u001B[0m \u001B[43m    \u001B[49m\u001B[43mmethod\u001B[49m\u001B[43m,\u001B[49m\u001B[43m \u001B[49m\u001B[43murl\u001B[49m\u001B[43m,\u001B[49m\u001B[43m \u001B[49m\u001B[43merror\u001B[49m\u001B[38;5;241;43m=\u001B[39;49m\u001B[43mnew_e\u001B[49m\u001B[43m,\u001B[49m\u001B[43m \u001B[49m\u001B[43m_pool\u001B[49m\u001B[38;5;241;43m=\u001B[39;49m\u001B[38;5;28;43mself\u001B[39;49m\u001B[43m,\u001B[49m\u001B[43m \u001B[49m\u001B[43m_stacktrace\u001B[49m\u001B[38;5;241;43m=\u001B[39;49m\u001B[43msys\u001B[49m\u001B[38;5;241;43m.\u001B[39;49m\u001B[43mexc_info\u001B[49m\u001B[43m(\u001B[49m\u001B[43m)\u001B[49m\u001B[43m[\u001B[49m\u001B[38;5;241;43m2\u001B[39;49m\u001B[43m]\u001B[49m\n\u001B[0;32m    846\u001B[0m \u001B[43m\u001B[49m\u001B[43m)\u001B[49m\n\u001B[0;32m    847\u001B[0m retries\u001B[38;5;241m.\u001B[39msleep()\n",
      "File \u001B[1;32mE:\\Code works\\Data Science\\Competitions_Vladdoos\\ML_Competitions\\venv\\lib\\site-packages\\urllib3\\util\\retry.py:515\u001B[0m, in \u001B[0;36mRetry.increment\u001B[1;34m(self, method, url, response, error, _pool, _stacktrace)\u001B[0m\n\u001B[0;32m    514\u001B[0m     reason \u001B[38;5;241m=\u001B[39m error \u001B[38;5;129;01mor\u001B[39;00m ResponseError(cause)\n\u001B[1;32m--> 515\u001B[0m     \u001B[38;5;28;01mraise\u001B[39;00m MaxRetryError(_pool, url, reason) \u001B[38;5;28;01mfrom\u001B[39;00m \u001B[38;5;21;01mreason\u001B[39;00m  \u001B[38;5;66;03m# type: ignore[arg-type]\u001B[39;00m\n\u001B[0;32m    517\u001B[0m log\u001B[38;5;241m.\u001B[39mdebug(\u001B[38;5;124m\"\u001B[39m\u001B[38;5;124mIncremented Retry for (url=\u001B[39m\u001B[38;5;124m'\u001B[39m\u001B[38;5;132;01m%s\u001B[39;00m\u001B[38;5;124m'\u001B[39m\u001B[38;5;124m): \u001B[39m\u001B[38;5;132;01m%r\u001B[39;00m\u001B[38;5;124m\"\u001B[39m, url, new_retry)\n",
      "\u001B[1;31mMaxRetryError\u001B[0m: HTTPSConnectionPool(host='api.genderize.io', port=443): Max retries exceeded with url: /?name=Grafik (Caused by NewConnectionError('<urllib3.connection.HTTPSConnection object at 0x000001ECF202E940>: Failed to establish a new connection: [WinError 10060] Попытка установить соединение была безуспешной, т.к. от другого компьютера за требуемое время не получен нужный отклик, или было разорвано уже установленное соединение из-за неверного отклика уже подключенного компьютера'))",
      "\nDuring handling of the above exception, another exception occurred:\n",
      "\u001B[1;31mConnectionError\u001B[0m                           Traceback (most recent call last)",
      "Cell \u001B[1;32mIn[113], line 1\u001B[0m\n\u001B[1;32m----> 1\u001B[0m \u001B[43mmake_unique_list\u001B[49m\u001B[43m(\u001B[49m\u001B[43m)\u001B[49m\n",
      "Cell \u001B[1;32mIn[112], line 21\u001B[0m, in \u001B[0;36mmake_unique_list\u001B[1;34m()\u001B[0m\n\u001B[0;32m     19\u001B[0m \u001B[38;5;28;01mfor\u001B[39;00m name \u001B[38;5;129;01min\u001B[39;00m \u001B[38;5;28mlist\u001B[39m(unique_names\u001B[38;5;241m.\u001B[39mkeys())[\u001B[38;5;241m1532\u001B[39m:]:\n\u001B[0;32m     20\u001B[0m     \u001B[38;5;28mprint\u001B[39m(name)\n\u001B[1;32m---> 21\u001B[0m     unique_names[name] \u001B[38;5;241m=\u001B[39m \u001B[43mobtain_sex_by_name\u001B[49m\u001B[43m(\u001B[49m\u001B[43mname\u001B[49m\u001B[43m)\u001B[49m\n",
      "Cell \u001B[1;32mIn[112], line 6\u001B[0m, in \u001B[0;36mobtain_sex_by_name\u001B[1;34m(name)\u001B[0m\n\u001B[0;32m      5\u001B[0m \u001B[38;5;28;01mdef\u001B[39;00m \u001B[38;5;21mobtain_sex_by_name\u001B[39m(name):\n\u001B[1;32m----> 6\u001B[0m     res \u001B[38;5;241m=\u001B[39m \u001B[43mrequests\u001B[49m\u001B[38;5;241;43m.\u001B[39;49m\u001B[43mget\u001B[49m\u001B[43m(\u001B[49m\u001B[38;5;124;43mf\u001B[39;49m\u001B[38;5;124;43m\"\u001B[39;49m\u001B[38;5;124;43mhttps://api.genderize.io/?name=\u001B[39;49m\u001B[38;5;132;43;01m{\u001B[39;49;00m\u001B[43mname\u001B[49m\u001B[38;5;132;43;01m}\u001B[39;49;00m\u001B[38;5;124;43m\"\u001B[39;49m\u001B[43m)\u001B[49m\u001B[38;5;241m.\u001B[39mjson()\n\u001B[0;32m      7\u001B[0m     \u001B[38;5;28;01mtry\u001B[39;00m:\n\u001B[0;32m      8\u001B[0m         \u001B[38;5;28;01mif\u001B[39;00m res[\u001B[38;5;124m'\u001B[39m\u001B[38;5;124mgender\u001B[39m\u001B[38;5;124m'\u001B[39m] \u001B[38;5;241m==\u001B[39m \u001B[38;5;124m\"\u001B[39m\u001B[38;5;124mmale\u001B[39m\u001B[38;5;124m\"\u001B[39m:\n",
      "File \u001B[1;32mE:\\Code works\\Data Science\\Competitions_Vladdoos\\ML_Competitions\\venv\\lib\\site-packages\\requests\\api.py:73\u001B[0m, in \u001B[0;36mget\u001B[1;34m(url, params, **kwargs)\u001B[0m\n\u001B[0;32m     62\u001B[0m \u001B[38;5;28;01mdef\u001B[39;00m \u001B[38;5;21mget\u001B[39m(url, params\u001B[38;5;241m=\u001B[39m\u001B[38;5;28;01mNone\u001B[39;00m, \u001B[38;5;241m*\u001B[39m\u001B[38;5;241m*\u001B[39mkwargs):\n\u001B[0;32m     63\u001B[0m \u001B[38;5;250m    \u001B[39m\u001B[38;5;124mr\u001B[39m\u001B[38;5;124;03m\"\"\"Sends a GET request.\u001B[39;00m\n\u001B[0;32m     64\u001B[0m \n\u001B[0;32m     65\u001B[0m \u001B[38;5;124;03m    :param url: URL for the new :class:`Request` object.\u001B[39;00m\n\u001B[1;32m   (...)\u001B[0m\n\u001B[0;32m     70\u001B[0m \u001B[38;5;124;03m    :rtype: requests.Response\u001B[39;00m\n\u001B[0;32m     71\u001B[0m \u001B[38;5;124;03m    \"\"\"\u001B[39;00m\n\u001B[1;32m---> 73\u001B[0m     \u001B[38;5;28;01mreturn\u001B[39;00m request(\u001B[38;5;124m\"\u001B[39m\u001B[38;5;124mget\u001B[39m\u001B[38;5;124m\"\u001B[39m, url, params\u001B[38;5;241m=\u001B[39mparams, \u001B[38;5;241m*\u001B[39m\u001B[38;5;241m*\u001B[39mkwargs)\n",
      "File \u001B[1;32mE:\\Code works\\Data Science\\Competitions_Vladdoos\\ML_Competitions\\venv\\lib\\site-packages\\requests\\api.py:59\u001B[0m, in \u001B[0;36mrequest\u001B[1;34m(method, url, **kwargs)\u001B[0m\n\u001B[0;32m     55\u001B[0m \u001B[38;5;66;03m# By using the 'with' statement we are sure the session is closed, thus we\u001B[39;00m\n\u001B[0;32m     56\u001B[0m \u001B[38;5;66;03m# avoid leaving sockets open which can trigger a ResourceWarning in some\u001B[39;00m\n\u001B[0;32m     57\u001B[0m \u001B[38;5;66;03m# cases, and look like a memory leak in others.\u001B[39;00m\n\u001B[0;32m     58\u001B[0m \u001B[38;5;28;01mwith\u001B[39;00m sessions\u001B[38;5;241m.\u001B[39mSession() \u001B[38;5;28;01mas\u001B[39;00m session:\n\u001B[1;32m---> 59\u001B[0m     \u001B[38;5;28;01mreturn\u001B[39;00m session\u001B[38;5;241m.\u001B[39mrequest(method\u001B[38;5;241m=\u001B[39mmethod, url\u001B[38;5;241m=\u001B[39murl, \u001B[38;5;241m*\u001B[39m\u001B[38;5;241m*\u001B[39mkwargs)\n",
      "File \u001B[1;32mE:\\Code works\\Data Science\\Competitions_Vladdoos\\ML_Competitions\\venv\\lib\\site-packages\\requests\\sessions.py:589\u001B[0m, in \u001B[0;36mSession.request\u001B[1;34m(self, method, url, params, data, headers, cookies, files, auth, timeout, allow_redirects, proxies, hooks, stream, verify, cert, json)\u001B[0m\n\u001B[0;32m    584\u001B[0m send_kwargs \u001B[38;5;241m=\u001B[39m {\n\u001B[0;32m    585\u001B[0m     \u001B[38;5;124m\"\u001B[39m\u001B[38;5;124mtimeout\u001B[39m\u001B[38;5;124m\"\u001B[39m: timeout,\n\u001B[0;32m    586\u001B[0m     \u001B[38;5;124m\"\u001B[39m\u001B[38;5;124mallow_redirects\u001B[39m\u001B[38;5;124m\"\u001B[39m: allow_redirects,\n\u001B[0;32m    587\u001B[0m }\n\u001B[0;32m    588\u001B[0m send_kwargs\u001B[38;5;241m.\u001B[39mupdate(settings)\n\u001B[1;32m--> 589\u001B[0m resp \u001B[38;5;241m=\u001B[39m \u001B[38;5;28mself\u001B[39m\u001B[38;5;241m.\u001B[39msend(prep, \u001B[38;5;241m*\u001B[39m\u001B[38;5;241m*\u001B[39msend_kwargs)\n\u001B[0;32m    591\u001B[0m \u001B[38;5;28;01mreturn\u001B[39;00m resp\n",
      "File \u001B[1;32mE:\\Code works\\Data Science\\Competitions_Vladdoos\\ML_Competitions\\venv\\lib\\site-packages\\requests\\sessions.py:703\u001B[0m, in \u001B[0;36mSession.send\u001B[1;34m(self, request, **kwargs)\u001B[0m\n\u001B[0;32m    700\u001B[0m start \u001B[38;5;241m=\u001B[39m preferred_clock()\n\u001B[0;32m    702\u001B[0m \u001B[38;5;66;03m# Send the request\u001B[39;00m\n\u001B[1;32m--> 703\u001B[0m r \u001B[38;5;241m=\u001B[39m adapter\u001B[38;5;241m.\u001B[39msend(request, \u001B[38;5;241m*\u001B[39m\u001B[38;5;241m*\u001B[39mkwargs)\n\u001B[0;32m    705\u001B[0m \u001B[38;5;66;03m# Total elapsed time of the request (approximately)\u001B[39;00m\n\u001B[0;32m    706\u001B[0m elapsed \u001B[38;5;241m=\u001B[39m preferred_clock() \u001B[38;5;241m-\u001B[39m start\n",
      "File \u001B[1;32mE:\\Code works\\Data Science\\Competitions_Vladdoos\\ML_Competitions\\venv\\lib\\site-packages\\requests\\adapters.py:519\u001B[0m, in \u001B[0;36mHTTPAdapter.send\u001B[1;34m(self, request, stream, timeout, verify, cert, proxies)\u001B[0m\n\u001B[0;32m    515\u001B[0m     \u001B[38;5;28;01mif\u001B[39;00m \u001B[38;5;28misinstance\u001B[39m(e\u001B[38;5;241m.\u001B[39mreason, _SSLError):\n\u001B[0;32m    516\u001B[0m         \u001B[38;5;66;03m# This branch is for urllib3 v1.22 and later.\u001B[39;00m\n\u001B[0;32m    517\u001B[0m         \u001B[38;5;28;01mraise\u001B[39;00m SSLError(e, request\u001B[38;5;241m=\u001B[39mrequest)\n\u001B[1;32m--> 519\u001B[0m     \u001B[38;5;28;01mraise\u001B[39;00m \u001B[38;5;167;01mConnectionError\u001B[39;00m(e, request\u001B[38;5;241m=\u001B[39mrequest)\n\u001B[0;32m    521\u001B[0m \u001B[38;5;28;01mexcept\u001B[39;00m ClosedPoolError \u001B[38;5;28;01mas\u001B[39;00m e:\n\u001B[0;32m    522\u001B[0m     \u001B[38;5;28;01mraise\u001B[39;00m \u001B[38;5;167;01mConnectionError\u001B[39;00m(e, request\u001B[38;5;241m=\u001B[39mrequest)\n",
      "\u001B[1;31mConnectionError\u001B[0m: HTTPSConnectionPool(host='api.genderize.io', port=443): Max retries exceeded with url: /?name=Grafik (Caused by NewConnectionError('<urllib3.connection.HTTPSConnection object at 0x000001ECF202E940>: Failed to establish a new connection: [WinError 10060] Попытка установить соединение была безуспешной, т.к. от другого компьютера за требуемое время не получен нужный отклик, или было разорвано уже установленное соединение из-за неверного отклика уже подключенного компьютера'))"
     ]
    }
   ],
   "source": [
    "make_unique_list()"
   ],
   "metadata": {
    "collapsed": false,
    "ExecuteTime": {
     "start_time": "2023-06-11T23:35:37.854808Z",
     "end_time": "2023-06-11T23:35:37.876762Z"
    }
   }
  },
  {
   "cell_type": "code",
   "execution_count": 65,
   "outputs": [
    {
     "data": {
      "text/plain": "0"
     },
     "execution_count": 65,
     "metadata": {},
     "output_type": "execute_result"
    }
   ],
   "source": [
    "obtain_sex_by_name(\"Maham\")"
   ],
   "metadata": {
    "collapsed": false,
    "ExecuteTime": {
     "start_time": "2023-06-14T10:45:38.094924Z",
     "end_time": "2023-06-14T10:45:38.745332Z"
    }
   }
  },
  {
   "cell_type": "code",
   "execution_count": 109,
   "outputs": [
    {
     "name": "stdout",
     "output_type": "stream",
     "text": [
      "1528\n"
     ]
    }
   ],
   "source": [
    "for i in range(0, len(list(unique_names.keys()))):\n",
    "    if \"Etha\" == list(unique_names.keys())[i]:\n",
    "        print(i)"
   ],
   "metadata": {
    "collapsed": false,
    "ExecuteTime": {
     "start_time": "2023-06-11T23:44:43.502312Z",
     "end_time": "2023-06-11T23:44:43.533313Z"
    }
   }
  },
  {
   "cell_type": "code",
   "execution_count": 130,
   "outputs": [],
   "source": [
    "import pickle\n",
    "with open(\"features/namesdict3.pickle\", \"wb\") as file:\n",
    "    pickle.dump(unique_names, file)"
   ],
   "metadata": {
    "collapsed": false,
    "ExecuteTime": {
     "start_time": "2023-06-14T11:20:38.092997Z",
     "end_time": "2023-06-14T11:20:38.110989Z"
    }
   }
  },
  {
   "cell_type": "code",
   "execution_count": 7,
   "outputs": [
    {
     "data": {
      "text/plain": "0"
     },
     "execution_count": 7,
     "metadata": {},
     "output_type": "execute_result"
    }
   ],
   "source": [
    "b['Amyra']"
   ],
   "metadata": {
    "collapsed": false,
    "ExecuteTime": {
     "start_time": "2023-06-14T10:40:59.634344Z",
     "end_time": "2023-06-14T10:40:59.661355Z"
    }
   }
  },
  {
   "cell_type": "code",
   "execution_count": 76,
   "outputs": [
    {
     "data": {
      "text/plain": "-1"
     },
     "execution_count": 76,
     "metadata": {},
     "output_type": "execute_result"
    }
   ],
   "source": [
    "unique_names[list(unique_names.keys())[0]]"
   ],
   "metadata": {
    "collapsed": false,
    "ExecuteTime": {
     "start_time": "2023-06-14T10:46:41.347241Z",
     "end_time": "2023-06-14T10:46:41.367233Z"
    }
   }
  },
  {
   "cell_type": "code",
   "execution_count": 47,
   "outputs": [
    {
     "data": {
      "text/plain": "-1"
     },
     "execution_count": 47,
     "metadata": {},
     "output_type": "execute_result"
    }
   ],
   "source": [
    "a[list(b.keys())[2499]]"
   ],
   "metadata": {
    "collapsed": false,
    "ExecuteTime": {
     "start_time": "2023-06-14T10:44:02.738231Z",
     "end_time": "2023-06-14T10:44:02.767751Z"
    }
   }
  },
  {
   "cell_type": "code",
   "execution_count": 86,
   "outputs": [],
   "source": [
    "unique_names[nan] = -1"
   ],
   "metadata": {
    "collapsed": false,
    "ExecuteTime": {
     "start_time": "2023-06-14T10:56:28.425680Z",
     "end_time": "2023-06-14T10:56:28.450204Z"
    }
   }
  },
  {
   "cell_type": "code",
   "execution_count": 88,
   "outputs": [
    {
     "data": {
      "text/plain": "0       0.0\n1       0.0\n2       1.0\n3       1.0\n4       1.0\n       ... \n8688   -1.0\n8689    1.0\n8690    0.0\n8691   -1.0\n8692   -1.0\nName: 0, Length: 8493, dtype: float64"
     },
     "execution_count": 88,
     "metadata": {},
     "output_type": "execute_result"
    }
   ],
   "source": [
    "df[df['Name'].isnull() == False]['Name'].str.split(\" \", expand=True)[0].agg(lambda x: unique_names[x])\n"
   ],
   "metadata": {
    "collapsed": false,
    "ExecuteTime": {
     "start_time": "2023-06-14T10:56:51.562845Z",
     "end_time": "2023-06-14T10:56:51.611863Z"
    }
   }
  },
  {
   "cell_type": "code",
   "execution_count": 116,
   "outputs": [],
   "source": [
    "names = df['Name'].str.split(\" \", expand=True)[0]"
   ],
   "metadata": {
    "collapsed": false,
    "ExecuteTime": {
     "start_time": "2023-06-14T11:18:26.607710Z",
     "end_time": "2023-06-14T11:18:26.621711Z"
    }
   }
  },
  {
   "cell_type": "code",
   "execution_count": 126,
   "outputs": [],
   "source": [
    "bad_names = []\n",
    "for n in names:\n",
    "    if n not in unique_names:\n",
    "        bad_names.append(n)\n",
    "        unique_names[n] = -1"
   ],
   "metadata": {
    "collapsed": false,
    "ExecuteTime": {
     "start_time": "2023-06-14T11:19:49.838213Z",
     "end_time": "2023-06-14T11:19:49.851732Z"
    }
   }
  },
  {
   "cell_type": "code",
   "execution_count": 129,
   "outputs": [
    {
     "data": {
      "text/plain": "178"
     },
     "execution_count": 129,
     "metadata": {},
     "output_type": "execute_result"
    }
   ],
   "source": [
    "len(bad_names)"
   ],
   "metadata": {
    "collapsed": false,
    "ExecuteTime": {
     "start_time": "2023-06-14T11:20:14.242649Z",
     "end_time": "2023-06-14T11:20:14.254649Z"
    }
   }
  },
  {
   "cell_type": "code",
   "execution_count": 177,
   "outputs": [],
   "source": [
    "d1 = pd.read_csv(\"results/proba-train_3-lightgb.csv\")\n",
    "d2 = pd.read_csv(\"results/proba_train2_gpt.csv\")\n",
    "d3 = pd.read_csv(\"results/proba-GPTlight_1.csv\")"
   ],
   "metadata": {
    "collapsed": false,
    "ExecuteTime": {
     "start_time": "2023-06-14T11:51:11.681775Z",
     "end_time": "2023-06-14T11:51:11.715778Z"
    }
   }
  },
  {
   "cell_type": "code",
   "execution_count": 164,
   "outputs": [],
   "source": [
    "d2.loc[:,'Transported'] = (d1 + d2.loc[:,'Transported'] + d3) / 3"
   ],
   "metadata": {
    "collapsed": false,
    "ExecuteTime": {
     "start_time": "2023-06-14T11:50:06.041441Z",
     "end_time": "2023-06-14T11:50:06.194973Z"
    }
   }
  },
  {
   "cell_type": "code",
   "execution_count": 218,
   "outputs": [
    {
     "data": {
      "text/plain": "array([[1.77195046, 1.17515672, 2.16020498, ..., 2.05352417, 2.06968038,\n        1.79509698],\n       [0.66794178, 0.07114805, 1.0561963 , ..., 0.94951549, 0.96567171,\n        0.6910883 ],\n       [2.58285352, 1.98605979, 2.97110804, ..., 2.86442723, 2.88058345,\n        2.60600005],\n       ...,\n       [2.51015297, 1.91335924, 2.89840749, ..., 2.79172668, 2.80788289,\n        2.53329949],\n       [1.86517353, 1.26837979, 2.25342805, ..., 2.14674724, 2.16290345,\n        1.88832005],\n       [1.8367531 , 1.23995936, 2.22500762, ..., 2.11832681, 2.13448302,\n        1.85989962]])"
     },
     "execution_count": 218,
     "metadata": {},
     "output_type": "execute_result"
    }
   ],
   "source": [
    "d1.values + d3.values + d2['Transported'].values"
   ],
   "metadata": {
    "collapsed": false,
    "ExecuteTime": {
     "start_time": "2023-06-14T11:54:57.853976Z",
     "end_time": "2023-06-14T11:54:57.920423Z"
    }
   }
  },
  {
   "cell_type": "code",
   "execution_count": 221,
   "outputs": [
    {
     "data": {
      "text/plain": "0.6071836726021318"
     },
     "execution_count": 221,
     "metadata": {},
     "output_type": "execute_result"
    }
   ],
   "source": [
    "d2['Transported'].values[0]"
   ],
   "metadata": {
    "collapsed": false,
    "ExecuteTime": {
     "start_time": "2023-06-14T11:55:13.044934Z",
     "end_time": "2023-06-14T11:55:13.068459Z"
    }
   }
  },
  {
   "cell_type": "code",
   "execution_count": 259,
   "outputs": [],
   "source": [
    "d2['Transported'] = (d1 + d3 + d) / 3"
   ],
   "metadata": {
    "collapsed": false,
    "ExecuteTime": {
     "start_time": "2023-06-14T11:58:00.512999Z",
     "end_time": "2023-06-14T11:58:00.541483Z"
    }
   }
  },
  {
   "cell_type": "code",
   "execution_count": 283,
   "outputs": [],
   "source": [
    "d2.loc[:,'Transported'] = d2['Transported'].agg(lambda x: True if x > 0.55 else False)"
   ],
   "metadata": {
    "collapsed": false,
    "ExecuteTime": {
     "start_time": "2023-06-14T12:00:08.365750Z",
     "end_time": "2023-06-14T12:00:08.392745Z"
    }
   }
  },
  {
   "cell_type": "code",
   "execution_count": 280,
   "outputs": [],
   "source": [
    "d2['S'] = d2['Transported'].agg(lambda x: True if x > 0.55 else False)"
   ],
   "metadata": {
    "collapsed": false,
    "ExecuteTime": {
     "start_time": "2023-06-14T11:59:47.510999Z",
     "end_time": "2023-06-14T11:59:47.527014Z"
    }
   }
  },
  {
   "cell_type": "code",
   "execution_count": 288,
   "outputs": [],
   "source": [
    "d2.to_csv(\"results/strange_united.csv\", index=False)"
   ],
   "metadata": {
    "collapsed": false,
    "ExecuteTime": {
     "start_time": "2023-06-14T12:01:00.537625Z",
     "end_time": "2023-06-14T12:01:00.566146Z"
    }
   }
  }
 ],
 "metadata": {
  "kernelspec": {
   "display_name": "Python 3",
   "language": "python",
   "name": "python3"
  },
  "language_info": {
   "codemirror_mode": {
    "name": "ipython",
    "version": 2
   },
   "file_extension": ".py",
   "mimetype": "text/x-python",
   "name": "python",
   "nbconvert_exporter": "python",
   "pygments_lexer": "ipython2",
   "version": "2.7.6"
  }
 },
 "nbformat": 4,
 "nbformat_minor": 0
}
