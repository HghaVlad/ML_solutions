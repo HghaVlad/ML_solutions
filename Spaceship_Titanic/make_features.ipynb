{
 "cells": [
  {
   "cell_type": "code",
   "execution_count": 1,
   "metadata": {
    "collapsed": true,
    "ExecuteTime": {
     "start_time": "2023-06-15T14:41:09.369210Z",
     "end_time": "2023-06-15T14:41:11.745083Z"
    }
   },
   "outputs": [],
   "source": [
    "import pandas as pd\n",
    "import numpy as np"
   ]
  },
  {
   "cell_type": "code",
   "execution_count": 238,
   "outputs": [],
   "source": [
    "df = pd.read_csv(\"train.csv\")"
   ],
   "metadata": {
    "collapsed": false,
    "ExecuteTime": {
     "start_time": "2023-06-15T15:45:54.572379Z",
     "end_time": "2023-06-15T15:45:54.605809Z"
    }
   }
  },
  {
   "cell_type": "code",
   "execution_count": 214,
   "outputs": [
    {
     "name": "stdout",
     "output_type": "stream",
     "text": [
      "<class 'pandas.core.frame.DataFrame'>\n",
      "RangeIndex: 4277 entries, 0 to 4276\n",
      "Data columns (total 13 columns):\n",
      " #   Column        Non-Null Count  Dtype  \n",
      "---  ------        --------------  -----  \n",
      " 0   PassengerId   4277 non-null   object \n",
      " 1   HomePlanet    4190 non-null   object \n",
      " 2   CryoSleep     4184 non-null   object \n",
      " 3   Cabin         4177 non-null   object \n",
      " 4   Destination   4185 non-null   object \n",
      " 5   Age           4186 non-null   float64\n",
      " 6   VIP           4184 non-null   object \n",
      " 7   RoomService   4195 non-null   float64\n",
      " 8   FoodCourt     4171 non-null   float64\n",
      " 9   ShoppingMall  4179 non-null   float64\n",
      " 10  Spa           4176 non-null   float64\n",
      " 11  VRDeck        4197 non-null   float64\n",
      " 12  Name          4183 non-null   object \n",
      "dtypes: float64(6), object(7)\n",
      "memory usage: 434.5+ KB\n"
     ]
    }
   ],
   "source": [
    "df.info()"
   ],
   "metadata": {
    "collapsed": false,
    "ExecuteTime": {
     "start_time": "2023-06-15T15:37:31.623711Z",
     "end_time": "2023-06-15T15:37:31.636708Z"
    }
   }
  },
  {
   "cell_type": "code",
   "execution_count": 108,
   "outputs": [
    {
     "data": {
      "text/plain": "  PassengerId HomePlanet CryoSleep  Cabin    Destination   Age    VIP  \\\n0     0001_01     Europa     False  B/0/P    TRAPPIST-1e  39.0  False   \n1     0002_01      Earth     False  F/0/S    TRAPPIST-1e  24.0  False   \n2     0003_01     Europa     False  A/0/S    TRAPPIST-1e  58.0   True   \n3     0003_02     Europa     False  A/0/S    TRAPPIST-1e  33.0  False   \n4     0004_01      Earth     False  F/1/S    TRAPPIST-1e  16.0  False   \n5     0005_01      Earth     False  F/0/P  PSO J318.5-22  44.0  False   \n6     0006_01      Earth     False  F/2/S    TRAPPIST-1e  26.0  False   \n7     0006_02      Earth      True  G/0/S    TRAPPIST-1e  28.0  False   \n8     0007_01      Earth     False  F/3/S    TRAPPIST-1e  35.0  False   \n9     0008_01     Europa      True  B/1/P    55 Cancri e  14.0  False   \n\n   RoomService  FoodCourt  ShoppingMall     Spa  VRDeck                Name  \\\n0          0.0        0.0           0.0     0.0     0.0     Maham Ofracculy   \n1        109.0        9.0          25.0   549.0    44.0        Juanna Vines   \n2         43.0     3576.0           0.0  6715.0    49.0       Altark Susent   \n3          0.0     1283.0         371.0  3329.0   193.0        Solam Susent   \n4        303.0       70.0         151.0   565.0     2.0   Willy Santantines   \n5          0.0      483.0           0.0   291.0     0.0   Sandie Hinetthews   \n6         42.0     1539.0           3.0     0.0     0.0  Billex Jacostaffey   \n7          0.0        0.0           0.0     0.0     NaN  Candra Jacostaffey   \n8          0.0      785.0          17.0   216.0     0.0       Andona Beston   \n9          0.0        0.0           0.0     0.0     0.0      Erraiam Flatic   \n\n   Transported  \n0        False  \n1         True  \n2        False  \n3        False  \n4         True  \n5         True  \n6         True  \n7         True  \n8         True  \n9         True  ",
      "text/html": "<div>\n<style scoped>\n    .dataframe tbody tr th:only-of-type {\n        vertical-align: middle;\n    }\n\n    .dataframe tbody tr th {\n        vertical-align: top;\n    }\n\n    .dataframe thead th {\n        text-align: right;\n    }\n</style>\n<table border=\"1\" class=\"dataframe\">\n  <thead>\n    <tr style=\"text-align: right;\">\n      <th></th>\n      <th>PassengerId</th>\n      <th>HomePlanet</th>\n      <th>CryoSleep</th>\n      <th>Cabin</th>\n      <th>Destination</th>\n      <th>Age</th>\n      <th>VIP</th>\n      <th>RoomService</th>\n      <th>FoodCourt</th>\n      <th>ShoppingMall</th>\n      <th>Spa</th>\n      <th>VRDeck</th>\n      <th>Name</th>\n      <th>Transported</th>\n    </tr>\n  </thead>\n  <tbody>\n    <tr>\n      <th>0</th>\n      <td>0001_01</td>\n      <td>Europa</td>\n      <td>False</td>\n      <td>B/0/P</td>\n      <td>TRAPPIST-1e</td>\n      <td>39.0</td>\n      <td>False</td>\n      <td>0.0</td>\n      <td>0.0</td>\n      <td>0.0</td>\n      <td>0.0</td>\n      <td>0.0</td>\n      <td>Maham Ofracculy</td>\n      <td>False</td>\n    </tr>\n    <tr>\n      <th>1</th>\n      <td>0002_01</td>\n      <td>Earth</td>\n      <td>False</td>\n      <td>F/0/S</td>\n      <td>TRAPPIST-1e</td>\n      <td>24.0</td>\n      <td>False</td>\n      <td>109.0</td>\n      <td>9.0</td>\n      <td>25.0</td>\n      <td>549.0</td>\n      <td>44.0</td>\n      <td>Juanna Vines</td>\n      <td>True</td>\n    </tr>\n    <tr>\n      <th>2</th>\n      <td>0003_01</td>\n      <td>Europa</td>\n      <td>False</td>\n      <td>A/0/S</td>\n      <td>TRAPPIST-1e</td>\n      <td>58.0</td>\n      <td>True</td>\n      <td>43.0</td>\n      <td>3576.0</td>\n      <td>0.0</td>\n      <td>6715.0</td>\n      <td>49.0</td>\n      <td>Altark Susent</td>\n      <td>False</td>\n    </tr>\n    <tr>\n      <th>3</th>\n      <td>0003_02</td>\n      <td>Europa</td>\n      <td>False</td>\n      <td>A/0/S</td>\n      <td>TRAPPIST-1e</td>\n      <td>33.0</td>\n      <td>False</td>\n      <td>0.0</td>\n      <td>1283.0</td>\n      <td>371.0</td>\n      <td>3329.0</td>\n      <td>193.0</td>\n      <td>Solam Susent</td>\n      <td>False</td>\n    </tr>\n    <tr>\n      <th>4</th>\n      <td>0004_01</td>\n      <td>Earth</td>\n      <td>False</td>\n      <td>F/1/S</td>\n      <td>TRAPPIST-1e</td>\n      <td>16.0</td>\n      <td>False</td>\n      <td>303.0</td>\n      <td>70.0</td>\n      <td>151.0</td>\n      <td>565.0</td>\n      <td>2.0</td>\n      <td>Willy Santantines</td>\n      <td>True</td>\n    </tr>\n    <tr>\n      <th>5</th>\n      <td>0005_01</td>\n      <td>Earth</td>\n      <td>False</td>\n      <td>F/0/P</td>\n      <td>PSO J318.5-22</td>\n      <td>44.0</td>\n      <td>False</td>\n      <td>0.0</td>\n      <td>483.0</td>\n      <td>0.0</td>\n      <td>291.0</td>\n      <td>0.0</td>\n      <td>Sandie Hinetthews</td>\n      <td>True</td>\n    </tr>\n    <tr>\n      <th>6</th>\n      <td>0006_01</td>\n      <td>Earth</td>\n      <td>False</td>\n      <td>F/2/S</td>\n      <td>TRAPPIST-1e</td>\n      <td>26.0</td>\n      <td>False</td>\n      <td>42.0</td>\n      <td>1539.0</td>\n      <td>3.0</td>\n      <td>0.0</td>\n      <td>0.0</td>\n      <td>Billex Jacostaffey</td>\n      <td>True</td>\n    </tr>\n    <tr>\n      <th>7</th>\n      <td>0006_02</td>\n      <td>Earth</td>\n      <td>True</td>\n      <td>G/0/S</td>\n      <td>TRAPPIST-1e</td>\n      <td>28.0</td>\n      <td>False</td>\n      <td>0.0</td>\n      <td>0.0</td>\n      <td>0.0</td>\n      <td>0.0</td>\n      <td>NaN</td>\n      <td>Candra Jacostaffey</td>\n      <td>True</td>\n    </tr>\n    <tr>\n      <th>8</th>\n      <td>0007_01</td>\n      <td>Earth</td>\n      <td>False</td>\n      <td>F/3/S</td>\n      <td>TRAPPIST-1e</td>\n      <td>35.0</td>\n      <td>False</td>\n      <td>0.0</td>\n      <td>785.0</td>\n      <td>17.0</td>\n      <td>216.0</td>\n      <td>0.0</td>\n      <td>Andona Beston</td>\n      <td>True</td>\n    </tr>\n    <tr>\n      <th>9</th>\n      <td>0008_01</td>\n      <td>Europa</td>\n      <td>True</td>\n      <td>B/1/P</td>\n      <td>55 Cancri e</td>\n      <td>14.0</td>\n      <td>False</td>\n      <td>0.0</td>\n      <td>0.0</td>\n      <td>0.0</td>\n      <td>0.0</td>\n      <td>0.0</td>\n      <td>Erraiam Flatic</td>\n      <td>True</td>\n    </tr>\n  </tbody>\n</table>\n</div>"
     },
     "execution_count": 108,
     "metadata": {},
     "output_type": "execute_result"
    }
   ],
   "source": [
    "df.head(10)"
   ],
   "metadata": {
    "collapsed": false,
    "ExecuteTime": {
     "start_time": "2023-06-15T14:51:20.123594Z",
     "end_time": "2023-06-15T14:51:20.151893Z"
    }
   }
  },
  {
   "cell_type": "code",
   "execution_count": 235,
   "outputs": [],
   "source": [
    "data = df.copy()"
   ],
   "metadata": {
    "collapsed": false,
    "ExecuteTime": {
     "start_time": "2023-06-07T20:28:44.802893Z",
     "end_time": "2023-06-07T20:28:44.817893Z"
    }
   }
  },
  {
   "cell_type": "code",
   "execution_count": 236,
   "outputs": [
    {
     "name": "stdout",
     "output_type": "stream",
     "text": [
      "<class 'pandas.core.frame.DataFrame'>\n",
      "RangeIndex: 8693 entries, 0 to 8692\n",
      "Data columns (total 14 columns):\n",
      " #   Column        Non-Null Count  Dtype  \n",
      "---  ------        --------------  -----  \n",
      " 0   PassengerId   8693 non-null   object \n",
      " 1   HomePlanet    8492 non-null   object \n",
      " 2   CryoSleep     8476 non-null   object \n",
      " 3   Cabin         8494 non-null   object \n",
      " 4   Destination   8511 non-null   object \n",
      " 5   Age           8514 non-null   float64\n",
      " 6   VIP           8490 non-null   object \n",
      " 7   RoomService   8512 non-null   float64\n",
      " 8   FoodCourt     8510 non-null   float64\n",
      " 9   ShoppingMall  8485 non-null   float64\n",
      " 10  Spa           8510 non-null   float64\n",
      " 11  VRDeck        8505 non-null   float64\n",
      " 12  Name          8493 non-null   object \n",
      " 13  Transported   8693 non-null   bool   \n",
      "dtypes: bool(1), float64(6), object(7)\n",
      "memory usage: 891.5+ KB\n"
     ]
    }
   ],
   "source": [
    "data.info()"
   ],
   "metadata": {
    "collapsed": false,
    "ExecuteTime": {
     "start_time": "2023-06-07T20:28:46.379377Z",
     "end_time": "2023-06-07T20:28:46.403374Z"
    }
   }
  },
  {
   "cell_type": "code",
   "execution_count": 112,
   "outputs": [],
   "source": [
    "#data['Transported'] = -1 - for test"
   ],
   "metadata": {
    "collapsed": false,
    "ExecuteTime": {
     "start_time": "2023-06-07T13:01:40.674836Z",
     "end_time": "2023-06-07T13:01:40.702867Z"
    }
   }
  },
  {
   "cell_type": "markdown",
   "source": [
    "#### Заполняем nan средними значениями"
   ],
   "metadata": {
    "collapsed": false
   }
  },
  {
   "cell_type": "code",
   "execution_count": 163,
   "outputs": [
    {
     "data": {
      "text/plain": "HomePlanet\nEarth     4803\nEuropa    2131\nMars      1759\nName: count, dtype: int64"
     },
     "execution_count": 163,
     "metadata": {},
     "output_type": "execute_result"
    }
   ],
   "source": [
    "data[data['HomePlanet'].isna() == False]['HomePlanet'].value_counts()"
   ],
   "metadata": {
    "collapsed": false,
    "ExecuteTime": {
     "start_time": "2023-06-07T20:20:29.566351Z",
     "end_time": "2023-06-07T20:20:29.582349Z"
    }
   }
  },
  {
   "cell_type": "code",
   "execution_count": 162,
   "outputs": [
    {
     "data": {
      "text/plain": "Series([], Name: HomePlanet, dtype: object)"
     },
     "execution_count": 162,
     "metadata": {},
     "output_type": "execute_result"
    }
   ],
   "source": [
    "data[data['HomePlanet'].isna()]['HomePlanet']"
   ],
   "metadata": {
    "collapsed": false,
    "ExecuteTime": {
     "start_time": "2023-06-07T20:20:27.234591Z",
     "end_time": "2023-06-07T20:20:27.282767Z"
    }
   }
  },
  {
   "cell_type": "code",
   "execution_count": 237,
   "outputs": [],
   "source": [
    "data.loc[data['HomePlanet'].isna(), \"HomePlanet\"] = 'Earth'"
   ],
   "metadata": {
    "collapsed": false,
    "ExecuteTime": {
     "start_time": "2023-06-07T20:28:53.197152Z",
     "end_time": "2023-06-07T20:28:53.214150Z"
    }
   }
  },
  {
   "cell_type": "code",
   "execution_count": 166,
   "outputs": [
    {
     "data": {
      "text/plain": "CryoSleep\nFalse    5656\nTrue     3037\nName: count, dtype: int64"
     },
     "execution_count": 166,
     "metadata": {},
     "output_type": "execute_result"
    }
   ],
   "source": [
    "data['CryoSleep'].value_counts()"
   ],
   "metadata": {
    "collapsed": false,
    "ExecuteTime": {
     "start_time": "2023-06-07T20:20:51.987206Z",
     "end_time": "2023-06-07T20:20:52.016740Z"
    }
   }
  },
  {
   "cell_type": "code",
   "execution_count": 238,
   "outputs": [],
   "source": [
    "data.loc[data['CryoSleep'].isnull(), 'CryoSleep'] = False"
   ],
   "metadata": {
    "collapsed": false,
    "ExecuteTime": {
     "start_time": "2023-06-07T20:28:54.748267Z",
     "end_time": "2023-06-07T20:28:54.765290Z"
    }
   }
  },
  {
   "cell_type": "code",
   "execution_count": 79,
   "outputs": [
    {
     "data": {
      "text/plain": "Destination\nTRAPPIST-1e      5915\n55 Cancri e      1800\nPSO J318.5-22     796\nName: count, dtype: int64"
     },
     "execution_count": 79,
     "metadata": {},
     "output_type": "execute_result"
    }
   ],
   "source": [
    "data['Destination'].value_counts()"
   ],
   "metadata": {
    "collapsed": false,
    "ExecuteTime": {
     "start_time": "2023-06-07T19:24:39.933247Z",
     "end_time": "2023-06-07T19:24:39.975778Z"
    }
   }
  },
  {
   "cell_type": "code",
   "execution_count": 239,
   "outputs": [],
   "source": [
    "data.loc[data['Destination'].isnull(), 'Destination'] = \"TRAPPIST-1e\""
   ],
   "metadata": {
    "collapsed": false,
    "ExecuteTime": {
     "start_time": "2023-06-07T20:28:56.506835Z",
     "end_time": "2023-06-07T20:28:56.526524Z"
    }
   }
  },
  {
   "cell_type": "code",
   "execution_count": 116,
   "outputs": [
    {
     "data": {
      "text/plain": "28.82793046746535"
     },
     "execution_count": 116,
     "metadata": {},
     "output_type": "execute_result"
    }
   ],
   "source": [
    "data[data['Age'].isnull() == False]['Age'].mean()"
   ],
   "metadata": {
    "collapsed": false,
    "ExecuteTime": {
     "start_time": "2023-06-07T20:14:14.921055Z",
     "end_time": "2023-06-07T20:14:14.949059Z"
    }
   }
  },
  {
   "cell_type": "code",
   "execution_count": 240,
   "outputs": [],
   "source": [
    "data.loc[data['Age'].isnull(), 'Age'] = 28.82"
   ],
   "metadata": {
    "collapsed": false,
    "ExecuteTime": {
     "start_time": "2023-06-07T20:28:57.825466Z",
     "end_time": "2023-06-07T20:28:57.898036Z"
    }
   }
  },
  {
   "cell_type": "code",
   "execution_count": 171,
   "outputs": [
    {
     "data": {
      "text/plain": "VIP\nFalse    8494\nTrue      199\nName: count, dtype: int64"
     },
     "execution_count": 171,
     "metadata": {},
     "output_type": "execute_result"
    }
   ],
   "source": [
    "data[data['VIP'].isnull() == False]['VIP'].value_counts()"
   ],
   "metadata": {
    "collapsed": false,
    "ExecuteTime": {
     "start_time": "2023-06-07T20:21:25.769230Z",
     "end_time": "2023-06-07T20:21:25.797234Z"
    }
   }
  },
  {
   "cell_type": "code",
   "execution_count": 241,
   "outputs": [],
   "source": [
    "data.loc[data['VIP'].isnull(), 'VIP'] = False"
   ],
   "metadata": {
    "collapsed": false,
    "ExecuteTime": {
     "start_time": "2023-06-07T20:28:59.682696Z",
     "end_time": "2023-06-07T20:28:59.709693Z"
    }
   }
  },
  {
   "cell_type": "code",
   "execution_count": 87,
   "outputs": [
    {
     "data": {
      "text/plain": "224.687617481203"
     },
     "execution_count": 87,
     "metadata": {},
     "output_type": "execute_result"
    }
   ],
   "source": [
    "data[data[\"RoomService\"].isnull() == False]['RoomService'].mean()"
   ],
   "metadata": {
    "collapsed": false,
    "ExecuteTime": {
     "start_time": "2023-06-07T19:26:17.404511Z",
     "end_time": "2023-06-07T19:26:17.454070Z"
    }
   }
  },
  {
   "cell_type": "code",
   "execution_count": 242,
   "outputs": [],
   "source": [
    "data.loc[data[\"RoomService\"].isnull(), 'RoomService'] = 224.69"
   ],
   "metadata": {
    "collapsed": false,
    "ExecuteTime": {
     "start_time": "2023-06-07T20:29:01.236470Z",
     "end_time": "2023-06-07T20:29:01.251477Z"
    }
   }
  },
  {
   "cell_type": "code",
   "execution_count": 194,
   "outputs": [
    {
     "data": {
      "text/plain": "458.07720329024676"
     },
     "execution_count": 194,
     "metadata": {},
     "output_type": "execute_result"
    }
   ],
   "source": [
    "data[data[\"FoodCourt\"].isnull() == False]['FoodCourt'].mean()"
   ],
   "metadata": {
    "collapsed": false,
    "ExecuteTime": {
     "start_time": "2023-06-07T20:25:01.477381Z",
     "end_time": "2023-06-07T20:25:01.530390Z"
    }
   }
  },
  {
   "cell_type": "code",
   "execution_count": 243,
   "outputs": [],
   "source": [
    "data.loc[data[\"FoodCourt\"].isnull(), 'FoodCourt'] = 458.08"
   ],
   "metadata": {
    "collapsed": false,
    "ExecuteTime": {
     "start_time": "2023-06-07T20:29:02.746362Z",
     "end_time": "2023-06-07T20:29:02.760364Z"
    }
   }
  },
  {
   "cell_type": "code",
   "execution_count": 173,
   "outputs": [
    {
     "data": {
      "text/plain": "173.72916912197996"
     },
     "execution_count": 173,
     "metadata": {},
     "output_type": "execute_result"
    }
   ],
   "source": [
    "data.loc[data[\"ShoppingMall\"].isnull() == False, 'ShoppingMall'].mean()"
   ],
   "metadata": {
    "collapsed": false
   }
  },
  {
   "cell_type": "code",
   "execution_count": 244,
   "outputs": [],
   "source": [
    "data.loc[data[\"ShoppingMall\"].isnull(), 'ShoppingMall'] = 174.73"
   ],
   "metadata": {
    "collapsed": false,
    "ExecuteTime": {
     "start_time": "2023-06-07T20:29:03.986513Z",
     "end_time": "2023-06-07T20:29:04.002507Z"
    }
   }
  },
  {
   "cell_type": "code",
   "execution_count": 91,
   "outputs": [
    {
     "data": {
      "text/plain": "311.1387779083431"
     },
     "execution_count": 91,
     "metadata": {},
     "output_type": "execute_result"
    }
   ],
   "source": [
    "data[data[\"Spa\"].isnull() == False]['Spa'].mean()"
   ],
   "metadata": {
    "collapsed": false,
    "ExecuteTime": {
     "start_time": "2023-06-07T19:27:26.392893Z",
     "end_time": "2023-06-07T19:27:26.438671Z"
    }
   }
  },
  {
   "cell_type": "code",
   "execution_count": 245,
   "outputs": [],
   "source": [
    "data.loc[data[\"Spa\"].isnull(), 'Spa'] = 311.14"
   ],
   "metadata": {
    "collapsed": false,
    "ExecuteTime": {
     "start_time": "2023-06-07T20:29:05.272267Z",
     "end_time": "2023-06-07T20:29:05.295430Z"
    }
   }
  },
  {
   "cell_type": "code",
   "execution_count": 93,
   "outputs": [
    {
     "data": {
      "text/plain": "304.8547912992357"
     },
     "execution_count": 93,
     "metadata": {},
     "output_type": "execute_result"
    }
   ],
   "source": [
    "data[data[\"VRDeck\"].isnull() == False]['VRDeck'].mean()"
   ],
   "metadata": {
    "collapsed": false,
    "ExecuteTime": {
     "start_time": "2023-06-07T19:28:01.494490Z",
     "end_time": "2023-06-07T19:28:01.542498Z"
    }
   }
  },
  {
   "cell_type": "code",
   "execution_count": 246,
   "outputs": [],
   "source": [
    "data.loc[data[\"VRDeck\"].isnull(), 'VRDeck'] = 304.86"
   ],
   "metadata": {
    "collapsed": false,
    "ExecuteTime": {
     "start_time": "2023-06-07T20:29:06.225352Z",
     "end_time": "2023-06-07T20:29:06.237354Z"
    }
   }
  },
  {
   "cell_type": "markdown",
   "source": [
    "#### Из текстовых значений в числовые"
   ],
   "metadata": {
    "collapsed": false
   }
  },
  {
   "cell_type": "code",
   "execution_count": 123,
   "outputs": [
    {
     "data": {
      "text/plain": "array(['Europa', 'Earth', 'Mars', nan], dtype=object)"
     },
     "execution_count": 123,
     "metadata": {},
     "output_type": "execute_result"
    }
   ],
   "source": [
    "data['HomePlanet'].unique()"
   ],
   "metadata": {
    "collapsed": false,
    "ExecuteTime": {
     "start_time": "2023-06-07T20:14:44.800556Z",
     "end_time": "2023-06-07T20:14:44.818083Z"
    }
   }
  },
  {
   "cell_type": "code",
   "execution_count": 247,
   "outputs": [],
   "source": [
    "planets = {\"Europa\": 1, \"Earth\": 2, \"Mars\": 3}\n",
    "data['HomePlanet'] = data['HomePlanet'].agg(lambda x: planets[x])"
   ],
   "metadata": {
    "collapsed": false,
    "ExecuteTime": {
     "start_time": "2023-06-07T20:29:08.738741Z",
     "end_time": "2023-06-07T20:29:08.768752Z"
    }
   }
  },
  {
   "cell_type": "code",
   "execution_count": 251,
   "outputs": [],
   "source": [
    "data['HomePlanet'] = data['HomePlanet'].astype(int)"
   ],
   "metadata": {
    "collapsed": false,
    "ExecuteTime": {
     "start_time": "2023-06-07T20:30:35.112211Z",
     "end_time": "2023-06-07T20:30:35.130723Z"
    }
   }
  },
  {
   "cell_type": "code",
   "execution_count": 248,
   "outputs": [],
   "source": [
    "data['CryoSleep'] = data['CryoSleep'].astype(int)"
   ],
   "metadata": {
    "collapsed": false,
    "ExecuteTime": {
     "start_time": "2023-06-07T20:29:09.825684Z",
     "end_time": "2023-06-07T20:29:09.852684Z"
    }
   }
  },
  {
   "cell_type": "code",
   "execution_count": 252,
   "outputs": [],
   "source": [
    "data[['Cabin_deck', 'Cabin_num', 'Cabin_side']] = data['Cabin'].str.split(\"/\", expand=True)"
   ],
   "metadata": {
    "collapsed": false,
    "ExecuteTime": {
     "start_time": "2023-06-07T20:30:38.687095Z",
     "end_time": "2023-06-07T20:30:38.710109Z"
    }
   }
  },
  {
   "cell_type": "code",
   "execution_count": 253,
   "outputs": [
    {
     "data": {
      "text/plain": "Cabin_deck\nF    2794\nG    2559\nE     876\nB     779\nC     747\nD     478\nA     256\nT       5\nName: count, dtype: int64"
     },
     "execution_count": 253,
     "metadata": {},
     "output_type": "execute_result"
    }
   ],
   "source": [
    "data['Cabin_deck'].value_counts()"
   ],
   "metadata": {
    "collapsed": false,
    "ExecuteTime": {
     "start_time": "2023-06-07T20:30:39.452772Z",
     "end_time": "2023-06-07T20:30:39.481051Z"
    }
   }
  },
  {
   "cell_type": "code",
   "execution_count": 254,
   "outputs": [],
   "source": [
    "data.loc[data['Cabin_deck'].isnull(), \"Cabin_deck\"] = \"F\""
   ],
   "metadata": {
    "collapsed": false,
    "ExecuteTime": {
     "start_time": "2023-06-07T20:30:41.848427Z",
     "end_time": "2023-06-07T20:30:41.863417Z"
    }
   }
  },
  {
   "cell_type": "code",
   "execution_count": 255,
   "outputs": [
    {
     "data": {
      "text/plain": "427.0"
     },
     "execution_count": 255,
     "metadata": {},
     "output_type": "execute_result"
    }
   ],
   "source": [
    "data[data['Cabin_num'].isna() == False]['Cabin_num'].astype(int).median()"
   ],
   "metadata": {
    "collapsed": false,
    "ExecuteTime": {
     "start_time": "2023-06-07T20:30:43.095464Z",
     "end_time": "2023-06-07T20:30:43.117470Z"
    }
   }
  },
  {
   "cell_type": "code",
   "execution_count": 256,
   "outputs": [],
   "source": [
    "data.loc[data['Cabin_num'].isna(), 'Cabin_num'] = 427"
   ],
   "metadata": {
    "collapsed": false,
    "ExecuteTime": {
     "start_time": "2023-06-07T20:30:46.533941Z",
     "end_time": "2023-06-07T20:30:46.566994Z"
    }
   }
  },
  {
   "cell_type": "code",
   "execution_count": 258,
   "outputs": [],
   "source": [
    "data['Cabin_num'] = data['Cabin_num'].astype(int)"
   ],
   "metadata": {
    "collapsed": false,
    "ExecuteTime": {
     "start_time": "2023-06-07T20:30:51.982248Z",
     "end_time": "2023-06-07T20:30:51.996251Z"
    }
   }
  },
  {
   "cell_type": "code",
   "execution_count": 259,
   "outputs": [],
   "source": [
    "data.loc[data['Cabin_side'].isna(), \"Cabin_side\"] = \"S\""
   ],
   "metadata": {
    "collapsed": false,
    "ExecuteTime": {
     "start_time": "2023-06-07T20:30:54.727433Z",
     "end_time": "2023-06-07T20:30:54.754951Z"
    }
   }
  },
  {
   "cell_type": "code",
   "execution_count": 260,
   "outputs": [],
   "source": [
    "decks = {\"A\": 1, \"B\": 2, \"C\": 3, \"D\": 4, \"E\": 5, \"F\": 6, \"G\": 7, \"T\": 8}\n",
    "sides = {\"P\": 1, \"S\": 2}"
   ],
   "metadata": {
    "collapsed": false,
    "ExecuteTime": {
     "start_time": "2023-06-07T20:30:55.558610Z",
     "end_time": "2023-06-07T20:30:55.584530Z"
    }
   }
  },
  {
   "cell_type": "code",
   "execution_count": 261,
   "outputs": [],
   "source": [
    "data['Cabin_deck'] = data.Cabin_deck.agg(lambda x: decks[x])\n",
    "data[\"Cabin_side\"] = data.Cabin_side.agg(lambda x: sides[x])"
   ],
   "metadata": {
    "collapsed": false,
    "ExecuteTime": {
     "start_time": "2023-06-07T20:30:56.966040Z",
     "end_time": "2023-06-07T20:30:56.994056Z"
    }
   }
  },
  {
   "cell_type": "code",
   "execution_count": 262,
   "outputs": [],
   "source": [
    "data['Cabin_deck'] = data.Cabin_deck.astype(int)\n",
    "data['Cabin_side'] = data.Cabin_side.astype(int)"
   ],
   "metadata": {
    "collapsed": false,
    "ExecuteTime": {
     "start_time": "2023-06-07T20:30:57.767748Z",
     "end_time": "2023-06-07T20:30:57.795749Z"
    }
   }
  },
  {
   "cell_type": "code",
   "execution_count": 227,
   "outputs": [
    {
     "data": {
      "text/plain": "array(['TRAPPIST-1e', '55 Cancri e', 'PSO J318.5-22'], dtype=object)"
     },
     "execution_count": 227,
     "metadata": {},
     "output_type": "execute_result"
    }
   ],
   "source": [
    "data['Destination'].unique()"
   ],
   "metadata": {
    "collapsed": false,
    "ExecuteTime": {
     "start_time": "2023-06-07T20:26:37.943426Z",
     "end_time": "2023-06-07T20:26:37.971431Z"
    }
   }
  },
  {
   "cell_type": "code",
   "execution_count": 263,
   "outputs": [],
   "source": [
    "destinations = {\"TRAPPIST-1e\": 1, \"PSO J318.5-22\": 2, \"55 Cancri e\": 3}\n",
    "data.Destination = data.Destination.agg(lambda x: destinations[x])"
   ],
   "metadata": {
    "collapsed": false,
    "ExecuteTime": {
     "start_time": "2023-06-07T20:31:02.028848Z",
     "end_time": "2023-06-07T20:31:02.045362Z"
    }
   }
  },
  {
   "cell_type": "code",
   "execution_count": 264,
   "outputs": [],
   "source": [
    "data['VIP'] = data['VIP'].astype(int)"
   ],
   "metadata": {
    "collapsed": false,
    "ExecuteTime": {
     "start_time": "2023-06-07T20:31:03.520677Z",
     "end_time": "2023-06-07T20:31:03.542203Z"
    }
   }
  },
  {
   "cell_type": "code",
   "execution_count": 265,
   "outputs": [],
   "source": [
    "data['Transported'] = data.Transported.astype(int)"
   ],
   "metadata": {
    "collapsed": false,
    "ExecuteTime": {
     "start_time": "2023-06-07T20:31:04.837430Z",
     "end_time": "2023-06-07T20:31:04.847423Z"
    }
   }
  },
  {
   "cell_type": "code",
   "execution_count": 266,
   "outputs": [
    {
     "name": "stdout",
     "output_type": "stream",
     "text": [
      "<class 'pandas.core.frame.DataFrame'>\n",
      "RangeIndex: 8693 entries, 0 to 8692\n",
      "Data columns (total 17 columns):\n",
      " #   Column        Non-Null Count  Dtype  \n",
      "---  ------        --------------  -----  \n",
      " 0   PassengerId   8693 non-null   object \n",
      " 1   HomePlanet    8693 non-null   int32  \n",
      " 2   CryoSleep     8693 non-null   int32  \n",
      " 3   Cabin         8494 non-null   object \n",
      " 4   Destination   8693 non-null   int64  \n",
      " 5   Age           8693 non-null   float64\n",
      " 6   VIP           8693 non-null   int32  \n",
      " 7   RoomService   8693 non-null   float64\n",
      " 8   FoodCourt     8693 non-null   float64\n",
      " 9   ShoppingMall  8693 non-null   float64\n",
      " 10  Spa           8693 non-null   float64\n",
      " 11  VRDeck        8693 non-null   float64\n",
      " 12  Name          8493 non-null   object \n",
      " 13  Transported   8693 non-null   int32  \n",
      " 14  Cabin_deck    8693 non-null   int32  \n",
      " 15  Cabin_num     8693 non-null   int32  \n",
      " 16  Cabin_side    8693 non-null   int32  \n",
      "dtypes: float64(6), int32(7), int64(1), object(3)\n",
      "memory usage: 917.0+ KB\n"
     ]
    }
   ],
   "source": [
    "data.info()"
   ],
   "metadata": {
    "collapsed": false,
    "ExecuteTime": {
     "start_time": "2023-06-07T20:31:05.950779Z",
     "end_time": "2023-06-07T20:31:05.977830Z"
    }
   }
  },
  {
   "cell_type": "code",
   "execution_count": 198,
   "outputs": [
    {
     "data": {
      "text/plain": "Index(['PassengerId', 'HomePlanet', 'CryoSleep', 'Cabin', 'Destination', 'Age',\n       'VIP', 'RoomService', 'FoodCourt', 'ShoppingMall', 'Spa', 'VRDeck',\n       'Name', 'Transported', 'Cabin_deck', 'Cabin_num', 'Cabin_side'],\n      dtype='object')"
     },
     "execution_count": 198,
     "metadata": {},
     "output_type": "execute_result"
    }
   ],
   "source": [
    "data.columns"
   ],
   "metadata": {
    "collapsed": false,
    "ExecuteTime": {
     "start_time": "2023-06-07T20:25:26.831546Z",
     "end_time": "2023-06-07T20:25:26.864081Z"
    }
   }
  },
  {
   "cell_type": "code",
   "execution_count": 27,
   "outputs": [
    {
     "name": "stdout",
     "output_type": "stream",
     "text": [
      "Нужные колонки\n",
      "['HomePlanet', 'CryoSleep', 'Destination', 'Age', 'VIP', 'RoomService', 'FoodCourt', 'ShoppingMall', 'Spa', 'VRDeck', 'Cabin_deck', 'Cabin_num', 'Cabin_side', 'Transported']\n"
     ]
    }
   ],
   "source": [
    "final_columns = ['HomePlanet', 'CryoSleep', 'Destination', 'Age', 'VIP', 'RoomService', 'FoodCourt', 'ShoppingMall', 'Spa', 'VRDeck', 'Cabin_deck', 'Cabin_num', 'Cabin_side', \"Transported\"]\n",
    "\n",
    "print(\"Нужные колонки\")\n",
    "print(final_columns)"
   ],
   "metadata": {
    "collapsed": false,
    "ExecuteTime": {
     "start_time": "2023-06-11T23:06:02.538181Z",
     "end_time": "2023-06-11T23:06:02.549181Z"
    }
   }
  },
  {
   "cell_type": "markdown",
   "source": [],
   "metadata": {
    "collapsed": false
   }
  },
  {
   "cell_type": "code",
   "execution_count": 268,
   "outputs": [],
   "source": [
    "data[final_columns].to_csv(\"features/train_second.csv\", index=False)"
   ],
   "metadata": {
    "collapsed": false,
    "ExecuteTime": {
     "start_time": "2023-06-07T20:31:29.473594Z",
     "end_time": "2023-06-07T20:31:29.526391Z"
    }
   }
  },
  {
   "cell_type": "code",
   "execution_count": 216,
   "outputs": [],
   "source": [
    "def do_second_dataset(input_dataset):\n",
    "    dataset = input_dataset.copy()\n",
    "    dataset.loc[dataset['HomePlanet'].isna(), \"HomePlanet\"] = 'Earth'\n",
    "    dataset.loc[dataset['CryoSleep'].isnull(), 'CryoSleep'] = False\n",
    "    dataset.loc[dataset['Destination'].isnull(), 'Destination'] = \"TRAPPIST-1e\"\n",
    "    dataset.loc[dataset['Age'].isnull(), 'Age'] = 28.82\n",
    "    dataset.loc[dataset['VIP'].isnull(), 'VIP'] = False\n",
    "    dataset.loc[dataset[\"RoomService\"].isnull(), 'RoomService'] = 224.69\n",
    "    dataset.loc[dataset[\"FoodCourt\"].isnull(), 'FoodCourt'] = 458.08\n",
    "    dataset.loc[dataset[\"ShoppingMall\"].isnull(), 'ShoppingMall'] = 174.73\n",
    "    dataset.loc[dataset[\"Spa\"].isnull(), 'Spa'] = 311.14\n",
    "    dataset.loc[dataset[\"VRDeck\"].isnull(), 'VRDeck'] = 304.86\n",
    "    planets = {\"Europa\": 1, \"Earth\": 2, \"Mars\": 3}\n",
    "    dataset['HomePlanet'] = dataset['HomePlanet'].agg(lambda x: planets[x])\n",
    "    dataset['HomePlanet'] = dataset['HomePlanet'].astype(int)\n",
    "    dataset['CryoSleep'] = dataset['CryoSleep'].astype(int)\n",
    "    dataset[['Cabin_deck', 'Cabin_num', 'Cabin_side']] = dataset['Cabin'].str.split(\"/\", expand=True)\n",
    "    dataset.loc[dataset['Cabin_deck'].isnull(), \"Cabin_deck\"] = \"F\"\n",
    "    dataset.loc[dataset['Cabin_num'].isna(), 'Cabin_num'] = 427\n",
    "    dataset.loc[dataset['Cabin_side'].isna(), \"Cabin_side\"] = \"S\"\n",
    "    decks = {\"A\": 1, \"B\": 2, \"C\": 3, \"D\": 4, \"E\": 5, \"F\": 6, \"G\": 7, \"T\": 8}\n",
    "    sides = {\"P\": 1, \"S\": 2}\n",
    "    dataset['Cabin_deck'] = dataset.Cabin_deck.agg(lambda x: decks[x]).astype(int)\n",
    "    dataset[\"Cabin_side\"] = dataset.Cabin_side.agg(lambda x: sides[x]).astype(int)\n",
    "    destinations = {\"TRAPPIST-1e\": 1, \"PSO J318.5-22\": 2, \"55 Cancri e\": 3}\n",
    "    dataset.Destination = dataset.Destination.agg(lambda x: destinations[x]).astype(int)\n",
    "    dataset['VIP'] = dataset['VIP'].astype(int)\n",
    "    #dataset.loc[:,'Transported'] = dataset['Transported'].astype(int)\n",
    "    return dataset"
   ],
   "metadata": {
    "collapsed": false,
    "ExecuteTime": {
     "start_time": "2023-06-15T15:37:47.136202Z",
     "end_time": "2023-06-15T15:37:47.161214Z"
    }
   }
  },
  {
   "cell_type": "code",
   "execution_count": 131,
   "outputs": [],
   "source": [
    "def do_third_dataset(input_dataset):\n",
    "    dataset = input_dataset.copy()\n",
    "    dataset['TotalServices'] = dataset['RoomService'] + dataset['FoodCourt'] + dataset['ShoppingMall'] + dataset['Spa']\n",
    "    dataset['Sex'] = -1\n",
    "    dataset.loc[dataset['Name'].isnull() == False, 'Sex'] = dataset[dataset['Name'].isnull() == False]['Name'].str.split(\" \", expand=True)[0].agg(lambda x: unique_names[x])\n",
    "    return dataset.drop(\"Name\", axis=1)\n"
   ],
   "metadata": {
    "collapsed": false,
    "ExecuteTime": {
     "start_time": "2023-06-14T11:20:47.870454Z",
     "end_time": "2023-06-14T11:20:47.882455Z"
    }
   }
  },
  {
   "cell_type": "code",
   "execution_count": 204,
   "outputs": [],
   "source": [
    "def do_fourth_dataset(input_dataset):\n",
    "    names_list= pd.read_csv(\"features/name_list_full.csv\").set_index(\"Full_name\")['likelyGender'].agg(lambda x: 0 if x == \"female\" else 1).to_dict()\n",
    "    dataset = input_dataset.copy()\n",
    "    dataset['Sex'] = -1\n",
    "    dataset.loc[dataset['Name'].isnull() == False, 'Sex'] = dataset[dataset['Name'].isnull() == False]['Name'].agg(lambda x: names_list[x])\n",
    "    dataset['TotalServices'] = dataset['RoomService'] + dataset['FoodCourt'] + dataset['ShoppingMall'] + dataset['Spa']\n",
    "    dataset['MinServices'] = dataset[['RoomService', 'FoodCourt', 'ShoppingMall', 'Spa']].min(axis=1)\n",
    "    dataset['MeanServices'] = dataset[['RoomService', 'FoodCourt', 'ShoppingMall', 'Spa']].mean(axis=1)\n",
    "    dataset['MaxServices'] = dataset[['RoomService', 'FoodCourt', 'ShoppingMall', 'Spa']].max(axis=1)\n",
    "    return dataset\n"
   ],
   "metadata": {
    "collapsed": false,
    "ExecuteTime": {
     "start_time": "2023-06-15T15:35:32.843988Z",
     "end_time": "2023-06-15T15:35:32.870985Z"
    }
   }
  },
  {
   "cell_type": "code",
   "execution_count": 239,
   "outputs": [],
   "source": [
    "second_tt = do_second_dataset(df)"
   ],
   "metadata": {
    "collapsed": false,
    "ExecuteTime": {
     "start_time": "2023-06-15T15:46:00.025038Z",
     "end_time": "2023-06-15T15:46:00.073553Z"
    }
   }
  },
  {
   "cell_type": "code",
   "execution_count": 240,
   "outputs": [],
   "source": [
    "fourth_tt = do_fourth_dataset(second_tt)"
   ],
   "metadata": {
    "collapsed": false,
    "ExecuteTime": {
     "start_time": "2023-06-15T15:46:01.137571Z",
     "end_time": "2023-06-15T15:46:01.192870Z"
    }
   }
  },
  {
   "cell_type": "code",
   "execution_count": 244,
   "outputs": [
    {
     "data": {
      "text/plain": "     PassengerId  HomePlanet  CryoSleep     Cabin  Destination   Age  VIP  \\\n0        0001_01           1          0     B/0/P            1  39.0    0   \n1        0002_01           2          0     F/0/S            1  24.0    0   \n2        0003_01           1          0     A/0/S            1  58.0    1   \n3        0003_02           1          0     A/0/S            1  33.0    0   \n4        0004_01           2          0     F/1/S            1  16.0    0   \n...          ...         ...        ...       ...          ...   ...  ...   \n8688     9276_01           1          0    A/98/P            3  41.0    1   \n8689     9278_01           2          1  G/1499/S            2  18.0    0   \n8690     9279_01           2          0  G/1500/S            1  26.0    0   \n8691     9280_01           1          0   E/608/S            3  32.0    0   \n8692     9280_02           1          0   E/608/S            1  44.0    0   \n\n      RoomService  FoodCourt  ShoppingMall  ...               Name  \\\n0             0.0        0.0           0.0  ...    Maham Ofracculy   \n1           109.0        9.0          25.0  ...       Juanna Vines   \n2            43.0     3576.0           0.0  ...      Altark Susent   \n3             0.0     1283.0         371.0  ...       Solam Susent   \n4           303.0       70.0         151.0  ...  Willy Santantines   \n...           ...        ...           ...  ...                ...   \n8688          0.0     6819.0           0.0  ...  Gravior Noxnuther   \n8689          0.0        0.0           0.0  ...    Kurta Mondalley   \n8690          0.0        0.0        1872.0  ...       Fayey Connon   \n8691          0.0     1049.0           0.0  ...   Celeon Hontichre   \n8692        126.0     4688.0           0.0  ...   Propsh Hontichre   \n\n      Transported Cabin_deck  Cabin_num  Cabin_side Sex  TotalServices  \\\n0               0          2          0           1   0            0.0   \n1               1          6          0           2   0          692.0   \n2               0          1          0           2   1        10334.0   \n3               0          1          0           2   1         4983.0   \n4               1          6          1           2   1         1089.0   \n...           ...        ...        ...         ...  ..            ...   \n8688            0          1         98           1   1         8462.0   \n8689            0          7       1499           2   1            0.0   \n8690            1          7       1500           2   1         1873.0   \n8691            0          5        608           2   1         1402.0   \n8692            1          5        608           2   0         4814.0   \n\n      MinServices  MeanServices  MaxServices  \n0             0.0          0.00          0.0  \n1             9.0        173.00        549.0  \n2             0.0       2583.50       6715.0  \n3             0.0       1245.75       3329.0  \n4            70.0        272.25        565.0  \n...           ...           ...          ...  \n8688          0.0       2115.50       6819.0  \n8689          0.0          0.00          0.0  \n8690          0.0        468.25       1872.0  \n8691          0.0        350.50       1049.0  \n8692          0.0       1203.50       4688.0  \n\n[6606 rows x 22 columns]",
      "text/html": "<div>\n<style scoped>\n    .dataframe tbody tr th:only-of-type {\n        vertical-align: middle;\n    }\n\n    .dataframe tbody tr th {\n        vertical-align: top;\n    }\n\n    .dataframe thead th {\n        text-align: right;\n    }\n</style>\n<table border=\"1\" class=\"dataframe\">\n  <thead>\n    <tr style=\"text-align: right;\">\n      <th></th>\n      <th>PassengerId</th>\n      <th>HomePlanet</th>\n      <th>CryoSleep</th>\n      <th>Cabin</th>\n      <th>Destination</th>\n      <th>Age</th>\n      <th>VIP</th>\n      <th>RoomService</th>\n      <th>FoodCourt</th>\n      <th>ShoppingMall</th>\n      <th>...</th>\n      <th>Name</th>\n      <th>Transported</th>\n      <th>Cabin_deck</th>\n      <th>Cabin_num</th>\n      <th>Cabin_side</th>\n      <th>Sex</th>\n      <th>TotalServices</th>\n      <th>MinServices</th>\n      <th>MeanServices</th>\n      <th>MaxServices</th>\n    </tr>\n  </thead>\n  <tbody>\n    <tr>\n      <th>0</th>\n      <td>0001_01</td>\n      <td>1</td>\n      <td>0</td>\n      <td>B/0/P</td>\n      <td>1</td>\n      <td>39.0</td>\n      <td>0</td>\n      <td>0.0</td>\n      <td>0.0</td>\n      <td>0.0</td>\n      <td>...</td>\n      <td>Maham Ofracculy</td>\n      <td>0</td>\n      <td>2</td>\n      <td>0</td>\n      <td>1</td>\n      <td>0</td>\n      <td>0.0</td>\n      <td>0.0</td>\n      <td>0.00</td>\n      <td>0.0</td>\n    </tr>\n    <tr>\n      <th>1</th>\n      <td>0002_01</td>\n      <td>2</td>\n      <td>0</td>\n      <td>F/0/S</td>\n      <td>1</td>\n      <td>24.0</td>\n      <td>0</td>\n      <td>109.0</td>\n      <td>9.0</td>\n      <td>25.0</td>\n      <td>...</td>\n      <td>Juanna Vines</td>\n      <td>1</td>\n      <td>6</td>\n      <td>0</td>\n      <td>2</td>\n      <td>0</td>\n      <td>692.0</td>\n      <td>9.0</td>\n      <td>173.00</td>\n      <td>549.0</td>\n    </tr>\n    <tr>\n      <th>2</th>\n      <td>0003_01</td>\n      <td>1</td>\n      <td>0</td>\n      <td>A/0/S</td>\n      <td>1</td>\n      <td>58.0</td>\n      <td>1</td>\n      <td>43.0</td>\n      <td>3576.0</td>\n      <td>0.0</td>\n      <td>...</td>\n      <td>Altark Susent</td>\n      <td>0</td>\n      <td>1</td>\n      <td>0</td>\n      <td>2</td>\n      <td>1</td>\n      <td>10334.0</td>\n      <td>0.0</td>\n      <td>2583.50</td>\n      <td>6715.0</td>\n    </tr>\n    <tr>\n      <th>3</th>\n      <td>0003_02</td>\n      <td>1</td>\n      <td>0</td>\n      <td>A/0/S</td>\n      <td>1</td>\n      <td>33.0</td>\n      <td>0</td>\n      <td>0.0</td>\n      <td>1283.0</td>\n      <td>371.0</td>\n      <td>...</td>\n      <td>Solam Susent</td>\n      <td>0</td>\n      <td>1</td>\n      <td>0</td>\n      <td>2</td>\n      <td>1</td>\n      <td>4983.0</td>\n      <td>0.0</td>\n      <td>1245.75</td>\n      <td>3329.0</td>\n    </tr>\n    <tr>\n      <th>4</th>\n      <td>0004_01</td>\n      <td>2</td>\n      <td>0</td>\n      <td>F/1/S</td>\n      <td>1</td>\n      <td>16.0</td>\n      <td>0</td>\n      <td>303.0</td>\n      <td>70.0</td>\n      <td>151.0</td>\n      <td>...</td>\n      <td>Willy Santantines</td>\n      <td>1</td>\n      <td>6</td>\n      <td>1</td>\n      <td>2</td>\n      <td>1</td>\n      <td>1089.0</td>\n      <td>70.0</td>\n      <td>272.25</td>\n      <td>565.0</td>\n    </tr>\n    <tr>\n      <th>...</th>\n      <td>...</td>\n      <td>...</td>\n      <td>...</td>\n      <td>...</td>\n      <td>...</td>\n      <td>...</td>\n      <td>...</td>\n      <td>...</td>\n      <td>...</td>\n      <td>...</td>\n      <td>...</td>\n      <td>...</td>\n      <td>...</td>\n      <td>...</td>\n      <td>...</td>\n      <td>...</td>\n      <td>...</td>\n      <td>...</td>\n      <td>...</td>\n      <td>...</td>\n      <td>...</td>\n    </tr>\n    <tr>\n      <th>8688</th>\n      <td>9276_01</td>\n      <td>1</td>\n      <td>0</td>\n      <td>A/98/P</td>\n      <td>3</td>\n      <td>41.0</td>\n      <td>1</td>\n      <td>0.0</td>\n      <td>6819.0</td>\n      <td>0.0</td>\n      <td>...</td>\n      <td>Gravior Noxnuther</td>\n      <td>0</td>\n      <td>1</td>\n      <td>98</td>\n      <td>1</td>\n      <td>1</td>\n      <td>8462.0</td>\n      <td>0.0</td>\n      <td>2115.50</td>\n      <td>6819.0</td>\n    </tr>\n    <tr>\n      <th>8689</th>\n      <td>9278_01</td>\n      <td>2</td>\n      <td>1</td>\n      <td>G/1499/S</td>\n      <td>2</td>\n      <td>18.0</td>\n      <td>0</td>\n      <td>0.0</td>\n      <td>0.0</td>\n      <td>0.0</td>\n      <td>...</td>\n      <td>Kurta Mondalley</td>\n      <td>0</td>\n      <td>7</td>\n      <td>1499</td>\n      <td>2</td>\n      <td>1</td>\n      <td>0.0</td>\n      <td>0.0</td>\n      <td>0.00</td>\n      <td>0.0</td>\n    </tr>\n    <tr>\n      <th>8690</th>\n      <td>9279_01</td>\n      <td>2</td>\n      <td>0</td>\n      <td>G/1500/S</td>\n      <td>1</td>\n      <td>26.0</td>\n      <td>0</td>\n      <td>0.0</td>\n      <td>0.0</td>\n      <td>1872.0</td>\n      <td>...</td>\n      <td>Fayey Connon</td>\n      <td>1</td>\n      <td>7</td>\n      <td>1500</td>\n      <td>2</td>\n      <td>1</td>\n      <td>1873.0</td>\n      <td>0.0</td>\n      <td>468.25</td>\n      <td>1872.0</td>\n    </tr>\n    <tr>\n      <th>8691</th>\n      <td>9280_01</td>\n      <td>1</td>\n      <td>0</td>\n      <td>E/608/S</td>\n      <td>3</td>\n      <td>32.0</td>\n      <td>0</td>\n      <td>0.0</td>\n      <td>1049.0</td>\n      <td>0.0</td>\n      <td>...</td>\n      <td>Celeon Hontichre</td>\n      <td>0</td>\n      <td>5</td>\n      <td>608</td>\n      <td>2</td>\n      <td>1</td>\n      <td>1402.0</td>\n      <td>0.0</td>\n      <td>350.50</td>\n      <td>1049.0</td>\n    </tr>\n    <tr>\n      <th>8692</th>\n      <td>9280_02</td>\n      <td>1</td>\n      <td>0</td>\n      <td>E/608/S</td>\n      <td>1</td>\n      <td>44.0</td>\n      <td>0</td>\n      <td>126.0</td>\n      <td>4688.0</td>\n      <td>0.0</td>\n      <td>...</td>\n      <td>Propsh Hontichre</td>\n      <td>1</td>\n      <td>5</td>\n      <td>608</td>\n      <td>2</td>\n      <td>0</td>\n      <td>4814.0</td>\n      <td>0.0</td>\n      <td>1203.50</td>\n      <td>4688.0</td>\n    </tr>\n  </tbody>\n</table>\n<p>6606 rows × 22 columns</p>\n</div>"
     },
     "execution_count": 244,
     "metadata": {},
     "output_type": "execute_result"
    }
   ],
   "source": [
    "fourth_tt[df.isna().any(axis=1) == False]"
   ],
   "metadata": {
    "collapsed": false,
    "ExecuteTime": {
     "start_time": "2023-06-15T15:46:54.844730Z",
     "end_time": "2023-06-15T15:46:54.883736Z"
    }
   }
  },
  {
   "cell_type": "code",
   "execution_count": 243,
   "outputs": [],
   "source": [
    "fourth_tt['Transported'] = fourth_tt['Transported'].astype(int)"
   ],
   "metadata": {
    "collapsed": false,
    "ExecuteTime": {
     "start_time": "2023-06-15T15:46:49.894194Z",
     "end_time": "2023-06-15T15:46:49.909195Z"
    }
   }
  },
  {
   "cell_type": "code",
   "execution_count": 245,
   "outputs": [],
   "source": [
    "fourth_tt.drop([\"Cabin\", 'Name'], axis=1).to_csv(\"features/train_foruth_nonull.csv\", index=False)"
   ],
   "metadata": {
    "collapsed": false,
    "ExecuteTime": {
     "start_time": "2023-06-15T15:47:00.981706Z",
     "end_time": "2023-06-15T15:47:01.055225Z"
    }
   }
  },
  {
   "cell_type": "markdown",
   "source": [
    "#### Напишем функцию, которая с помощтю api будет определять пол человека и выдавать 1 - если мужчина и 0 - если женщина"
   ],
   "metadata": {
    "collapsed": false
   }
  },
  {
   "cell_type": "code",
   "execution_count": 69,
   "outputs": [],
   "source": [
    "import requests\n",
    "#dt= df['Name'].str.split(\" \", expand=True)\n",
    "unique_names = {n: -1 for n in list(dt[0].unique())}\n",
    "\n",
    "def obtain_sex_by_name(name):\n",
    "    res = requests.get(f\"https://api.genderize.io/?name={name}\").json()\n",
    "    try:\n",
    "        if res['gender'] == \"male\":\n",
    "            return 1\n",
    "        elif res['gender'] is None:\n",
    "            return -1\n",
    "        else:\n",
    "            return 0\n",
    "    except:\n",
    "        print(name)\n",
    "        print(\"error\")\n"
   ],
   "metadata": {
    "collapsed": false,
    "ExecuteTime": {
     "start_time": "2023-06-15T14:44:25.732107Z",
     "end_time": "2023-06-15T14:44:25.926518Z"
    }
   }
  },
  {
   "cell_type": "code",
   "execution_count": 100,
   "outputs": [],
   "source": [
    "def make_unique_list():\n",
    "    i = 2708\n",
    "    for name in list(unique_names.keys())[2708:]:\n",
    "        print(i, name)\n",
    "        unique_names[name] = obtain_sex_by_name(name)\n",
    "        i +=1"
   ],
   "metadata": {
    "collapsed": false,
    "ExecuteTime": {
     "start_time": "2023-06-15T14:45:47.509480Z",
     "end_time": "2023-06-15T14:45:47.516482Z"
    }
   }
  },
  {
   "cell_type": "markdown",
   "source": [
    "#### Готовим датасет для определения пола через сервис [https://namsor.app](https://namsor.app)"
   ],
   "metadata": {
    "collapsed": false
   }
  },
  {
   "cell_type": "code",
   "execution_count": 118,
   "outputs": [],
   "source": [
    "train_df = pd.read_csv(\"train.csv\")\n",
    "test_df = pd.read_csv(\"test.csv\")\n",
    "big_df = pd.concat([train_df, test_df], ignore_index=True)\n",
    "first_name = big_df['Name'].str.split(\" \", expand=True)[0].unique()"
   ],
   "metadata": {
    "collapsed": false,
    "ExecuteTime": {
     "start_time": "2023-06-15T15:04:16.358353Z",
     "end_time": "2023-06-15T15:04:16.406862Z"
    }
   }
  },
  {
   "cell_type": "code",
   "execution_count": 136,
   "outputs": [],
   "source": [
    "big_df[big_df['Name'].isna() == False]['Name'].str.split(\" \", expand=True).rename(columns={0:'first_name', 1:'last_name'}).to_csv(\"features/name_list.csv\", index=False)"
   ],
   "metadata": {
    "collapsed": false,
    "ExecuteTime": {
     "start_time": "2023-06-15T15:13:16.645448Z",
     "end_time": "2023-06-15T15:13:16.809955Z"
    }
   }
  },
  {
   "cell_type": "code",
   "execution_count": 146,
   "outputs": [],
   "source": [
    "big_df[big_df['Name'].isna() == False]['Name'].str.split(\" \", expand=True).rename(columns={0:'first_name', 1:'last_name'})[0:4997].to_csv(\"features/name_list_1.csv\", index=False)\n",
    "big_df[big_df['Name'].isna() == False]['Name'].str.split(\" \", expand=True).rename(columns={0:'first_name', 1:'last_name'})[4997:9997].to_csv(\"features/name_list_2.csv\", index=False)\n",
    "big_df[big_df['Name'].isna() == False]['Name'].str.split(\" \", expand=True).rename(columns={0:'first_name', 1:'last_name'})[9996:].to_csv(\"features/name_list_3.csv\", index=False)"
   ],
   "metadata": {
    "collapsed": false,
    "ExecuteTime": {
     "start_time": "2023-06-15T15:21:17.684872Z",
     "end_time": "2023-06-15T15:21:17.760738Z"
    }
   }
  },
  {
   "cell_type": "code",
   "execution_count": 151,
   "outputs": [],
   "source": [
    "name_list_1 = pd.read_csv(\"features/namsor_genderize-name_name_list_1.csv\")\n",
    "name_list_2 = pd.read_csv(\"features/namsor_genderize-name_name_list_2.csv\")\n",
    "name_list_3 = pd.read_csv(\"features/namsor_genderize-name_name_list_3.csv\")"
   ],
   "metadata": {
    "collapsed": false,
    "ExecuteTime": {
     "start_time": "2023-06-15T15:23:25.345596Z",
     "end_time": "2023-06-15T15:23:25.403600Z"
    }
   }
  },
  {
   "cell_type": "code",
   "execution_count": 173,
   "outputs": [],
   "source": [
    "name_list_full = pd.concat([name_list_1, name_list_2, name_list_3], ignore_index=True)\n",
    "name_list_full['Full_name'] = name_list_full['firstName'] + \" \" +  name_list_full['lastName']\n",
    "name_list_full[['Full_name', 'likelyGender']].to_csv(\"features/name_list_full.csv\", index=False)"
   ],
   "metadata": {
    "collapsed": false,
    "ExecuteTime": {
     "start_time": "2023-06-15T15:26:44.705183Z",
     "end_time": "2023-06-15T15:26:44.750181Z"
    }
   }
  },
  {
   "cell_type": "code",
   "execution_count": 203,
   "outputs": [],
   "source": [
    "fourth_tt"
   ],
   "metadata": {
    "collapsed": false,
    "ExecuteTime": {
     "start_time": "2023-06-15T15:35:26.459598Z",
     "end_time": "2023-06-15T15:35:26.475597Z"
    }
   }
  }
 ],
 "metadata": {
  "kernelspec": {
   "display_name": "Python 3",
   "language": "python",
   "name": "python3"
  },
  "language_info": {
   "codemirror_mode": {
    "name": "ipython",
    "version": 2
   },
   "file_extension": ".py",
   "mimetype": "text/x-python",
   "name": "python",
   "nbconvert_exporter": "python",
   "pygments_lexer": "ipython2",
   "version": "2.7.6"
  }
 },
 "nbformat": 4,
 "nbformat_minor": 0
}
