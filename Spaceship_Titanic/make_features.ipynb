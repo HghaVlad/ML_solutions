{
 "cells": [
  {
   "cell_type": "code",
   "execution_count": 1,
   "metadata": {
    "collapsed": true,
    "ExecuteTime": {
     "start_time": "2023-06-07T19:07:08.231255Z",
     "end_time": "2023-06-07T19:07:08.245801Z"
    }
   },
   "outputs": [],
   "source": [
    "import pandas as pd\n",
    "import numpy as np"
   ]
  },
  {
   "cell_type": "code",
   "execution_count": 271,
   "outputs": [],
   "source": [
    "df = pd.read_csv(\"train.csv\")"
   ],
   "metadata": {
    "collapsed": false,
    "ExecuteTime": {
     "start_time": "2023-06-07T20:32:47.420971Z",
     "end_time": "2023-06-07T20:32:47.600298Z"
    }
   }
  },
  {
   "cell_type": "code",
   "execution_count": 270,
   "outputs": [
    {
     "name": "stdout",
     "output_type": "stream",
     "text": [
      "<class 'pandas.core.frame.DataFrame'>\n",
      "RangeIndex: 4277 entries, 0 to 4276\n",
      "Data columns (total 14 columns):\n",
      " #   Column        Non-Null Count  Dtype  \n",
      "---  ------        --------------  -----  \n",
      " 0   PassengerId   4277 non-null   object \n",
      " 1   HomePlanet    4277 non-null   int64  \n",
      " 2   CryoSleep     4277 non-null   int64  \n",
      " 3   Destination   4277 non-null   int64  \n",
      " 4   Age           4277 non-null   float64\n",
      " 5   VIP           4277 non-null   int64  \n",
      " 6   RoomService   4277 non-null   float64\n",
      " 7   FoodCourt     4277 non-null   float64\n",
      " 8   ShoppingMall  4277 non-null   float64\n",
      " 9   Spa           4277 non-null   float64\n",
      " 10  VRDeck        4277 non-null   float64\n",
      " 11  Cabin_deck    4277 non-null   int64  \n",
      " 12  Cabin_num     4277 non-null   int64  \n",
      " 13  Cabin_side    4277 non-null   int64  \n",
      "dtypes: float64(6), int64(7), object(1)\n",
      "memory usage: 467.9+ KB\n"
     ]
    }
   ],
   "source": [
    "df.info()"
   ],
   "metadata": {
    "collapsed": false,
    "ExecuteTime": {
     "start_time": "2023-06-07T20:32:29.285185Z",
     "end_time": "2023-06-07T20:32:29.431261Z"
    }
   }
  },
  {
   "cell_type": "code",
   "execution_count": 203,
   "outputs": [
    {
     "data": {
      "text/plain": "  PassengerId HomePlanet CryoSleep  Cabin  Destination   Age    VIP  \\\n0     0013_01      Earth      True  G/3/S  TRAPPIST-1e  27.0  False   \n1     0018_01      Earth     False  F/4/S  TRAPPIST-1e  19.0  False   \n2     0019_01     Europa      True  C/0/S  55 Cancri e  31.0  False   \n3     0021_01     Europa     False  C/1/S  TRAPPIST-1e  38.0  False   \n4     0023_01      Earth     False  F/5/S  TRAPPIST-1e  20.0  False   \n5     0027_01      Earth     False  F/7/P  TRAPPIST-1e  31.0  False   \n6     0029_01     Europa      True  B/2/P  55 Cancri e  21.0  False   \n7     0032_01     Europa      True  D/0/S  TRAPPIST-1e  20.0  False   \n8     0032_02     Europa      True  D/0/S  55 Cancri e  23.0  False   \n9     0033_01      Earth     False  F/7/S  55 Cancri e  24.0  False   \n\n   RoomService  FoodCourt  ShoppingMall     Spa  VRDeck               Name  \n0          0.0        0.0           0.0     0.0     0.0    Nelly Carsoning  \n1          0.0        9.0           0.0  2823.0     0.0     Lerome Peckers  \n2          0.0        0.0           0.0     0.0     0.0    Sabih Unhearfus  \n3          0.0     6652.0           0.0   181.0   585.0   Meratz Caltilter  \n4         10.0        0.0         635.0     0.0     0.0    Brence Harperez  \n5          0.0     1615.0         263.0   113.0    60.0       Karlen Ricks  \n6          0.0        NaN           0.0     0.0     0.0    Aldah Ainserfle  \n7          0.0        0.0           0.0     0.0     0.0     Acrabi Pringry  \n8          0.0        0.0           0.0     0.0     0.0      Dhena Pringry  \n9          0.0      639.0           0.0     0.0     0.0  Eliana Delazarson  ",
      "text/html": "<div>\n<style scoped>\n    .dataframe tbody tr th:only-of-type {\n        vertical-align: middle;\n    }\n\n    .dataframe tbody tr th {\n        vertical-align: top;\n    }\n\n    .dataframe thead th {\n        text-align: right;\n    }\n</style>\n<table border=\"1\" class=\"dataframe\">\n  <thead>\n    <tr style=\"text-align: right;\">\n      <th></th>\n      <th>PassengerId</th>\n      <th>HomePlanet</th>\n      <th>CryoSleep</th>\n      <th>Cabin</th>\n      <th>Destination</th>\n      <th>Age</th>\n      <th>VIP</th>\n      <th>RoomService</th>\n      <th>FoodCourt</th>\n      <th>ShoppingMall</th>\n      <th>Spa</th>\n      <th>VRDeck</th>\n      <th>Name</th>\n    </tr>\n  </thead>\n  <tbody>\n    <tr>\n      <th>0</th>\n      <td>0013_01</td>\n      <td>Earth</td>\n      <td>True</td>\n      <td>G/3/S</td>\n      <td>TRAPPIST-1e</td>\n      <td>27.0</td>\n      <td>False</td>\n      <td>0.0</td>\n      <td>0.0</td>\n      <td>0.0</td>\n      <td>0.0</td>\n      <td>0.0</td>\n      <td>Nelly Carsoning</td>\n    </tr>\n    <tr>\n      <th>1</th>\n      <td>0018_01</td>\n      <td>Earth</td>\n      <td>False</td>\n      <td>F/4/S</td>\n      <td>TRAPPIST-1e</td>\n      <td>19.0</td>\n      <td>False</td>\n      <td>0.0</td>\n      <td>9.0</td>\n      <td>0.0</td>\n      <td>2823.0</td>\n      <td>0.0</td>\n      <td>Lerome Peckers</td>\n    </tr>\n    <tr>\n      <th>2</th>\n      <td>0019_01</td>\n      <td>Europa</td>\n      <td>True</td>\n      <td>C/0/S</td>\n      <td>55 Cancri e</td>\n      <td>31.0</td>\n      <td>False</td>\n      <td>0.0</td>\n      <td>0.0</td>\n      <td>0.0</td>\n      <td>0.0</td>\n      <td>0.0</td>\n      <td>Sabih Unhearfus</td>\n    </tr>\n    <tr>\n      <th>3</th>\n      <td>0021_01</td>\n      <td>Europa</td>\n      <td>False</td>\n      <td>C/1/S</td>\n      <td>TRAPPIST-1e</td>\n      <td>38.0</td>\n      <td>False</td>\n      <td>0.0</td>\n      <td>6652.0</td>\n      <td>0.0</td>\n      <td>181.0</td>\n      <td>585.0</td>\n      <td>Meratz Caltilter</td>\n    </tr>\n    <tr>\n      <th>4</th>\n      <td>0023_01</td>\n      <td>Earth</td>\n      <td>False</td>\n      <td>F/5/S</td>\n      <td>TRAPPIST-1e</td>\n      <td>20.0</td>\n      <td>False</td>\n      <td>10.0</td>\n      <td>0.0</td>\n      <td>635.0</td>\n      <td>0.0</td>\n      <td>0.0</td>\n      <td>Brence Harperez</td>\n    </tr>\n    <tr>\n      <th>5</th>\n      <td>0027_01</td>\n      <td>Earth</td>\n      <td>False</td>\n      <td>F/7/P</td>\n      <td>TRAPPIST-1e</td>\n      <td>31.0</td>\n      <td>False</td>\n      <td>0.0</td>\n      <td>1615.0</td>\n      <td>263.0</td>\n      <td>113.0</td>\n      <td>60.0</td>\n      <td>Karlen Ricks</td>\n    </tr>\n    <tr>\n      <th>6</th>\n      <td>0029_01</td>\n      <td>Europa</td>\n      <td>True</td>\n      <td>B/2/P</td>\n      <td>55 Cancri e</td>\n      <td>21.0</td>\n      <td>False</td>\n      <td>0.0</td>\n      <td>NaN</td>\n      <td>0.0</td>\n      <td>0.0</td>\n      <td>0.0</td>\n      <td>Aldah Ainserfle</td>\n    </tr>\n    <tr>\n      <th>7</th>\n      <td>0032_01</td>\n      <td>Europa</td>\n      <td>True</td>\n      <td>D/0/S</td>\n      <td>TRAPPIST-1e</td>\n      <td>20.0</td>\n      <td>False</td>\n      <td>0.0</td>\n      <td>0.0</td>\n      <td>0.0</td>\n      <td>0.0</td>\n      <td>0.0</td>\n      <td>Acrabi Pringry</td>\n    </tr>\n    <tr>\n      <th>8</th>\n      <td>0032_02</td>\n      <td>Europa</td>\n      <td>True</td>\n      <td>D/0/S</td>\n      <td>55 Cancri e</td>\n      <td>23.0</td>\n      <td>False</td>\n      <td>0.0</td>\n      <td>0.0</td>\n      <td>0.0</td>\n      <td>0.0</td>\n      <td>0.0</td>\n      <td>Dhena Pringry</td>\n    </tr>\n    <tr>\n      <th>9</th>\n      <td>0033_01</td>\n      <td>Earth</td>\n      <td>False</td>\n      <td>F/7/S</td>\n      <td>55 Cancri e</td>\n      <td>24.0</td>\n      <td>False</td>\n      <td>0.0</td>\n      <td>639.0</td>\n      <td>0.0</td>\n      <td>0.0</td>\n      <td>0.0</td>\n      <td>Eliana Delazarson</td>\n    </tr>\n  </tbody>\n</table>\n</div>"
     },
     "execution_count": 203,
     "metadata": {},
     "output_type": "execute_result"
    }
   ],
   "source": [
    "df.head(10)"
   ],
   "metadata": {
    "collapsed": false,
    "ExecuteTime": {
     "start_time": "2023-06-07T20:25:51.079418Z",
     "end_time": "2023-06-07T20:25:51.114174Z"
    }
   }
  },
  {
   "cell_type": "code",
   "execution_count": 235,
   "outputs": [],
   "source": [
    "data = df.copy()"
   ],
   "metadata": {
    "collapsed": false,
    "ExecuteTime": {
     "start_time": "2023-06-07T20:28:44.802893Z",
     "end_time": "2023-06-07T20:28:44.817893Z"
    }
   }
  },
  {
   "cell_type": "code",
   "execution_count": 236,
   "outputs": [
    {
     "name": "stdout",
     "output_type": "stream",
     "text": [
      "<class 'pandas.core.frame.DataFrame'>\n",
      "RangeIndex: 8693 entries, 0 to 8692\n",
      "Data columns (total 14 columns):\n",
      " #   Column        Non-Null Count  Dtype  \n",
      "---  ------        --------------  -----  \n",
      " 0   PassengerId   8693 non-null   object \n",
      " 1   HomePlanet    8492 non-null   object \n",
      " 2   CryoSleep     8476 non-null   object \n",
      " 3   Cabin         8494 non-null   object \n",
      " 4   Destination   8511 non-null   object \n",
      " 5   Age           8514 non-null   float64\n",
      " 6   VIP           8490 non-null   object \n",
      " 7   RoomService   8512 non-null   float64\n",
      " 8   FoodCourt     8510 non-null   float64\n",
      " 9   ShoppingMall  8485 non-null   float64\n",
      " 10  Spa           8510 non-null   float64\n",
      " 11  VRDeck        8505 non-null   float64\n",
      " 12  Name          8493 non-null   object \n",
      " 13  Transported   8693 non-null   bool   \n",
      "dtypes: bool(1), float64(6), object(7)\n",
      "memory usage: 891.5+ KB\n"
     ]
    }
   ],
   "source": [
    "data.info()"
   ],
   "metadata": {
    "collapsed": false,
    "ExecuteTime": {
     "start_time": "2023-06-07T20:28:46.379377Z",
     "end_time": "2023-06-07T20:28:46.403374Z"
    }
   }
  },
  {
   "cell_type": "code",
   "execution_count": 112,
   "outputs": [],
   "source": [
    "#data['Transported'] = -1 - for test"
   ],
   "metadata": {
    "collapsed": false,
    "ExecuteTime": {
     "start_time": "2023-06-07T13:01:40.674836Z",
     "end_time": "2023-06-07T13:01:40.702867Z"
    }
   }
  },
  {
   "cell_type": "markdown",
   "source": [
    "#### Заполняем nan средними значениями"
   ],
   "metadata": {
    "collapsed": false
   }
  },
  {
   "cell_type": "code",
   "execution_count": 163,
   "outputs": [
    {
     "data": {
      "text/plain": "HomePlanet\nEarth     4803\nEuropa    2131\nMars      1759\nName: count, dtype: int64"
     },
     "execution_count": 163,
     "metadata": {},
     "output_type": "execute_result"
    }
   ],
   "source": [
    "data[data['HomePlanet'].isna() == False]['HomePlanet'].value_counts()"
   ],
   "metadata": {
    "collapsed": false,
    "ExecuteTime": {
     "start_time": "2023-06-07T20:20:29.566351Z",
     "end_time": "2023-06-07T20:20:29.582349Z"
    }
   }
  },
  {
   "cell_type": "code",
   "execution_count": 162,
   "outputs": [
    {
     "data": {
      "text/plain": "Series([], Name: HomePlanet, dtype: object)"
     },
     "execution_count": 162,
     "metadata": {},
     "output_type": "execute_result"
    }
   ],
   "source": [
    "data[data['HomePlanet'].isna()]['HomePlanet']"
   ],
   "metadata": {
    "collapsed": false,
    "ExecuteTime": {
     "start_time": "2023-06-07T20:20:27.234591Z",
     "end_time": "2023-06-07T20:20:27.282767Z"
    }
   }
  },
  {
   "cell_type": "code",
   "execution_count": 237,
   "outputs": [],
   "source": [
    "data.loc[data['HomePlanet'].isna(), \"HomePlanet\"] = 'Earth'"
   ],
   "metadata": {
    "collapsed": false,
    "ExecuteTime": {
     "start_time": "2023-06-07T20:28:53.197152Z",
     "end_time": "2023-06-07T20:28:53.214150Z"
    }
   }
  },
  {
   "cell_type": "code",
   "execution_count": 166,
   "outputs": [
    {
     "data": {
      "text/plain": "CryoSleep\nFalse    5656\nTrue     3037\nName: count, dtype: int64"
     },
     "execution_count": 166,
     "metadata": {},
     "output_type": "execute_result"
    }
   ],
   "source": [
    "data['CryoSleep'].value_counts()"
   ],
   "metadata": {
    "collapsed": false,
    "ExecuteTime": {
     "start_time": "2023-06-07T20:20:51.987206Z",
     "end_time": "2023-06-07T20:20:52.016740Z"
    }
   }
  },
  {
   "cell_type": "code",
   "execution_count": 238,
   "outputs": [],
   "source": [
    "data.loc[data['CryoSleep'].isnull(), 'CryoSleep'] = False"
   ],
   "metadata": {
    "collapsed": false,
    "ExecuteTime": {
     "start_time": "2023-06-07T20:28:54.748267Z",
     "end_time": "2023-06-07T20:28:54.765290Z"
    }
   }
  },
  {
   "cell_type": "code",
   "execution_count": 79,
   "outputs": [
    {
     "data": {
      "text/plain": "Destination\nTRAPPIST-1e      5915\n55 Cancri e      1800\nPSO J318.5-22     796\nName: count, dtype: int64"
     },
     "execution_count": 79,
     "metadata": {},
     "output_type": "execute_result"
    }
   ],
   "source": [
    "data['Destination'].value_counts()"
   ],
   "metadata": {
    "collapsed": false,
    "ExecuteTime": {
     "start_time": "2023-06-07T19:24:39.933247Z",
     "end_time": "2023-06-07T19:24:39.975778Z"
    }
   }
  },
  {
   "cell_type": "code",
   "execution_count": 239,
   "outputs": [],
   "source": [
    "data.loc[data['Destination'].isnull(), 'Destination'] = \"TRAPPIST-1e\""
   ],
   "metadata": {
    "collapsed": false,
    "ExecuteTime": {
     "start_time": "2023-06-07T20:28:56.506835Z",
     "end_time": "2023-06-07T20:28:56.526524Z"
    }
   }
  },
  {
   "cell_type": "code",
   "execution_count": 116,
   "outputs": [
    {
     "data": {
      "text/plain": "28.82793046746535"
     },
     "execution_count": 116,
     "metadata": {},
     "output_type": "execute_result"
    }
   ],
   "source": [
    "data[data['Age'].isnull() == False]['Age'].mean()"
   ],
   "metadata": {
    "collapsed": false,
    "ExecuteTime": {
     "start_time": "2023-06-07T20:14:14.921055Z",
     "end_time": "2023-06-07T20:14:14.949059Z"
    }
   }
  },
  {
   "cell_type": "code",
   "execution_count": 240,
   "outputs": [],
   "source": [
    "data.loc[data['Age'].isnull(), 'Age'] = 28.82"
   ],
   "metadata": {
    "collapsed": false,
    "ExecuteTime": {
     "start_time": "2023-06-07T20:28:57.825466Z",
     "end_time": "2023-06-07T20:28:57.898036Z"
    }
   }
  },
  {
   "cell_type": "code",
   "execution_count": 171,
   "outputs": [
    {
     "data": {
      "text/plain": "VIP\nFalse    8494\nTrue      199\nName: count, dtype: int64"
     },
     "execution_count": 171,
     "metadata": {},
     "output_type": "execute_result"
    }
   ],
   "source": [
    "data[data['VIP'].isnull() == False]['VIP'].value_counts()"
   ],
   "metadata": {
    "collapsed": false,
    "ExecuteTime": {
     "start_time": "2023-06-07T20:21:25.769230Z",
     "end_time": "2023-06-07T20:21:25.797234Z"
    }
   }
  },
  {
   "cell_type": "code",
   "execution_count": 241,
   "outputs": [],
   "source": [
    "data.loc[data['VIP'].isnull(), 'VIP'] = False"
   ],
   "metadata": {
    "collapsed": false,
    "ExecuteTime": {
     "start_time": "2023-06-07T20:28:59.682696Z",
     "end_time": "2023-06-07T20:28:59.709693Z"
    }
   }
  },
  {
   "cell_type": "code",
   "execution_count": 87,
   "outputs": [
    {
     "data": {
      "text/plain": "224.687617481203"
     },
     "execution_count": 87,
     "metadata": {},
     "output_type": "execute_result"
    }
   ],
   "source": [
    "data[data[\"RoomService\"].isnull() == False]['RoomService'].mean()"
   ],
   "metadata": {
    "collapsed": false,
    "ExecuteTime": {
     "start_time": "2023-06-07T19:26:17.404511Z",
     "end_time": "2023-06-07T19:26:17.454070Z"
    }
   }
  },
  {
   "cell_type": "code",
   "execution_count": 242,
   "outputs": [],
   "source": [
    "data.loc[data[\"RoomService\"].isnull(), 'RoomService'] = 224.69"
   ],
   "metadata": {
    "collapsed": false,
    "ExecuteTime": {
     "start_time": "2023-06-07T20:29:01.236470Z",
     "end_time": "2023-06-07T20:29:01.251477Z"
    }
   }
  },
  {
   "cell_type": "code",
   "execution_count": 194,
   "outputs": [
    {
     "data": {
      "text/plain": "458.07720329024676"
     },
     "execution_count": 194,
     "metadata": {},
     "output_type": "execute_result"
    }
   ],
   "source": [
    "data[data[\"FoodCourt\"].isnull() == False]['FoodCourt'].mean()"
   ],
   "metadata": {
    "collapsed": false,
    "ExecuteTime": {
     "start_time": "2023-06-07T20:25:01.477381Z",
     "end_time": "2023-06-07T20:25:01.530390Z"
    }
   }
  },
  {
   "cell_type": "code",
   "execution_count": 243,
   "outputs": [],
   "source": [
    "data.loc[data[\"FoodCourt\"].isnull(), 'FoodCourt'] = 458.08"
   ],
   "metadata": {
    "collapsed": false,
    "ExecuteTime": {
     "start_time": "2023-06-07T20:29:02.746362Z",
     "end_time": "2023-06-07T20:29:02.760364Z"
    }
   }
  },
  {
   "cell_type": "code",
   "execution_count": 173,
   "outputs": [
    {
     "data": {
      "text/plain": "173.72916912197996"
     },
     "execution_count": 173,
     "metadata": {},
     "output_type": "execute_result"
    }
   ],
   "source": [
    "data.loc[data[\"ShoppingMall\"].isnull() == False, 'ShoppingMall'].mean()"
   ],
   "metadata": {
    "collapsed": false
   }
  },
  {
   "cell_type": "code",
   "execution_count": 244,
   "outputs": [],
   "source": [
    "data.loc[data[\"ShoppingMall\"].isnull(), 'ShoppingMall'] = 174.73"
   ],
   "metadata": {
    "collapsed": false,
    "ExecuteTime": {
     "start_time": "2023-06-07T20:29:03.986513Z",
     "end_time": "2023-06-07T20:29:04.002507Z"
    }
   }
  },
  {
   "cell_type": "code",
   "execution_count": 91,
   "outputs": [
    {
     "data": {
      "text/plain": "311.1387779083431"
     },
     "execution_count": 91,
     "metadata": {},
     "output_type": "execute_result"
    }
   ],
   "source": [
    "data[data[\"Spa\"].isnull() == False]['Spa'].mean()"
   ],
   "metadata": {
    "collapsed": false,
    "ExecuteTime": {
     "start_time": "2023-06-07T19:27:26.392893Z",
     "end_time": "2023-06-07T19:27:26.438671Z"
    }
   }
  },
  {
   "cell_type": "code",
   "execution_count": 245,
   "outputs": [],
   "source": [
    "data.loc[data[\"Spa\"].isnull(), 'Spa'] = 311.14"
   ],
   "metadata": {
    "collapsed": false,
    "ExecuteTime": {
     "start_time": "2023-06-07T20:29:05.272267Z",
     "end_time": "2023-06-07T20:29:05.295430Z"
    }
   }
  },
  {
   "cell_type": "code",
   "execution_count": 93,
   "outputs": [
    {
     "data": {
      "text/plain": "304.8547912992357"
     },
     "execution_count": 93,
     "metadata": {},
     "output_type": "execute_result"
    }
   ],
   "source": [
    "data[data[\"VRDeck\"].isnull() == False]['VRDeck'].mean()"
   ],
   "metadata": {
    "collapsed": false,
    "ExecuteTime": {
     "start_time": "2023-06-07T19:28:01.494490Z",
     "end_time": "2023-06-07T19:28:01.542498Z"
    }
   }
  },
  {
   "cell_type": "code",
   "execution_count": 246,
   "outputs": [],
   "source": [
    "data.loc[data[\"VRDeck\"].isnull(), 'VRDeck'] = 304.86"
   ],
   "metadata": {
    "collapsed": false,
    "ExecuteTime": {
     "start_time": "2023-06-07T20:29:06.225352Z",
     "end_time": "2023-06-07T20:29:06.237354Z"
    }
   }
  },
  {
   "cell_type": "markdown",
   "source": [
    "#### Из текстовых значений в числовые"
   ],
   "metadata": {
    "collapsed": false
   }
  },
  {
   "cell_type": "code",
   "execution_count": 123,
   "outputs": [
    {
     "data": {
      "text/plain": "array(['Europa', 'Earth', 'Mars', nan], dtype=object)"
     },
     "execution_count": 123,
     "metadata": {},
     "output_type": "execute_result"
    }
   ],
   "source": [
    "data['HomePlanet'].unique()"
   ],
   "metadata": {
    "collapsed": false,
    "ExecuteTime": {
     "start_time": "2023-06-07T20:14:44.800556Z",
     "end_time": "2023-06-07T20:14:44.818083Z"
    }
   }
  },
  {
   "cell_type": "code",
   "execution_count": 247,
   "outputs": [],
   "source": [
    "planets = {\"Europa\": 1, \"Earth\": 2, \"Mars\": 3}\n",
    "data['HomePlanet'] = data['HomePlanet'].agg(lambda x: planets[x])"
   ],
   "metadata": {
    "collapsed": false,
    "ExecuteTime": {
     "start_time": "2023-06-07T20:29:08.738741Z",
     "end_time": "2023-06-07T20:29:08.768752Z"
    }
   }
  },
  {
   "cell_type": "code",
   "execution_count": 251,
   "outputs": [],
   "source": [
    "data['HomePlanet'] = data['HomePlanet'].astype(int)"
   ],
   "metadata": {
    "collapsed": false,
    "ExecuteTime": {
     "start_time": "2023-06-07T20:30:35.112211Z",
     "end_time": "2023-06-07T20:30:35.130723Z"
    }
   }
  },
  {
   "cell_type": "code",
   "execution_count": 248,
   "outputs": [],
   "source": [
    "data['CryoSleep'] = data['CryoSleep'].astype(int)"
   ],
   "metadata": {
    "collapsed": false,
    "ExecuteTime": {
     "start_time": "2023-06-07T20:29:09.825684Z",
     "end_time": "2023-06-07T20:29:09.852684Z"
    }
   }
  },
  {
   "cell_type": "code",
   "execution_count": 252,
   "outputs": [],
   "source": [
    "data[['Cabin_deck', 'Cabin_num', 'Cabin_side']] = data['Cabin'].str.split(\"/\", expand=True)"
   ],
   "metadata": {
    "collapsed": false,
    "ExecuteTime": {
     "start_time": "2023-06-07T20:30:38.687095Z",
     "end_time": "2023-06-07T20:30:38.710109Z"
    }
   }
  },
  {
   "cell_type": "code",
   "execution_count": 253,
   "outputs": [
    {
     "data": {
      "text/plain": "Cabin_deck\nF    2794\nG    2559\nE     876\nB     779\nC     747\nD     478\nA     256\nT       5\nName: count, dtype: int64"
     },
     "execution_count": 253,
     "metadata": {},
     "output_type": "execute_result"
    }
   ],
   "source": [
    "data['Cabin_deck'].value_counts()"
   ],
   "metadata": {
    "collapsed": false,
    "ExecuteTime": {
     "start_time": "2023-06-07T20:30:39.452772Z",
     "end_time": "2023-06-07T20:30:39.481051Z"
    }
   }
  },
  {
   "cell_type": "code",
   "execution_count": 254,
   "outputs": [],
   "source": [
    "data.loc[data['Cabin_deck'].isnull(), \"Cabin_deck\"] = \"F\""
   ],
   "metadata": {
    "collapsed": false,
    "ExecuteTime": {
     "start_time": "2023-06-07T20:30:41.848427Z",
     "end_time": "2023-06-07T20:30:41.863417Z"
    }
   }
  },
  {
   "cell_type": "code",
   "execution_count": 255,
   "outputs": [
    {
     "data": {
      "text/plain": "427.0"
     },
     "execution_count": 255,
     "metadata": {},
     "output_type": "execute_result"
    }
   ],
   "source": [
    "data[data['Cabin_num'].isna() == False]['Cabin_num'].astype(int).median()"
   ],
   "metadata": {
    "collapsed": false,
    "ExecuteTime": {
     "start_time": "2023-06-07T20:30:43.095464Z",
     "end_time": "2023-06-07T20:30:43.117470Z"
    }
   }
  },
  {
   "cell_type": "code",
   "execution_count": 256,
   "outputs": [],
   "source": [
    "data.loc[data['Cabin_num'].isna(), 'Cabin_num'] = 427"
   ],
   "metadata": {
    "collapsed": false,
    "ExecuteTime": {
     "start_time": "2023-06-07T20:30:46.533941Z",
     "end_time": "2023-06-07T20:30:46.566994Z"
    }
   }
  },
  {
   "cell_type": "code",
   "execution_count": 258,
   "outputs": [],
   "source": [
    "data['Cabin_num'] = data['Cabin_num'].astype(int)"
   ],
   "metadata": {
    "collapsed": false,
    "ExecuteTime": {
     "start_time": "2023-06-07T20:30:51.982248Z",
     "end_time": "2023-06-07T20:30:51.996251Z"
    }
   }
  },
  {
   "cell_type": "code",
   "execution_count": 259,
   "outputs": [],
   "source": [
    "data.loc[data['Cabin_side'].isna(), \"Cabin_side\"] = \"S\""
   ],
   "metadata": {
    "collapsed": false,
    "ExecuteTime": {
     "start_time": "2023-06-07T20:30:54.727433Z",
     "end_time": "2023-06-07T20:30:54.754951Z"
    }
   }
  },
  {
   "cell_type": "code",
   "execution_count": 260,
   "outputs": [],
   "source": [
    "decks = {\"A\": 1, \"B\": 2, \"C\": 3, \"D\": 4, \"E\": 5, \"F\": 6, \"G\": 7, \"T\": 8}\n",
    "sides = {\"P\": 1, \"S\": 2}"
   ],
   "metadata": {
    "collapsed": false,
    "ExecuteTime": {
     "start_time": "2023-06-07T20:30:55.558610Z",
     "end_time": "2023-06-07T20:30:55.584530Z"
    }
   }
  },
  {
   "cell_type": "code",
   "execution_count": 261,
   "outputs": [],
   "source": [
    "data['Cabin_deck'] = data.Cabin_deck.agg(lambda x: decks[x])\n",
    "data[\"Cabin_side\"] = data.Cabin_side.agg(lambda x: sides[x])"
   ],
   "metadata": {
    "collapsed": false,
    "ExecuteTime": {
     "start_time": "2023-06-07T20:30:56.966040Z",
     "end_time": "2023-06-07T20:30:56.994056Z"
    }
   }
  },
  {
   "cell_type": "code",
   "execution_count": 262,
   "outputs": [],
   "source": [
    "data['Cabin_deck'] = data.Cabin_deck.astype(int)\n",
    "data['Cabin_side'] = data.Cabin_side.astype(int)"
   ],
   "metadata": {
    "collapsed": false,
    "ExecuteTime": {
     "start_time": "2023-06-07T20:30:57.767748Z",
     "end_time": "2023-06-07T20:30:57.795749Z"
    }
   }
  },
  {
   "cell_type": "code",
   "execution_count": 227,
   "outputs": [
    {
     "data": {
      "text/plain": "array(['TRAPPIST-1e', '55 Cancri e', 'PSO J318.5-22'], dtype=object)"
     },
     "execution_count": 227,
     "metadata": {},
     "output_type": "execute_result"
    }
   ],
   "source": [
    "data['Destination'].unique()"
   ],
   "metadata": {
    "collapsed": false,
    "ExecuteTime": {
     "start_time": "2023-06-07T20:26:37.943426Z",
     "end_time": "2023-06-07T20:26:37.971431Z"
    }
   }
  },
  {
   "cell_type": "code",
   "execution_count": 263,
   "outputs": [],
   "source": [
    "destinations = {\"TRAPPIST-1e\": 1, \"PSO J318.5-22\": 2, \"55 Cancri e\": 3}\n",
    "data.Destination = data.Destination.agg(lambda x: destinations[x])"
   ],
   "metadata": {
    "collapsed": false,
    "ExecuteTime": {
     "start_time": "2023-06-07T20:31:02.028848Z",
     "end_time": "2023-06-07T20:31:02.045362Z"
    }
   }
  },
  {
   "cell_type": "code",
   "execution_count": 264,
   "outputs": [],
   "source": [
    "data['VIP'] = data['VIP'].astype(int)"
   ],
   "metadata": {
    "collapsed": false,
    "ExecuteTime": {
     "start_time": "2023-06-07T20:31:03.520677Z",
     "end_time": "2023-06-07T20:31:03.542203Z"
    }
   }
  },
  {
   "cell_type": "code",
   "execution_count": 265,
   "outputs": [],
   "source": [
    "data['Transported'] = data.Transported.astype(int)"
   ],
   "metadata": {
    "collapsed": false,
    "ExecuteTime": {
     "start_time": "2023-06-07T20:31:04.837430Z",
     "end_time": "2023-06-07T20:31:04.847423Z"
    }
   }
  },
  {
   "cell_type": "code",
   "execution_count": 266,
   "outputs": [
    {
     "name": "stdout",
     "output_type": "stream",
     "text": [
      "<class 'pandas.core.frame.DataFrame'>\n",
      "RangeIndex: 8693 entries, 0 to 8692\n",
      "Data columns (total 17 columns):\n",
      " #   Column        Non-Null Count  Dtype  \n",
      "---  ------        --------------  -----  \n",
      " 0   PassengerId   8693 non-null   object \n",
      " 1   HomePlanet    8693 non-null   int32  \n",
      " 2   CryoSleep     8693 non-null   int32  \n",
      " 3   Cabin         8494 non-null   object \n",
      " 4   Destination   8693 non-null   int64  \n",
      " 5   Age           8693 non-null   float64\n",
      " 6   VIP           8693 non-null   int32  \n",
      " 7   RoomService   8693 non-null   float64\n",
      " 8   FoodCourt     8693 non-null   float64\n",
      " 9   ShoppingMall  8693 non-null   float64\n",
      " 10  Spa           8693 non-null   float64\n",
      " 11  VRDeck        8693 non-null   float64\n",
      " 12  Name          8493 non-null   object \n",
      " 13  Transported   8693 non-null   int32  \n",
      " 14  Cabin_deck    8693 non-null   int32  \n",
      " 15  Cabin_num     8693 non-null   int32  \n",
      " 16  Cabin_side    8693 non-null   int32  \n",
      "dtypes: float64(6), int32(7), int64(1), object(3)\n",
      "memory usage: 917.0+ KB\n"
     ]
    }
   ],
   "source": [
    "data.info()"
   ],
   "metadata": {
    "collapsed": false,
    "ExecuteTime": {
     "start_time": "2023-06-07T20:31:05.950779Z",
     "end_time": "2023-06-07T20:31:05.977830Z"
    }
   }
  },
  {
   "cell_type": "code",
   "execution_count": 198,
   "outputs": [
    {
     "data": {
      "text/plain": "Index(['PassengerId', 'HomePlanet', 'CryoSleep', 'Cabin', 'Destination', 'Age',\n       'VIP', 'RoomService', 'FoodCourt', 'ShoppingMall', 'Spa', 'VRDeck',\n       'Name', 'Transported', 'Cabin_deck', 'Cabin_num', 'Cabin_side'],\n      dtype='object')"
     },
     "execution_count": 198,
     "metadata": {},
     "output_type": "execute_result"
    }
   ],
   "source": [
    "data.columns"
   ],
   "metadata": {
    "collapsed": false,
    "ExecuteTime": {
     "start_time": "2023-06-07T20:25:26.831546Z",
     "end_time": "2023-06-07T20:25:26.864081Z"
    }
   }
  },
  {
   "cell_type": "code",
   "execution_count": 267,
   "outputs": [
    {
     "name": "stdout",
     "output_type": "stream",
     "text": [
      "Нужные колонки\n",
      "['HomePlanet', 'CryoSleep', 'Destination', 'Age', 'VIP', 'RoomService', 'FoodCourt', 'ShoppingMall', 'Spa', 'VRDeck', 'Cabin_deck', 'Cabin_num', 'Cabin_side', 'Transported']\n"
     ]
    }
   ],
   "source": [
    "final_columns = ['HomePlanet', 'CryoSleep', 'Destination', 'Age', 'VIP', 'RoomService', 'FoodCourt', 'ShoppingMall', 'Spa', 'VRDeck', 'Cabin_deck', 'Cabin_num', 'Cabin_side', \"Transported\"]\n",
    "\n",
    "print(\"Нужные колонки\")\n",
    "print(final_columns)"
   ],
   "metadata": {
    "collapsed": false,
    "ExecuteTime": {
     "start_time": "2023-06-07T20:31:23.285591Z",
     "end_time": "2023-06-07T20:31:23.302601Z"
    }
   }
  },
  {
   "cell_type": "markdown",
   "source": [],
   "metadata": {
    "collapsed": false
   }
  },
  {
   "cell_type": "code",
   "execution_count": 268,
   "outputs": [],
   "source": [
    "data[final_columns].to_csv(\"features/train_second.csv\", index=False)"
   ],
   "metadata": {
    "collapsed": false,
    "ExecuteTime": {
     "start_time": "2023-06-07T20:31:29.473594Z",
     "end_time": "2023-06-07T20:31:29.526391Z"
    }
   }
  }
 ],
 "metadata": {
  "kernelspec": {
   "display_name": "Python 3",
   "language": "python",
   "name": "python3"
  },
  "language_info": {
   "codemirror_mode": {
    "name": "ipython",
    "version": 2
   },
   "file_extension": ".py",
   "mimetype": "text/x-python",
   "name": "python",
   "nbconvert_exporter": "python",
   "pygments_lexer": "ipython2",
   "version": "2.7.6"
  }
 },
 "nbformat": 4,
 "nbformat_minor": 0
}
