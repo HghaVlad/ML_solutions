{
  "nbformat": 4,
  "nbformat_minor": 0,
  "metadata": {
    "colab": {
      "name": "Baseline_reg.ipynb",
      "provenance": [],
      "toc_visible": true
    },
    "kernelspec": {
      "name": "python3",
      "display_name": "Python 3"
    },
    "language_info": {
      "name": "python"
    }
  },
  "cells": [
    {
      "cell_type": "markdown",
      "source": [
        "## Библиотеки\n",
        "\n",
        "Первым этапом анализа данных и разработки модели является импортирование нужных библиотек"
      ],
      "metadata": {
        "id": "kPKfEVVeN96N"
      }
    },
    {
      "cell_type": "code",
      "source": [
        "import pandas as pd \n",
        "import numpy as np\n",
        "import matplotlib.pyplot as plt\n",
        "import seaborn as sns\n",
        "\n",
        "from sklearn.model_selection import train_test_split\n",
        "\n",
        "from sklearn.neighbors import KNeighborsRegressor\n",
        "from sklearn.linear_model import LinearRegression\n",
        "from sklearn.ensemble import RandomForestRegressor\n",
        "from sklearn.svm import SVR\n",
        "from sklearn.metrics import r2_score"
      ],
      "metadata": {
        "id": "IRZY7WC3N-w-"
      },
      "execution_count": 132,
      "outputs": []
    },
    {
      "cell_type": "markdown",
      "source": [
        "## Датасет\n",
        "\n",
        "Прежде чем разбираться с моделями, нам стоит происследовать правильно ли загружены данные и а так же рассмотреть их распредиеление и проверить наличие \"аномалий\"."
      ],
      "metadata": {
        "id": "u7VQI-rCPQtU"
      }
    },
    {
      "cell_type": "code",
      "source": [
        "df_train = pd.read_csv('train.csv', index_col=0)\n",
        "df_test = pd.read_csv('test.csv', index_col=0)"
      ],
      "metadata": {
        "id": "6i4CJxHJN-2D"
      },
      "execution_count": 156,
      "outputs": []
    },
    {
      "cell_type": "code",
      "source": [
        "df_train.head()"
      ],
      "metadata": {
        "colab": {
          "base_uri": "https://localhost:8080/",
          "height": 250
        },
        "id": "4vqCuD26N-37",
        "outputId": "da85699e-d16a-487e-9d78-226ff61ffc66"
      },
      "execution_count": 134,
      "outputs": [
        {
          "output_type": "execute_result",
          "data": {
            "text/plain": [
              "               DateTime  Temperature  Humidity  Wind Speed  \\\n",
              "37934  09/20/2021/10:20      30.3541     44.95     5.07481   \n",
              "31917  08/09/2021/15:30      35.5865     41.38     5.05112   \n",
              "28331  07/15/2021/17:50      30.8485     72.70     5.06554   \n",
              "19788  05/17/2021/10:00      25.6676     55.79     5.06348   \n",
              "23348  06/11/2021/03:20      20.3425     66.28     0.08446   \n",
              "\n",
              "       general diffuse flows  diffuse flows   Energy city  \n",
              "37934                546.600         62.210  69704.997753  \n",
              "31917                623.700        284.900  99443.498147  \n",
              "28331                412.500        134.900  89005.901292  \n",
              "19788                660.800        653.600  75247.019863  \n",
              "23348                  0.066          0.107  77042.028189  "
            ],
            "text/html": [
              "\n",
              "  <div id=\"df-3a5167b7-e939-4949-b2fc-6af37b3ab845\">\n",
              "    <div class=\"colab-df-container\">\n",
              "      <div>\n",
              "<style scoped>\n",
              "    .dataframe tbody tr th:only-of-type {\n",
              "        vertical-align: middle;\n",
              "    }\n",
              "\n",
              "    .dataframe tbody tr th {\n",
              "        vertical-align: top;\n",
              "    }\n",
              "\n",
              "    .dataframe thead th {\n",
              "        text-align: right;\n",
              "    }\n",
              "</style>\n",
              "<table border=\"1\" class=\"dataframe\">\n",
              "  <thead>\n",
              "    <tr style=\"text-align: right;\">\n",
              "      <th></th>\n",
              "      <th>DateTime</th>\n",
              "      <th>Temperature</th>\n",
              "      <th>Humidity</th>\n",
              "      <th>Wind Speed</th>\n",
              "      <th>general diffuse flows</th>\n",
              "      <th>diffuse flows</th>\n",
              "      <th>Energy city</th>\n",
              "    </tr>\n",
              "  </thead>\n",
              "  <tbody>\n",
              "    <tr>\n",
              "      <th>37934</th>\n",
              "      <td>09/20/2021/10:20</td>\n",
              "      <td>30.3541</td>\n",
              "      <td>44.95</td>\n",
              "      <td>5.07481</td>\n",
              "      <td>546.600</td>\n",
              "      <td>62.210</td>\n",
              "      <td>69704.997753</td>\n",
              "    </tr>\n",
              "    <tr>\n",
              "      <th>31917</th>\n",
              "      <td>08/09/2021/15:30</td>\n",
              "      <td>35.5865</td>\n",
              "      <td>41.38</td>\n",
              "      <td>5.05112</td>\n",
              "      <td>623.700</td>\n",
              "      <td>284.900</td>\n",
              "      <td>99443.498147</td>\n",
              "    </tr>\n",
              "    <tr>\n",
              "      <th>28331</th>\n",
              "      <td>07/15/2021/17:50</td>\n",
              "      <td>30.8485</td>\n",
              "      <td>72.70</td>\n",
              "      <td>5.06554</td>\n",
              "      <td>412.500</td>\n",
              "      <td>134.900</td>\n",
              "      <td>89005.901292</td>\n",
              "    </tr>\n",
              "    <tr>\n",
              "      <th>19788</th>\n",
              "      <td>05/17/2021/10:00</td>\n",
              "      <td>25.6676</td>\n",
              "      <td>55.79</td>\n",
              "      <td>5.06348</td>\n",
              "      <td>660.800</td>\n",
              "      <td>653.600</td>\n",
              "      <td>75247.019863</td>\n",
              "    </tr>\n",
              "    <tr>\n",
              "      <th>23348</th>\n",
              "      <td>06/11/2021/03:20</td>\n",
              "      <td>20.3425</td>\n",
              "      <td>66.28</td>\n",
              "      <td>0.08446</td>\n",
              "      <td>0.066</td>\n",
              "      <td>0.107</td>\n",
              "      <td>77042.028189</td>\n",
              "    </tr>\n",
              "  </tbody>\n",
              "</table>\n",
              "</div>\n",
              "      <button class=\"colab-df-convert\" onclick=\"convertToInteractive('df-3a5167b7-e939-4949-b2fc-6af37b3ab845')\"\n",
              "              title=\"Convert this dataframe to an interactive table.\"\n",
              "              style=\"display:none;\">\n",
              "        \n",
              "  <svg xmlns=\"http://www.w3.org/2000/svg\" height=\"24px\"viewBox=\"0 0 24 24\"\n",
              "       width=\"24px\">\n",
              "    <path d=\"M0 0h24v24H0V0z\" fill=\"none\"/>\n",
              "    <path d=\"M18.56 5.44l.94 2.06.94-2.06 2.06-.94-2.06-.94-.94-2.06-.94 2.06-2.06.94zm-11 1L8.5 8.5l.94-2.06 2.06-.94-2.06-.94L8.5 2.5l-.94 2.06-2.06.94zm10 10l.94 2.06.94-2.06 2.06-.94-2.06-.94-.94-2.06-.94 2.06-2.06.94z\"/><path d=\"M17.41 7.96l-1.37-1.37c-.4-.4-.92-.59-1.43-.59-.52 0-1.04.2-1.43.59L10.3 9.45l-7.72 7.72c-.78.78-.78 2.05 0 2.83L4 21.41c.39.39.9.59 1.41.59.51 0 1.02-.2 1.41-.59l7.78-7.78 2.81-2.81c.8-.78.8-2.07 0-2.86zM5.41 20L4 18.59l7.72-7.72 1.47 1.35L5.41 20z\"/>\n",
              "  </svg>\n",
              "      </button>\n",
              "      \n",
              "  <style>\n",
              "    .colab-df-container {\n",
              "      display:flex;\n",
              "      flex-wrap:wrap;\n",
              "      gap: 12px;\n",
              "    }\n",
              "\n",
              "    .colab-df-convert {\n",
              "      background-color: #E8F0FE;\n",
              "      border: none;\n",
              "      border-radius: 50%;\n",
              "      cursor: pointer;\n",
              "      display: none;\n",
              "      fill: #1967D2;\n",
              "      height: 32px;\n",
              "      padding: 0 0 0 0;\n",
              "      width: 32px;\n",
              "    }\n",
              "\n",
              "    .colab-df-convert:hover {\n",
              "      background-color: #E2EBFA;\n",
              "      box-shadow: 0px 1px 2px rgba(60, 64, 67, 0.3), 0px 1px 3px 1px rgba(60, 64, 67, 0.15);\n",
              "      fill: #174EA6;\n",
              "    }\n",
              "\n",
              "    [theme=dark] .colab-df-convert {\n",
              "      background-color: #3B4455;\n",
              "      fill: #D2E3FC;\n",
              "    }\n",
              "\n",
              "    [theme=dark] .colab-df-convert:hover {\n",
              "      background-color: #434B5C;\n",
              "      box-shadow: 0px 1px 3px 1px rgba(0, 0, 0, 0.15);\n",
              "      filter: drop-shadow(0px 1px 2px rgba(0, 0, 0, 0.3));\n",
              "      fill: #FFFFFF;\n",
              "    }\n",
              "  </style>\n",
              "\n",
              "      <script>\n",
              "        const buttonEl =\n",
              "          document.querySelector('#df-3a5167b7-e939-4949-b2fc-6af37b3ab845 button.colab-df-convert');\n",
              "        buttonEl.style.display =\n",
              "          google.colab.kernel.accessAllowed ? 'block' : 'none';\n",
              "\n",
              "        async function convertToInteractive(key) {\n",
              "          const element = document.querySelector('#df-3a5167b7-e939-4949-b2fc-6af37b3ab845');\n",
              "          const dataTable =\n",
              "            await google.colab.kernel.invokeFunction('convertToInteractive',\n",
              "                                                     [key], {});\n",
              "          if (!dataTable) return;\n",
              "\n",
              "          const docLinkHtml = 'Like what you see? Visit the ' +\n",
              "            '<a target=\"_blank\" href=https://colab.research.google.com/notebooks/data_table.ipynb>data table notebook</a>'\n",
              "            + ' to learn more about interactive tables.';\n",
              "          element.innerHTML = '';\n",
              "          dataTable['output_type'] = 'display_data';\n",
              "          await google.colab.output.renderOutput(dataTable, element);\n",
              "          const docLink = document.createElement('div');\n",
              "          docLink.innerHTML = docLinkHtml;\n",
              "          element.appendChild(docLink);\n",
              "        }\n",
              "      </script>\n",
              "    </div>\n",
              "  </div>\n",
              "  "
            ]
          },
          "metadata": {},
          "execution_count": 134
        }
      ]
    },
    {
      "cell_type": "markdown",
      "source": [
        "## Первичный анализ данных\n",
        "\n",
        "Посмотрим как распределятся все характеиристики датафрейма, обратим внимание на то что \"Скорость ветра\" и \"Диффузивные потоки\" имеют небольшую дисперсию."
      ],
      "metadata": {
        "id": "VWIWvhGpTnu4"
      }
    },
    {
      "cell_type": "code",
      "source": [
        "features = list(set(df_train.columns) - set(['DateTime']))\n",
        "\n",
        "_ = df_train[features].hist(figsize=(20,12))"
      ],
      "metadata": {
        "colab": {
          "base_uri": "https://localhost:8080/",
          "height": 530
        },
        "id": "PK2LtCP0TIXK",
        "outputId": "e22d2be7-c933-4662-a399-381b2038b449"
      },
      "execution_count": 135,
      "outputs": [
        {
          "output_type": "display_data",
          "data": {
            "text/plain": [
              "<Figure size 1440x864 with 6 Axes>"
            ],
            "image/png": "[encoded data removed]"
          },
          "metadata": {
            "needs_background": "light"
          }
        }
      ]
    },
    {
      "cell_type": "markdown",
      "source": [
        "Посмотрим на то как значения корррелируют между собой, если какая-то пара значений имеет большой коэффициент то одно из них можно выкинуть"
      ],
      "metadata": {
        "id": "tYcVqCljU5zB"
      }
    },
    {
      "cell_type": "code",
      "execution_count": 136,
      "metadata": {
        "colab": {
          "base_uri": "https://localhost:8080/",
          "height": 641
        },
        "id": "jedSL1P0M2Q2",
        "outputId": "16948c6a-6220-47fb-8c2a-112b215cc4a8"
      },
      "outputs": [
        {
          "output_type": "display_data",
          "data": {
            "text/plain": [
              "<Figure size 720x720 with 2 Axes>"
            ],
            "image/png": "[encoded data removed]"
          },
          "metadata": {
            "needs_background": "light"
          }
        }
      ],
      "source": [
        "plt.rcParams['figure.figsize']=(10,10)\n",
        "\n",
        "corr = df_train.corr()\n",
        "g = sns.heatmap(corr, square = True, annot=True)"
      ]
    },
    {
      "cell_type": "markdown",
      "source": [
        "## Предобработка данных\n",
        "\n",
        "Стоить заметить что столбец **DateTime** имеет тип данных object, что говорит о некроореткном считывании типа данных, сменим тип его данных на data_time\n",
        "\n"
      ],
      "metadata": {
        "id": "RuvTesZZU3Xu"
      }
    },
    {
      "cell_type": "code",
      "source": [
        "df_train[\"DateTime\"] = pd.to_datetime(df_train[\"DateTime\"])"
      ],
      "metadata": {
        "id": "JX1xbcsDaWby"
      },
      "execution_count": 137,
      "outputs": []
    },
    {
      "cell_type": "markdown",
      "source": [
        "Большинство моделей плохо работают с временными рядами, по этому выделим из этого столбца самые главные показатели:\n",
        "\n",
        "* Месяц\n",
        "* Час\n",
        "\n",
        "*Для повышения точности этот список можно расширить.* "
      ],
      "metadata": {
        "id": "wKVUcI_PjgK4"
      }
    },
    {
      "cell_type": "code",
      "source": [
        "df_train[\"Month\"] = pd.to_datetime(df_train[\"DateTime\"]).dt.month\n",
        "df_train[\"Hour\"] = pd.to_datetime(df_train[\"DateTime\"]).dt.hour "
      ],
      "metadata": {
        "id": "ZHTcM_gudJyg"
      },
      "execution_count": 138,
      "outputs": []
    },
    {
      "cell_type": "code",
      "source": [
        "df_train.head()"
      ],
      "metadata": {
        "colab": {
          "base_uri": "https://localhost:8080/",
          "height": 354
        },
        "id": "twmHcRjsi1Z3",
        "outputId": "92cd8313-4e1e-4b5d-b26e-6337cc76ea9a"
      },
      "execution_count": 139,
      "outputs": [
        {
          "output_type": "execute_result",
          "data": {
            "text/plain": [
              "                 DateTime  Temperature  Humidity  Wind Speed  \\\n",
              "37934 2021-09-20 10:20:00      30.3541     44.95     5.07481   \n",
              "31917 2021-08-09 15:30:00      35.5865     41.38     5.05112   \n",
              "28331 2021-07-15 17:50:00      30.8485     72.70     5.06554   \n",
              "19788 2021-05-17 10:00:00      25.6676     55.79     5.06348   \n",
              "23348 2021-06-11 03:20:00      20.3425     66.28     0.08446   \n",
              "\n",
              "       general diffuse flows  diffuse flows   Energy city  Month  Hour  \n",
              "37934                546.600         62.210  69704.997753      9    10  \n",
              "31917                623.700        284.900  99443.498147      8    15  \n",
              "28331                412.500        134.900  89005.901292      7    17  \n",
              "19788                660.800        653.600  75247.019863      5    10  \n",
              "23348                  0.066          0.107  77042.028189      6     3  "
            ],
            "text/html": [
              "\n",
              "  <div id=\"df-62d51214-b622-4b67-b41f-f2f159bc8229\">\n",
              "    <div class=\"colab-df-container\">\n",
              "      <div>\n",
              "<style scoped>\n",
              "    .dataframe tbody tr th:only-of-type {\n",
              "        vertical-align: middle;\n",
              "    }\n",
              "\n",
              "    .dataframe tbody tr th {\n",
              "        vertical-align: top;\n",
              "    }\n",
              "\n",
              "    .dataframe thead th {\n",
              "        text-align: right;\n",
              "    }\n",
              "</style>\n",
              "<table border=\"1\" class=\"dataframe\">\n",
              "  <thead>\n",
              "    <tr style=\"text-align: right;\">\n",
              "      <th></th>\n",
              "      <th>DateTime</th>\n",
              "      <th>Temperature</th>\n",
              "      <th>Humidity</th>\n",
              "      <th>Wind Speed</th>\n",
              "      <th>general diffuse flows</th>\n",
              "      <th>diffuse flows</th>\n",
              "      <th>Energy city</th>\n",
              "      <th>Month</th>\n",
              "      <th>Hour</th>\n",
              "    </tr>\n",
              "  </thead>\n",
              "  <tbody>\n",
              "    <tr>\n",
              "      <th>37934</th>\n",
              "      <td>2021-09-20 10:20:00</td>\n",
              "      <td>30.3541</td>\n",
              "      <td>44.95</td>\n",
              "      <td>5.07481</td>\n",
              "      <td>546.600</td>\n",
              "      <td>62.210</td>\n",
              "      <td>69704.997753</td>\n",
              "      <td>9</td>\n",
              "      <td>10</td>\n",
              "    </tr>\n",
              "    <tr>\n",
              "      <th>31917</th>\n",
              "      <td>2021-08-09 15:30:00</td>\n",
              "      <td>35.5865</td>\n",
              "      <td>41.38</td>\n",
              "      <td>5.05112</td>\n",
              "      <td>623.700</td>\n",
              "      <td>284.900</td>\n",
              "      <td>99443.498147</td>\n",
              "      <td>8</td>\n",
              "      <td>15</td>\n",
              "    </tr>\n",
              "    <tr>\n",
              "      <th>28331</th>\n",
              "      <td>2021-07-15 17:50:00</td>\n",
              "      <td>30.8485</td>\n",
              "      <td>72.70</td>\n",
              "      <td>5.06554</td>\n",
              "      <td>412.500</td>\n",
              "      <td>134.900</td>\n",
              "      <td>89005.901292</td>\n",
              "      <td>7</td>\n",
              "      <td>17</td>\n",
              "    </tr>\n",
              "    <tr>\n",
              "      <th>19788</th>\n",
              "      <td>2021-05-17 10:00:00</td>\n",
              "      <td>25.6676</td>\n",
              "      <td>55.79</td>\n",
              "      <td>5.06348</td>\n",
              "      <td>660.800</td>\n",
              "      <td>653.600</td>\n",
              "      <td>75247.019863</td>\n",
              "      <td>5</td>\n",
              "      <td>10</td>\n",
              "    </tr>\n",
              "    <tr>\n",
              "      <th>23348</th>\n",
              "      <td>2021-06-11 03:20:00</td>\n",
              "      <td>20.3425</td>\n",
              "      <td>66.28</td>\n",
              "      <td>0.08446</td>\n",
              "      <td>0.066</td>\n",
              "      <td>0.107</td>\n",
              "      <td>77042.028189</td>\n",
              "      <td>6</td>\n",
              "      <td>3</td>\n",
              "    </tr>\n",
              "  </tbody>\n",
              "</table>\n",
              "</div>\n",
              "      <button class=\"colab-df-convert\" onclick=\"convertToInteractive('df-62d51214-b622-4b67-b41f-f2f159bc8229')\"\n",
              "              title=\"Convert this dataframe to an interactive table.\"\n",
              "              style=\"display:none;\">\n",
              "        \n",
              "  <svg xmlns=\"http://www.w3.org/2000/svg\" height=\"24px\"viewBox=\"0 0 24 24\"\n",
              "       width=\"24px\">\n",
              "    <path d=\"M0 0h24v24H0V0z\" fill=\"none\"/>\n",
              "    <path d=\"M18.56 5.44l.94 2.06.94-2.06 2.06-.94-2.06-.94-.94-2.06-.94 2.06-2.06.94zm-11 1L8.5 8.5l.94-2.06 2.06-.94-2.06-.94L8.5 2.5l-.94 2.06-2.06.94zm10 10l.94 2.06.94-2.06 2.06-.94-2.06-.94-.94-2.06-.94 2.06-2.06.94z\"/><path d=\"M17.41 7.96l-1.37-1.37c-.4-.4-.92-.59-1.43-.59-.52 0-1.04.2-1.43.59L10.3 9.45l-7.72 7.72c-.78.78-.78 2.05 0 2.83L4 21.41c.39.39.9.59 1.41.59.51 0 1.02-.2 1.41-.59l7.78-7.78 2.81-2.81c.8-.78.8-2.07 0-2.86zM5.41 20L4 18.59l7.72-7.72 1.47 1.35L5.41 20z\"/>\n",
              "  </svg>\n",
              "      </button>\n",
              "      \n",
              "  <style>\n",
              "    .colab-df-container {\n",
              "      display:flex;\n",
              "      flex-wrap:wrap;\n",
              "      gap: 12px;\n",
              "    }\n",
              "\n",
              "    .colab-df-convert {\n",
              "      background-color: #E8F0FE;\n",
              "      border: none;\n",
              "      border-radius: 50%;\n",
              "      cursor: pointer;\n",
              "      display: none;\n",
              "      fill: #1967D2;\n",
              "      height: 32px;\n",
              "      padding: 0 0 0 0;\n",
              "      width: 32px;\n",
              "    }\n",
              "\n",
              "    .colab-df-convert:hover {\n",
              "      background-color: #E2EBFA;\n",
              "      box-shadow: 0px 1px 2px rgba(60, 64, 67, 0.3), 0px 1px 3px 1px rgba(60, 64, 67, 0.15);\n",
              "      fill: #174EA6;\n",
              "    }\n",
              "\n",
              "    [theme=dark] .colab-df-convert {\n",
              "      background-color: #3B4455;\n",
              "      fill: #D2E3FC;\n",
              "    }\n",
              "\n",
              "    [theme=dark] .colab-df-convert:hover {\n",
              "      background-color: #434B5C;\n",
              "      box-shadow: 0px 1px 3px 1px rgba(0, 0, 0, 0.15);\n",
              "      filter: drop-shadow(0px 1px 2px rgba(0, 0, 0, 0.3));\n",
              "      fill: #FFFFFF;\n",
              "    }\n",
              "  </style>\n",
              "\n",
              "      <script>\n",
              "        const buttonEl =\n",
              "          document.querySelector('#df-62d51214-b622-4b67-b41f-f2f159bc8229 button.colab-df-convert');\n",
              "        buttonEl.style.display =\n",
              "          google.colab.kernel.accessAllowed ? 'block' : 'none';\n",
              "\n",
              "        async function convertToInteractive(key) {\n",
              "          const element = document.querySelector('#df-62d51214-b622-4b67-b41f-f2f159bc8229');\n",
              "          const dataTable =\n",
              "            await google.colab.kernel.invokeFunction('convertToInteractive',\n",
              "                                                     [key], {});\n",
              "          if (!dataTable) return;\n",
              "\n",
              "          const docLinkHtml = 'Like what you see? Visit the ' +\n",
              "            '<a target=\"_blank\" href=https://colab.research.google.com/notebooks/data_table.ipynb>data table notebook</a>'\n",
              "            + ' to learn more about interactive tables.';\n",
              "          element.innerHTML = '';\n",
              "          dataTable['output_type'] = 'display_data';\n",
              "          await google.colab.output.renderOutput(dataTable, element);\n",
              "          const docLink = document.createElement('div');\n",
              "          docLink.innerHTML = docLinkHtml;\n",
              "          element.appendChild(docLink);\n",
              "        }\n",
              "      </script>\n",
              "    </div>\n",
              "  </div>\n",
              "  "
            ]
          },
          "metadata": {},
          "execution_count": 139
        }
      ]
    },
    {
      "cell_type": "markdown",
      "source": [
        "Присутпим к созаднию собственной **обучающей** и **тестовой** выборки."
      ],
      "metadata": {
        "id": "lSOmou80j66_"
      }
    },
    {
      "cell_type": "code",
      "source": [
        "X = df_train.drop([\"Energy city\", \"DateTime\"], axis = 1)\n",
        "y = df_train[\"Energy city\"]\n",
        "\n",
        "X_train, X_test, y_train, y_test = train_test_split(X, y, test_size=0.33, random_state=42)"
      ],
      "metadata": {
        "id": "K2o5theGaWeq"
      },
      "execution_count": 140,
      "outputs": []
    },
    {
      "cell_type": "code",
      "source": [
        "X_train.head()"
      ],
      "metadata": {
        "colab": {
          "base_uri": "https://localhost:8080/",
          "height": 206
        },
        "id": "3-cotihOe4Et",
        "outputId": "2e2517ac-47ae-44a9-891a-c16cc3c7949c"
      },
      "execution_count": 141,
      "outputs": [
        {
          "output_type": "execute_result",
          "data": {
            "text/plain": [
              "       Temperature  Humidity  Wind Speed  general diffuse flows  \\\n",
              "20796      22.0626     75.60     5.06966                673.300   \n",
              "12516      21.8875     49.68     5.06348                  0.059   \n",
              "26315      29.5713     69.85     5.07069                386.300   \n",
              "28424      30.3438     65.90     5.07481                504.300   \n",
              "19952      25.6882     62.90     0.07313                899.000   \n",
              "\n",
              "       diffuse flows  Month  Hour  \n",
              "20796        664.600      5    10  \n",
              "12516          0.096      3    22  \n",
              "26315        308.800      7    17  \n",
              "28424         91.000      7     9  \n",
              "19952        125.200      5    13  "
            ],
            "text/html": [
              "\n",
              "  <div id=\"df-bbb663db-71dd-441e-92cd-d813809ab93a\">\n",
              "    <div class=\"colab-df-container\">\n",
              "      <div>\n",
              "<style scoped>\n",
              "    .dataframe tbody tr th:only-of-type {\n",
              "        vertical-align: middle;\n",
              "    }\n",
              "\n",
              "    .dataframe tbody tr th {\n",
              "        vertical-align: top;\n",
              "    }\n",
              "\n",
              "    .dataframe thead th {\n",
              "        text-align: right;\n",
              "    }\n",
              "</style>\n",
              "<table border=\"1\" class=\"dataframe\">\n",
              "  <thead>\n",
              "    <tr style=\"text-align: right;\">\n",
              "      <th></th>\n",
              "      <th>Temperature</th>\n",
              "      <th>Humidity</th>\n",
              "      <th>Wind Speed</th>\n",
              "      <th>general diffuse flows</th>\n",
              "      <th>diffuse flows</th>\n",
              "      <th>Month</th>\n",
              "      <th>Hour</th>\n",
              "    </tr>\n",
              "  </thead>\n",
              "  <tbody>\n",
              "    <tr>\n",
              "      <th>20796</th>\n",
              "      <td>22.0626</td>\n",
              "      <td>75.60</td>\n",
              "      <td>5.06966</td>\n",
              "      <td>673.300</td>\n",
              "      <td>664.600</td>\n",
              "      <td>5</td>\n",
              "      <td>10</td>\n",
              "    </tr>\n",
              "    <tr>\n",
              "      <th>12516</th>\n",
              "      <td>21.8875</td>\n",
              "      <td>49.68</td>\n",
              "      <td>5.06348</td>\n",
              "      <td>0.059</td>\n",
              "      <td>0.096</td>\n",
              "      <td>3</td>\n",
              "      <td>22</td>\n",
              "    </tr>\n",
              "    <tr>\n",
              "      <th>26315</th>\n",
              "      <td>29.5713</td>\n",
              "      <td>69.85</td>\n",
              "      <td>5.07069</td>\n",
              "      <td>386.300</td>\n",
              "      <td>308.800</td>\n",
              "      <td>7</td>\n",
              "      <td>17</td>\n",
              "    </tr>\n",
              "    <tr>\n",
              "      <th>28424</th>\n",
              "      <td>30.3438</td>\n",
              "      <td>65.90</td>\n",
              "      <td>5.07481</td>\n",
              "      <td>504.300</td>\n",
              "      <td>91.000</td>\n",
              "      <td>7</td>\n",
              "      <td>9</td>\n",
              "    </tr>\n",
              "    <tr>\n",
              "      <th>19952</th>\n",
              "      <td>25.6882</td>\n",
              "      <td>62.90</td>\n",
              "      <td>0.07313</td>\n",
              "      <td>899.000</td>\n",
              "      <td>125.200</td>\n",
              "      <td>5</td>\n",
              "      <td>13</td>\n",
              "    </tr>\n",
              "  </tbody>\n",
              "</table>\n",
              "</div>\n",
              "      <button class=\"colab-df-convert\" onclick=\"convertToInteractive('df-bbb663db-71dd-441e-92cd-d813809ab93a')\"\n",
              "              title=\"Convert this dataframe to an interactive table.\"\n",
              "              style=\"display:none;\">\n",
              "        \n",
              "  <svg xmlns=\"http://www.w3.org/2000/svg\" height=\"24px\"viewBox=\"0 0 24 24\"\n",
              "       width=\"24px\">\n",
              "    <path d=\"M0 0h24v24H0V0z\" fill=\"none\"/>\n",
              "    <path d=\"M18.56 5.44l.94 2.06.94-2.06 2.06-.94-2.06-.94-.94-2.06-.94 2.06-2.06.94zm-11 1L8.5 8.5l.94-2.06 2.06-.94-2.06-.94L8.5 2.5l-.94 2.06-2.06.94zm10 10l.94 2.06.94-2.06 2.06-.94-2.06-.94-.94-2.06-.94 2.06-2.06.94z\"/><path d=\"M17.41 7.96l-1.37-1.37c-.4-.4-.92-.59-1.43-.59-.52 0-1.04.2-1.43.59L10.3 9.45l-7.72 7.72c-.78.78-.78 2.05 0 2.83L4 21.41c.39.39.9.59 1.41.59.51 0 1.02-.2 1.41-.59l7.78-7.78 2.81-2.81c.8-.78.8-2.07 0-2.86zM5.41 20L4 18.59l7.72-7.72 1.47 1.35L5.41 20z\"/>\n",
              "  </svg>\n",
              "      </button>\n",
              "      \n",
              "  <style>\n",
              "    .colab-df-container {\n",
              "      display:flex;\n",
              "      flex-wrap:wrap;\n",
              "      gap: 12px;\n",
              "    }\n",
              "\n",
              "    .colab-df-convert {\n",
              "      background-color: #E8F0FE;\n",
              "      border: none;\n",
              "      border-radius: 50%;\n",
              "      cursor: pointer;\n",
              "      display: none;\n",
              "      fill: #1967D2;\n",
              "      height: 32px;\n",
              "      padding: 0 0 0 0;\n",
              "      width: 32px;\n",
              "    }\n",
              "\n",
              "    .colab-df-convert:hover {\n",
              "      background-color: #E2EBFA;\n",
              "      box-shadow: 0px 1px 2px rgba(60, 64, 67, 0.3), 0px 1px 3px 1px rgba(60, 64, 67, 0.15);\n",
              "      fill: #174EA6;\n",
              "    }\n",
              "\n",
              "    [theme=dark] .colab-df-convert {\n",
              "      background-color: #3B4455;\n",
              "      fill: #D2E3FC;\n",
              "    }\n",
              "\n",
              "    [theme=dark] .colab-df-convert:hover {\n",
              "      background-color: #434B5C;\n",
              "      box-shadow: 0px 1px 3px 1px rgba(0, 0, 0, 0.15);\n",
              "      filter: drop-shadow(0px 1px 2px rgba(0, 0, 0, 0.3));\n",
              "      fill: #FFFFFF;\n",
              "    }\n",
              "  </style>\n",
              "\n",
              "      <script>\n",
              "        const buttonEl =\n",
              "          document.querySelector('#df-bbb663db-71dd-441e-92cd-d813809ab93a button.colab-df-convert');\n",
              "        buttonEl.style.display =\n",
              "          google.colab.kernel.accessAllowed ? 'block' : 'none';\n",
              "\n",
              "        async function convertToInteractive(key) {\n",
              "          const element = document.querySelector('#df-bbb663db-71dd-441e-92cd-d813809ab93a');\n",
              "          const dataTable =\n",
              "            await google.colab.kernel.invokeFunction('convertToInteractive',\n",
              "                                                     [key], {});\n",
              "          if (!dataTable) return;\n",
              "\n",
              "          const docLinkHtml = 'Like what you see? Visit the ' +\n",
              "            '<a target=\"_blank\" href=https://colab.research.google.com/notebooks/data_table.ipynb>data table notebook</a>'\n",
              "            + ' to learn more about interactive tables.';\n",
              "          element.innerHTML = '';\n",
              "          dataTable['output_type'] = 'display_data';\n",
              "          await google.colab.output.renderOutput(dataTable, element);\n",
              "          const docLink = document.createElement('div');\n",
              "          docLink.innerHTML = docLinkHtml;\n",
              "          element.appendChild(docLink);\n",
              "        }\n",
              "      </script>\n",
              "    </div>\n",
              "  </div>\n",
              "  "
            ]
          },
          "metadata": {},
          "execution_count": 141
        }
      ]
    },
    {
      "cell_type": "markdown",
      "source": [
        "## Выбор модели обучения\n",
        "\n",
        "Многообразие выбора моделей линейной регресии, попробуй все варианты и узнай кто из них лучше всего справляется с этой задачей.\n",
        "\n",
        "**Важно**: *не забывай что у каждой модели есть свои параметры которые стоить изменить.*"
      ],
      "metadata": {
        "id": "-3CppukvosOG"
      }
    },
    {
      "cell_type": "code",
      "source": [
        "models = [LinearRegression(),        # метод наименьших квадратов\n",
        "\t          RandomForestRegressor(), # случайный лес\n",
        "\t          KNeighborsRegressor(),   # метод ближайших соседей\n",
        "\t          SVR(kernel='linear')]    # метод опорных векторов с линейным ядром"
      ],
      "metadata": {
        "id": "yfoNqzXUaWhA"
      },
      "execution_count": 143,
      "outputs": []
    },
    {
      "cell_type": "code",
      "source": [
        "model = models[0].fit(X_train, y_train)"
      ],
      "metadata": {
        "id": "yaBQqrRvaWjo"
      },
      "execution_count": 144,
      "outputs": []
    },
    {
      "cell_type": "markdown",
      "source": [
        "За счет обученой модели **предскажем** значения целового столбца."
      ],
      "metadata": {
        "id": "-q2R8s5CkpfD"
      }
    },
    {
      "cell_type": "code",
      "source": [
        "y_prediction = model.predict(X_test)"
      ],
      "metadata": {
        "id": "tjBPPoQcaXD1"
      },
      "execution_count": 145,
      "outputs": []
    },
    {
      "cell_type": "markdown",
      "source": [
        "В качестве метрики оценки оценивания качества модели будем использовать **коэффициент детерминации**, или R². Так как он используется в проверке тестового решения задачи. Отличительной чертой R² является удобство интерпритации ведь его значения всегда будут между **-∞** и **1**.\n",
        "\n"
      ],
      "metadata": {
        "id": "fA_ejFDymd98"
      }
    },
    {
      "cell_type": "code",
      "source": [
        "r2_score(y_test, model.predict(X_test))"
      ],
      "metadata": {
        "colab": {
          "base_uri": "https://localhost:8080/"
        },
        "id": "7mJB1HQ3aXGS",
        "outputId": "d05aa1de-4a1c-4916-9c6d-a6059f91bd15"
      },
      "execution_count": 146,
      "outputs": [
        {
          "output_type": "execute_result",
          "data": {
            "text/plain": [
              "0.6195285526653613"
            ]
          },
          "metadata": {},
          "execution_count": 146
        }
      ]
    },
    {
      "cell_type": "markdown",
      "source": [
        "## Генерация ответа"
      ],
      "metadata": {
        "id": "Ymawon33plIx"
      }
    },
    {
      "cell_type": "code",
      "source": [
        "X = df_test.drop([\"Energy city\", \"DateTime\"], axis = 1)\n",
        "X[\"Month\"] = pd.to_datetime(df_test[\"DateTime\"]).dt.month\n",
        "X[\"Hour\"] = pd.to_datetime(df_test[\"DateTime\"]).dt.hour "
      ],
      "metadata": {
        "id": "AzC2gLkOpzBd"
      },
      "execution_count": 157,
      "outputs": []
    },
    {
      "cell_type": "code",
      "source": [
        "df_test[\"Energy city\"] = model.predict(X)"
      ],
      "metadata": {
        "id": "3xCQradRp_LV"
      },
      "execution_count": 158,
      "outputs": []
    },
    {
      "cell_type": "code",
      "source": [
        "df_test.head()"
      ],
      "metadata": {
        "colab": {
          "base_uri": "https://localhost:8080/",
          "height": 250
        },
        "id": "f69pa4D6qH-f",
        "outputId": "a53de604-641b-487b-f23d-a41d21a7a9ff"
      },
      "execution_count": 159,
      "outputs": [
        {
          "output_type": "execute_result",
          "data": {
            "text/plain": [
              "               DateTime  Temperature  Humidity  Wind Speed  \\\n",
              "15506  04/17/2021/16:20      25.5028     29.73     0.08755   \n",
              "51943  12/26/2021/17:10      18.4576     54.44     0.08755   \n",
              "212    01/01/2021/11:20      17.5924     57.23     0.07828   \n",
              "11210  03/18/2021/20:20      14.8526     72.30     0.08343   \n",
              "16307  04/23/2021/05:50      17.0774     80.60     0.08240   \n",
              "\n",
              "       general diffuse flows  diffuse flows   Energy city  \n",
              "15506                615.500        664.800  75708.735796  \n",
              "51943                 19.120         19.340  75680.118633  \n",
              "212                  396.600         40.660  70318.235851  \n",
              "11210                  0.062          0.148  82163.462118  \n",
              "16307                  0.018          0.204  60555.845016  "
            ],
            "text/html": [
              "\n",
              "  <div id=\"df-09c5c678-b8ef-4908-9518-d1abace09a75\">\n",
              "    <div class=\"colab-df-container\">\n",
              "      <div>\n",
              "<style scoped>\n",
              "    .dataframe tbody tr th:only-of-type {\n",
              "        vertical-align: middle;\n",
              "    }\n",
              "\n",
              "    .dataframe tbody tr th {\n",
              "        vertical-align: top;\n",
              "    }\n",
              "\n",
              "    .dataframe thead th {\n",
              "        text-align: right;\n",
              "    }\n",
              "</style>\n",
              "<table border=\"1\" class=\"dataframe\">\n",
              "  <thead>\n",
              "    <tr style=\"text-align: right;\">\n",
              "      <th></th>\n",
              "      <th>DateTime</th>\n",
              "      <th>Temperature</th>\n",
              "      <th>Humidity</th>\n",
              "      <th>Wind Speed</th>\n",
              "      <th>general diffuse flows</th>\n",
              "      <th>diffuse flows</th>\n",
              "      <th>Energy city</th>\n",
              "    </tr>\n",
              "  </thead>\n",
              "  <tbody>\n",
              "    <tr>\n",
              "      <th>15506</th>\n",
              "      <td>04/17/2021/16:20</td>\n",
              "      <td>25.5028</td>\n",
              "      <td>29.73</td>\n",
              "      <td>0.08755</td>\n",
              "      <td>615.500</td>\n",
              "      <td>664.800</td>\n",
              "      <td>75708.735796</td>\n",
              "    </tr>\n",
              "    <tr>\n",
              "      <th>51943</th>\n",
              "      <td>12/26/2021/17:10</td>\n",
              "      <td>18.4576</td>\n",
              "      <td>54.44</td>\n",
              "      <td>0.08755</td>\n",
              "      <td>19.120</td>\n",
              "      <td>19.340</td>\n",
              "      <td>75680.118633</td>\n",
              "    </tr>\n",
              "    <tr>\n",
              "      <th>212</th>\n",
              "      <td>01/01/2021/11:20</td>\n",
              "      <td>17.5924</td>\n",
              "      <td>57.23</td>\n",
              "      <td>0.07828</td>\n",
              "      <td>396.600</td>\n",
              "      <td>40.660</td>\n",
              "      <td>70318.235851</td>\n",
              "    </tr>\n",
              "    <tr>\n",
              "      <th>11210</th>\n",
              "      <td>03/18/2021/20:20</td>\n",
              "      <td>14.8526</td>\n",
              "      <td>72.30</td>\n",
              "      <td>0.08343</td>\n",
              "      <td>0.062</td>\n",
              "      <td>0.148</td>\n",
              "      <td>82163.462118</td>\n",
              "    </tr>\n",
              "    <tr>\n",
              "      <th>16307</th>\n",
              "      <td>04/23/2021/05:50</td>\n",
              "      <td>17.0774</td>\n",
              "      <td>80.60</td>\n",
              "      <td>0.08240</td>\n",
              "      <td>0.018</td>\n",
              "      <td>0.204</td>\n",
              "      <td>60555.845016</td>\n",
              "    </tr>\n",
              "  </tbody>\n",
              "</table>\n",
              "</div>\n",
              "      <button class=\"colab-df-convert\" onclick=\"convertToInteractive('df-09c5c678-b8ef-4908-9518-d1abace09a75')\"\n",
              "              title=\"Convert this dataframe to an interactive table.\"\n",
              "              style=\"display:none;\">\n",
              "        \n",
              "  <svg xmlns=\"http://www.w3.org/2000/svg\" height=\"24px\"viewBox=\"0 0 24 24\"\n",
              "       width=\"24px\">\n",
              "    <path d=\"M0 0h24v24H0V0z\" fill=\"none\"/>\n",
              "    <path d=\"M18.56 5.44l.94 2.06.94-2.06 2.06-.94-2.06-.94-.94-2.06-.94 2.06-2.06.94zm-11 1L8.5 8.5l.94-2.06 2.06-.94-2.06-.94L8.5 2.5l-.94 2.06-2.06.94zm10 10l.94 2.06.94-2.06 2.06-.94-2.06-.94-.94-2.06-.94 2.06-2.06.94z\"/><path d=\"M17.41 7.96l-1.37-1.37c-.4-.4-.92-.59-1.43-.59-.52 0-1.04.2-1.43.59L10.3 9.45l-7.72 7.72c-.78.78-.78 2.05 0 2.83L4 21.41c.39.39.9.59 1.41.59.51 0 1.02-.2 1.41-.59l7.78-7.78 2.81-2.81c.8-.78.8-2.07 0-2.86zM5.41 20L4 18.59l7.72-7.72 1.47 1.35L5.41 20z\"/>\n",
              "  </svg>\n",
              "      </button>\n",
              "      \n",
              "  <style>\n",
              "    .colab-df-container {\n",
              "      display:flex;\n",
              "      flex-wrap:wrap;\n",
              "      gap: 12px;\n",
              "    }\n",
              "\n",
              "    .colab-df-convert {\n",
              "      background-color: #E8F0FE;\n",
              "      border: none;\n",
              "      border-radius: 50%;\n",
              "      cursor: pointer;\n",
              "      display: none;\n",
              "      fill: #1967D2;\n",
              "      height: 32px;\n",
              "      padding: 0 0 0 0;\n",
              "      width: 32px;\n",
              "    }\n",
              "\n",
              "    .colab-df-convert:hover {\n",
              "      background-color: #E2EBFA;\n",
              "      box-shadow: 0px 1px 2px rgba(60, 64, 67, 0.3), 0px 1px 3px 1px rgba(60, 64, 67, 0.15);\n",
              "      fill: #174EA6;\n",
              "    }\n",
              "\n",
              "    [theme=dark] .colab-df-convert {\n",
              "      background-color: #3B4455;\n",
              "      fill: #D2E3FC;\n",
              "    }\n",
              "\n",
              "    [theme=dark] .colab-df-convert:hover {\n",
              "      background-color: #434B5C;\n",
              "      box-shadow: 0px 1px 3px 1px rgba(0, 0, 0, 0.15);\n",
              "      filter: drop-shadow(0px 1px 2px rgba(0, 0, 0, 0.3));\n",
              "      fill: #FFFFFF;\n",
              "    }\n",
              "  </style>\n",
              "\n",
              "      <script>\n",
              "        const buttonEl =\n",
              "          document.querySelector('#df-09c5c678-b8ef-4908-9518-d1abace09a75 button.colab-df-convert');\n",
              "        buttonEl.style.display =\n",
              "          google.colab.kernel.accessAllowed ? 'block' : 'none';\n",
              "\n",
              "        async function convertToInteractive(key) {\n",
              "          const element = document.querySelector('#df-09c5c678-b8ef-4908-9518-d1abace09a75');\n",
              "          const dataTable =\n",
              "            await google.colab.kernel.invokeFunction('convertToInteractive',\n",
              "                                                     [key], {});\n",
              "          if (!dataTable) return;\n",
              "\n",
              "          const docLinkHtml = 'Like what you see? Visit the ' +\n",
              "            '<a target=\"_blank\" href=https://colab.research.google.com/notebooks/data_table.ipynb>data table notebook</a>'\n",
              "            + ' to learn more about interactive tables.';\n",
              "          element.innerHTML = '';\n",
              "          dataTable['output_type'] = 'display_data';\n",
              "          await google.colab.output.renderOutput(dataTable, element);\n",
              "          const docLink = document.createElement('div');\n",
              "          docLink.innerHTML = docLinkHtml;\n",
              "          element.appendChild(docLink);\n",
              "        }\n",
              "      </script>\n",
              "    </div>\n",
              "  </div>\n",
              "  "
            ]
          },
          "metadata": {},
          "execution_count": 159
        }
      ]
    },
    {
      "cell_type": "code",
      "source": [
        "df_test.sort_index().to_csv(\"submit.csv\")"
      ],
      "metadata": {
        "id": "5AJ_OK1cqukg"
      },
      "execution_count": 163,
      "outputs": []
    }
  ]
}